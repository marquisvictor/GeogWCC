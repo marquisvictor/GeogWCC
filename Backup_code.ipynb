{
 "cells": [
  {
   "cell_type": "code",
   "execution_count": null,
   "id": "e800a065",
   "metadata": {},
   "outputs": [],
   "source": [
    "import pandas as pd\n",
    "import numpy as np\n",
    "import warnings\n",
    "warnings.filterwarnings('ignore')\n",
    "from mgwr.gwr import GWR, MGWR, GWRResults\n",
    "from mgwr.sel_bw import Sel_BW\n",
    "from scipy import stats\n",
    "import matplotlib.pyplot as plt\n",
    "\n",
    "\n",
    "\n",
    "import seaborn as sns\n",
    "\n",
    "import geopandas as gpd\n",
    "%matplotlib inline\n",
    "sns.set(color_codes=True)\n",
    "from matplotlib_scalebar.scalebar import ScaleBar\n",
    "\n",
    "from sklearn.preprocessing import StandardScaler\n",
    "scaler = StandardScaler()\n",
    "\n",
    "\n",
    "gsv = pd.read_csv('./data/gsv_indicators_summarized_county.csv')\n",
    "zipcode = pd.read_csv('./data/zip_code_database.csv')\n",
    "census = pd.read_csv('./data/summary_zipcode_oct_1_2020.csv')\n",
    "\n",
    "df = pd.read_csv('./data/ACSST1Y2021.S2504-Data.csv')"
   ]
  },
  {
   "cell_type": "code",
   "execution_count": null,
   "id": "f58450ee",
   "metadata": {},
   "outputs": [],
   "source": [
    "gsv = gsv.apply(lambda x: x * 100) # optimize code later\n",
    "gsv['county'] = gsv.county//100"
   ]
  },
  {
   "cell_type": "code",
   "execution_count": null,
   "id": "a7b9b482",
   "metadata": {},
   "outputs": [],
   "source": [
    "not_residential = df[['Geography','Estimate Percent occupied housing units Occupied housing units UNITS IN STRUCTURE 10 or more apartments']]"
   ]
  },
  {
   "cell_type": "code",
   "execution_count": null,
   "id": "fe35a834",
   "metadata": {},
   "outputs": [],
   "source": [
    "not_residential.rename(columns={'Estimate Percent occupied housing units Occupied housing units UNITS IN STRUCTURE 10 or more apartments':'apartments', 'Geography':'County'}, inplace=True)"
   ]
  },
  {
   "cell_type": "code",
   "execution_count": null,
   "id": "cc04847c",
   "metadata": {},
   "outputs": [],
   "source": [
    "not_residential['County'] = not_residential['County'].str.split('S', expand=True)[1]\n",
    "not_residential['County'] = not_residential['County'].astype(int)\n",
    "\n",
    "# not_residential.head()"
   ]
  },
  {
   "cell_type": "code",
   "execution_count": null,
   "id": "40010ce7",
   "metadata": {},
   "outputs": [],
   "source": [
    "# Merge df with GSV indicators\n",
    "\n",
    "merged = gsv.merge(not_residential, left_on='county', right_on='County', how='inner')"
   ]
  },
  {
   "cell_type": "code",
   "execution_count": null,
   "id": "66632a1d",
   "metadata": {},
   "outputs": [],
   "source": [
    "import geopandas as gpd\n",
    "from geopandas import GeoDataFrame\n",
    "\n",
    "counties = gpd.read_file('https://cdn.jsdelivr.net/npm/us-atlas@3/counties-10m.json')\\\n",
    "                                                                            .sort_values(by='id').reset_index(drop=True)\n",
    "\n",
    "empty = counties['geometry'].is_empty\n",
    "counties_non_empty = counties[~empty]"
   ]
  },
  {
   "cell_type": "code",
   "execution_count": null,
   "id": "fc05a014",
   "metadata": {},
   "outputs": [],
   "source": [
    "counties_non_empty['lon'] = counties_non_empty['geometry'].centroid.x\n",
    "counties_non_empty['lat'] = counties_non_empty['geometry'].centroid.y\n",
    "counties_non_empty['id'] = counties_non_empty['id'].astype('int')"
   ]
  },
  {
   "cell_type": "code",
   "execution_count": null,
   "id": "04cbfdcc",
   "metadata": {},
   "outputs": [],
   "source": [
    "data = merged.merge(counties_non_empty, left_on='county', right_on='id', how='inner')"
   ]
  },
  {
   "cell_type": "code",
   "execution_count": null,
   "id": "770d8dff",
   "metadata": {},
   "outputs": [],
   "source": [
    "data.drop(['County', 'id', 'name'], axis=1, inplace=True)"
   ]
  },
  {
   "cell_type": "code",
   "execution_count": null,
   "id": "1342e11d",
   "metadata": {},
   "outputs": [],
   "source": [
    "data['apartments'] = data['apartments'].apply(lambda x: pd.to_numeric(x, errors='coerce'))\n",
    "data = data.dropna()"
   ]
  },
  {
   "cell_type": "code",
   "execution_count": null,
   "id": "e0869fc3",
   "metadata": {},
   "outputs": [],
   "source": [
    "g_y = data['prop_sidewalk'].values.reshape((-1,1))\n",
    "g_X = data[['apartments']].values\n",
    "\n",
    "u = data['lon']\n",
    "v = data['lat']\n",
    "\n",
    "g_coords = list(zip(u,v))\n",
    "\n",
    "# data.head(2)"
   ]
  },
  {
   "cell_type": "code",
   "execution_count": null,
   "id": "580d6287",
   "metadata": {},
   "outputs": [],
   "source": [
    "# gdf = GeoDataFrame(data, crs=\"EPSG:4326\")  # change the EPSG, see whether the result changes\n",
    "\n",
    "# # gdf.plot(figsize=(50, 50))\n",
    "\n",
    "# fig, ax = plt.subplots(figsize=(30,30))\n",
    "# gdf.plot(ax=ax, color='tomato')\n",
    "# minx, miny, maxx, maxy = gdf.total_bounds\n",
    "# ax.set_xlim(minx, maxx)\n",
    "# ax.set_ylim(miny, maxy)"
   ]
  },
  {
   "cell_type": "code",
   "execution_count": null,
   "id": "edc5b39c",
   "metadata": {},
   "outputs": [],
   "source": [
    "gwr_selector_o = Sel_BW(g_coords, g_y, g_X)\n",
    "gwr_bw_o = gwr_selector_o.search()\n",
    "print(gwr_bw_o)\n",
    "gwr_results_o = GWR(g_coords, g_y, g_X, gwr_bw_o, constant=True, lwcc=False).fit()\n",
    "gwr_results_o.summary()"
   ]
  },
  {
   "cell_type": "code",
   "execution_count": null,
   "id": "23cac966",
   "metadata": {},
   "outputs": [],
   "source": [
    "for i in range(len(g_X)):\n",
    "    wi = gwr_results_o.model._build_wi(i, gwr_bw_o).reshape(-1,1)\n",
    "    x = g_X\n",
    "    xi_mean = (x*wi).mean()\n",
    "    y= g_y\n",
    "    yi_mean = (y*wi).mean()\n",
    "    numerator = wi*((x - xi_mean) * (y - yi_mean))\n",
    "    denom = (wi*((np.sqrt((x - xi_mean)**2))) * ((np.sqrt((y - yi_mean)**2))))\n",
    "    r = (numerator/denom)\n",
    "    r[np.isnan(r)] = 0\n",
    "\n",
    "    \n",
    "r.mean()"
   ]
  },
  {
   "cell_type": "code",
   "execution_count": null,
   "id": "745ddf5b",
   "metadata": {},
   "outputs": [],
   "source": [
    "# x_ = np.hstack((x,y))\n",
    "\n",
    "# a_,_,_ = gwr_results_o.local_collinearity()\n",
    "\n",
    "\n",
    "# a"
   ]
  },
  {
   "cell_type": "code",
   "execution_count": null,
   "id": "79db3cef",
   "metadata": {},
   "outputs": [],
   "source": [
    "def corr(cov):\n",
    "    invsd = np.diag(1 / np.sqrt(np.diag(cov)))\n",
    "    cors = np.dot(np.dot(invsd, cov), invsd)\n",
    "    return cors\n",
    "\n",
    "corr_mati = corr(np.cov(x_.T, aweights=wi))"
   ]
  },
  {
   "cell_type": "code",
   "execution_count": null,
   "id": "29e2034c",
   "metadata": {},
   "outputs": [],
   "source": []
  },
  {
   "cell_type": "code",
   "execution_count": null,
   "id": "c112f532",
   "metadata": {},
   "outputs": [],
   "source": []
  },
  {
   "cell_type": "code",
   "execution_count": null,
   "id": "456708e9",
   "metadata": {},
   "outputs": [],
   "source": []
  },
  {
   "cell_type": "code",
   "execution_count": null,
   "id": "e8769139",
   "metadata": {},
   "outputs": [],
   "source": []
  },
  {
   "cell_type": "code",
   "execution_count": null,
   "id": "a1c7d2cf",
   "metadata": {},
   "outputs": [],
   "source": []
  },
  {
   "cell_type": "code",
   "execution_count": null,
   "id": "43588fa3",
   "metadata": {},
   "outputs": [],
   "source": []
  },
  {
   "cell_type": "code",
   "execution_count": null,
   "id": "516c2ab0",
   "metadata": {},
   "outputs": [],
   "source": []
  },
  {
   "cell_type": "code",
   "execution_count": null,
   "id": "7eba0d99",
   "metadata": {},
   "outputs": [],
   "source": []
  },
  {
   "cell_type": "code",
   "execution_count": null,
   "id": "760c4c72",
   "metadata": {},
   "outputs": [],
   "source": []
  },
  {
   "cell_type": "code",
   "execution_count": null,
   "id": "28a81cfc",
   "metadata": {},
   "outputs": [],
   "source": []
  },
  {
   "cell_type": "code",
   "execution_count": null,
   "id": "5efd286e",
   "metadata": {},
   "outputs": [],
   "source": []
  },
  {
   "cell_type": "code",
   "execution_count": null,
   "id": "9a730cde",
   "metadata": {},
   "outputs": [],
   "source": []
  },
  {
   "cell_type": "code",
   "execution_count": null,
   "id": "53ec601a",
   "metadata": {},
   "outputs": [],
   "source": []
  },
  {
   "cell_type": "code",
   "execution_count": null,
   "id": "b32f9384",
   "metadata": {},
   "outputs": [],
   "source": []
  },
  {
   "cell_type": "code",
   "execution_count": null,
   "id": "faaed38d",
   "metadata": {},
   "outputs": [],
   "source": []
  }
 ],
 "metadata": {
  "kernelspec": {
   "display_name": "Python 3 (ipykernel)",
   "language": "python",
   "name": "python3"
  },
  "language_info": {
   "codemirror_mode": {
    "name": "ipython",
    "version": 3
   },
   "file_extension": ".py",
   "mimetype": "text/x-python",
   "name": "python",
   "nbconvert_exporter": "python",
   "pygments_lexer": "ipython3",
   "version": "3.9.12"
  }
 },
 "nbformat": 4,
 "nbformat_minor": 5
}
