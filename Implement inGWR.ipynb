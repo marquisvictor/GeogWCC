{
 "cells": [
  {
   "cell_type": "markdown",
   "id": "4cff071a",
   "metadata": {},
   "source": [
    "#### Importing dependencies"
   ]
  },
  {
   "cell_type": "code",
   "execution_count": 1,
   "id": "e23b916c",
   "metadata": {},
   "outputs": [],
   "source": [
    "import pandas as pd\n",
    "import numpy as np\n",
    "import geopandas as gp\n",
    "import libpysal as ps\n",
    "from mgwr.gwr import GWR, MGWR, GWRResults\n",
    "from mgwr.sel_bw import Sel_BW\n",
    "from scipy import stats\n",
    "from sklearn.preprocessing import StandardScaler\n",
    "import warnings\n",
    "warnings.filterwarnings('ignore')\n",
    "\n",
    "\n",
    "scaler = StandardScaler()\n",
    "\n"
   ]
  },
  {
   "cell_type": "markdown",
   "id": "b60acad8",
   "metadata": {},
   "source": [
    "#### Initialize and view some rows"
   ]
  },
  {
   "cell_type": "code",
   "execution_count": 11,
   "id": "255965b4",
   "metadata": {},
   "outputs": [
    {
     "data": {
      "text/html": [
       "<div>\n",
       "<style scoped>\n",
       "    .dataframe tbody tr th:only-of-type {\n",
       "        vertical-align: middle;\n",
       "    }\n",
       "\n",
       "    .dataframe tbody tr th {\n",
       "        vertical-align: top;\n",
       "    }\n",
       "\n",
       "    .dataframe thead th {\n",
       "        text-align: right;\n",
       "    }\n",
       "</style>\n",
       "<table border=\"1\" class=\"dataframe\">\n",
       "  <thead>\n",
       "    <tr style=\"text-align: right;\">\n",
       "      <th></th>\n",
       "      <th>AreaKey</th>\n",
       "      <th>Latitude</th>\n",
       "      <th>Longitud</th>\n",
       "      <th>TotPop90</th>\n",
       "      <th>PctRural</th>\n",
       "      <th>PctBach</th>\n",
       "      <th>PctEld</th>\n",
       "      <th>PctFB</th>\n",
       "      <th>PctPov</th>\n",
       "      <th>PctBlack</th>\n",
       "      <th>ID</th>\n",
       "      <th>X</th>\n",
       "      <th>Y</th>\n",
       "    </tr>\n",
       "  </thead>\n",
       "  <tbody>\n",
       "    <tr>\n",
       "      <th>0</th>\n",
       "      <td>13001</td>\n",
       "      <td>31.75339</td>\n",
       "      <td>-82.28558</td>\n",
       "      <td>15744</td>\n",
       "      <td>75.6</td>\n",
       "      <td>8.2</td>\n",
       "      <td>11.43</td>\n",
       "      <td>0.64</td>\n",
       "      <td>19.9</td>\n",
       "      <td>20.76</td>\n",
       "      <td>133</td>\n",
       "      <td>941396.6</td>\n",
       "      <td>3521764.0</td>\n",
       "    </tr>\n",
       "    <tr>\n",
       "      <th>1</th>\n",
       "      <td>13003</td>\n",
       "      <td>31.29486</td>\n",
       "      <td>-82.87474</td>\n",
       "      <td>6213</td>\n",
       "      <td>100.0</td>\n",
       "      <td>6.4</td>\n",
       "      <td>11.77</td>\n",
       "      <td>1.58</td>\n",
       "      <td>26.0</td>\n",
       "      <td>26.86</td>\n",
       "      <td>158</td>\n",
       "      <td>895553.0</td>\n",
       "      <td>3471916.0</td>\n",
       "    </tr>\n",
       "    <tr>\n",
       "      <th>2</th>\n",
       "      <td>13005</td>\n",
       "      <td>31.55678</td>\n",
       "      <td>-82.45115</td>\n",
       "      <td>9566</td>\n",
       "      <td>61.7</td>\n",
       "      <td>6.6</td>\n",
       "      <td>11.11</td>\n",
       "      <td>0.27</td>\n",
       "      <td>24.1</td>\n",
       "      <td>15.42</td>\n",
       "      <td>146</td>\n",
       "      <td>930946.4</td>\n",
       "      <td>3502787.0</td>\n",
       "    </tr>\n",
       "  </tbody>\n",
       "</table>\n",
       "</div>"
      ],
      "text/plain": [
       "   AreaKey  Latitude  Longitud  TotPop90  PctRural  PctBach  PctEld  PctFB  \\\n",
       "0    13001  31.75339 -82.28558     15744      75.6      8.2   11.43   0.64   \n",
       "1    13003  31.29486 -82.87474      6213     100.0      6.4   11.77   1.58   \n",
       "2    13005  31.55678 -82.45115      9566      61.7      6.6   11.11   0.27   \n",
       "\n",
       "   PctPov  PctBlack   ID         X          Y  \n",
       "0    19.9     20.76  133  941396.6  3521764.0  \n",
       "1    26.0     26.86  158  895553.0  3471916.0  \n",
       "2    24.1     15.42  146  930946.4  3502787.0  "
      ]
     },
     "execution_count": 11,
     "metadata": {},
     "output_type": "execute_result"
    }
   ],
   "source": [
    "georgia_data = pd.read_csv(ps.examples.get_path('GData_utm.csv'))\n",
    "georgia_shp = gp.read_file(ps.examples.get_path('G_utm.shp'))\n",
    "\n",
    "g_y = georgia_data['PctBach'].values.reshape((-1,1))\n",
    "# g_X = georgia_data[['PctFB', 'PctRural', 'PctBlack']].values\n",
    "g_X = georgia_data[['PctEld']].values\n",
    "\n",
    "u = georgia_data['X']\n",
    "v = georgia_data['Y']\n",
    "\n",
    "g_coords = list(zip(u,v))\n",
    "\n",
    "georgia_data.head(3)"
   ]
  },
  {
   "cell_type": "code",
   "execution_count": 12,
   "id": "f12efd04",
   "metadata": {},
   "outputs": [
    {
     "data": {
      "text/plain": [
       "(159, 1)"
      ]
     },
     "execution_count": 12,
     "metadata": {},
     "output_type": "execute_result"
    }
   ],
   "source": [
    "g_X.shape"
   ]
  },
  {
   "cell_type": "markdown",
   "id": "091beab5",
   "metadata": {},
   "source": [
    "#### LWCC"
   ]
  },
  {
   "cell_type": "code",
   "execution_count": 19,
   "id": "168006b5",
   "metadata": {
    "scrolled": false
   },
   "outputs": [
    {
     "name": "stdout",
     "output_type": "stream",
     "text": [
      "50.0\n",
      "===========================================================================\n",
      "Model type                                                         Gaussian\n",
      "Number of observations:                                                 159\n",
      "Number of covariates:                                                     1\n",
      "\n",
      "Global Regression Results\n",
      "---------------------------------------------------------------------------\n",
      "Residual sum of squares:                                           8498.739\n",
      "Log-likelihood:                                                    -541.923\n",
      "AIC:                                                               1085.847\n",
      "AICc:                                                              1087.924\n",
      "BIC:                                                               7697.852\n",
      "R2:                                                                  -0.657\n",
      "Adj. R2:                                                             -0.657\n",
      "\n",
      "Variable                              Est.         SE  t(Est/SE)    p-value\n",
      "------------------------------- ---------- ---------- ---------- ----------\n",
      "X0                                   0.818      0.048     17.076      0.000\n",
      "\n",
      "Geographically Weighted Regression (GWR) Results\n",
      "---------------------------------------------------------------------------\n",
      "Spatial kernel:                                           Adaptive bisquare\n",
      "Bandwidth used:                                                      50.000\n",
      "\n",
      "Diagnostic information\n",
      "---------------------------------------------------------------------------\n",
      "Residual sum of squares:                                           8917.385\n",
      "Effective number of parameters (trace(S)):                           48.895\n",
      "Degree of freedom (n - trace(S)):                                   110.105\n",
      "Sigma estimate:                                                       8.999\n",
      "Log-likelihood:                                                    -545.746\n",
      "AIC:                                                               1191.282\n",
      "AICc:                                                              1238.262\n",
      "BIC:                                                               1344.405\n",
      "R2:                                                                  -0.739\n",
      "Adjusted R2:                                                         -1.518\n",
      "Adj. alpha (95%):                                                     0.001\n",
      "Adj. critical t value (95%):                                          3.347\n",
      "\n",
      "Summary Statistics For GWR Parameter Estimates\n",
      "---------------------------------------------------------------------------\n",
      "Variable                   Mean        STD        Min     Median        Max\n",
      "-------------------- ---------- ---------- ---------- ---------- ----------\n",
      "X0                        0.814      0.078      0.679      0.811      0.957\n",
      "===========================================================================\n",
      "\n"
     ]
    }
   ],
   "source": [
    "gwr_selector = Sel_BW(g_coords, g_y, g_X)\n",
    "gwr_bw = gwr_selector.search()\n",
    "print(gwr_bw)\n",
    "gwr_results = GWR(g_coords, g_y, g_X, gwr_bw, constant=False, lwcc=True).fit()\n",
    "gwr_results.summary()"
   ]
  },
  {
   "cell_type": "markdown",
   "id": "1e824ba5",
   "metadata": {},
   "source": [
    "### Check"
   ]
  },
  {
   "cell_type": "code",
   "execution_count": 20,
   "id": "2bfd2175",
   "metadata": {},
   "outputs": [
    {
     "data": {
      "text/plain": [
       "0.8139719277315267"
      ]
     },
     "execution_count": 20,
     "metadata": {},
     "output_type": "execute_result"
    }
   ],
   "source": [
    "corr = []\n",
    "\n",
    "for i in range(len(g_X)):\n",
    "    wi = gwr_results.model._build_wi(i, gwr_bw).reshape(-1,1)\n",
    "    xw = g_X*wi\n",
    "    yw = g_y*wi\n",
    "    corr_coef, _ = stats.pearsonr(xw.flatten(), yw.flatten())\n",
    "    corr.append(corr_coef)\n",
    "\n",
    "np.array(corr).mean()"
   ]
  },
  {
   "cell_type": "markdown",
   "id": "848157d9",
   "metadata": {},
   "source": [
    "### Correlation coefficient for each location"
   ]
  },
  {
   "cell_type": "code",
   "execution_count": 21,
   "id": "94c7ccf0",
   "metadata": {},
   "outputs": [
    {
     "name": "stdout",
     "output_type": "stream",
     "text": [
      "0.9370513912157044\n"
     ]
    }
   ],
   "source": [
    "wi_OLS =  gwr_results.model._build_wi(2, gwr_bw).reshape(-1,1)\n",
    "\n",
    "x = g_X\n",
    "y= g_y\n",
    "\n",
    "xi = x * wi_OLS\n",
    "yi = y * wi_OLS\n",
    "\n",
    "corr_coef, _ = stats.pearsonr(xi.flatten(), yi.flatten())\n",
    "print(corr_coef)"
   ]
  },
  {
   "cell_type": "code",
   "execution_count": 22,
   "id": "26f65dfe",
   "metadata": {},
   "outputs": [
    {
     "data": {
      "text/plain": [
       "array([[0.91980963],\n",
       "       [0.92363256],\n",
       "       [0.93705139],\n",
       "       [0.87975878],\n",
       "       [0.87873139],\n",
       "       [0.7344805 ],\n",
       "       [0.71209177],\n",
       "       [0.69459503],\n",
       "       [0.93908483],\n",
       "       [0.90555496]])"
      ]
     },
     "execution_count": 22,
     "metadata": {},
     "output_type": "execute_result"
    }
   ],
   "source": [
    "gwr_results.params[:10]"
   ]
  },
  {
   "cell_type": "code",
   "execution_count": 23,
   "id": "2507b2ae",
   "metadata": {},
   "outputs": [
    {
     "data": {
      "text/plain": [
       "-0.4584957175756039"
      ]
     },
     "execution_count": 23,
     "metadata": {},
     "output_type": "execute_result"
    }
   ],
   "source": [
    "# Global correlation coefficient \n",
    "\n",
    "corr_coef, _ = stats.pearsonr(g_X.flatten(), g_y.flatten())\n",
    "corr_coef"
   ]
  },
  {
   "cell_type": "markdown",
   "id": "6b814275",
   "metadata": {},
   "source": [
    "***"
   ]
  },
  {
   "cell_type": "markdown",
   "id": "7e06d02f",
   "metadata": {},
   "source": [
    "****"
   ]
  },
  {
   "cell_type": "markdown",
   "id": "d49a383f",
   "metadata": {},
   "source": [
    "Rough area"
   ]
  },
  {
   "cell_type": "code",
   "execution_count": 17,
   "id": "ed838c74",
   "metadata": {},
   "outputs": [],
   "source": [
    "# wi =  gwr_results.model._build_wi(0, gwr_bw).reshape(-1,1)\n",
    "# # wi = np.sqrt(wi)\n",
    "\n",
    "# xcc = g_X\n",
    "# xcc_mean = (xcc).mean(axis=0)\n",
    "\n",
    "# ycc = g_y\n",
    "# ycc_mean = (ycc).mean(axis=0)\n",
    "\n",
    "# numerator = (((xcc - xcc_mean) * (ycc - ycc_mean))*wi)\n",
    "# denom = (np.sqrt((xcc - xcc_mean)**2)) * (np.sqrt((ycc - ycc_mean)**2))\n",
    "\n",
    "# r = (numerator/denom)\n",
    "# print(r)\n",
    "# r.mean(axis=0)"
   ]
  },
  {
   "cell_type": "code",
   "execution_count": 18,
   "id": "5f54646b",
   "metadata": {},
   "outputs": [],
   "source": [
    "# import math\n",
    "\n",
    "# wi =  (gwr_results.model._build_wi(0, gwr_bw).reshape(-1,1))\n",
    "\n",
    "# X = g_X\n",
    "# Y = g_y\n",
    "\n",
    "# Xmean = (sum(X*wi)/len(X))\n",
    "# Ymean = (sum(Y*wi)/len(Y))\n",
    "\n",
    "# x_diff = [var-Xmean for var in X]\n",
    "# y_diff = [var-Ymean for var in Y]\n",
    "\n",
    "# xy =([a*b for a,b in list(zip(x_diff,y_diff))])\n",
    "# sum_xy = sum(xy)\n",
    "\n",
    "# x_square = [a*a for a in x_diff]\n",
    "# y_square = [b*b for b in y_diff]\n",
    "\n",
    "# sum_x_square = sum(x_square)\n",
    "# sum_y_square = sum(y_square)\n",
    "\n",
    "# sum_x_square_sum_y_square = sum_x_square*sum_y_square\n",
    "# sqrt_sum_x_square_sum_y_square = math.sqrt(sum_x_square_sum_y_square)\n",
    "\n",
    "# r = sum_xy*wi/sqrt_sum_x_square_sum_y_square\n",
    "\n",
    "# # print(wi*sum_xy)\n",
    "# print(r)\n"
   ]
  },
  {
   "cell_type": "code",
   "execution_count": null,
   "id": "6cd69d9d",
   "metadata": {},
   "outputs": [],
   "source": []
  }
 ],
 "metadata": {
  "kernelspec": {
   "display_name": "Python 3 (ipykernel)",
   "language": "python",
   "name": "python3"
  },
  "language_info": {
   "codemirror_mode": {
    "name": "ipython",
    "version": 3
   },
   "file_extension": ".py",
   "mimetype": "text/x-python",
   "name": "python",
   "nbconvert_exporter": "python",
   "pygments_lexer": "ipython3",
   "version": "3.9.12"
  }
 },
 "nbformat": 4,
 "nbformat_minor": 5
}
