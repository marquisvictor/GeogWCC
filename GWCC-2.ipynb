{
 "cells": [
  {
   "cell_type": "markdown",
   "id": "a43f367c",
   "metadata": {},
   "source": [
    "## Geographically Weighted Correlation Coefficient"
   ]
  },
  {
   "cell_type": "code",
   "execution_count": 3,
   "id": "976f6bcb",
   "metadata": {},
   "outputs": [],
   "source": [
    "import spglm\n",
    "import numpy as np\n",
    "import pandas as pd\n",
    "import geopandas as gpd\n",
    "import libpysal as ps\n",
    "from mgwr.gwr import GWR, MGWR\n",
    "from mgwr.sel_bw import Sel_BW"
   ]
  },
  {
   "cell_type": "markdown",
   "id": "24dcca50",
   "metadata": {},
   "source": [
    "#### Prepare the Georgia dataset inputs"
   ]
  },
  {
   "cell_type": "code",
   "execution_count": 4,
   "id": "ff01d59c",
   "metadata": {},
   "outputs": [],
   "source": [
    "georgia_data = pd.read_csv(ps.examples.get_path('GData_utm.csv'))\n",
    "georgia_shp = gpd.read_file(ps.examples.get_path('G_utm.shp'))"
   ]
  },
  {
   "cell_type": "markdown",
   "id": "b5d58ca2",
   "metadata": {},
   "source": [
    "### Selecting just a single variable for GWR model i.e PctFB"
   ]
  },
  {
   "cell_type": "code",
   "execution_count": 8,
   "id": "91d34a04",
   "metadata": {},
   "outputs": [],
   "source": [
    "X = georgia_data['PctFB'].values.reshape(-1,1)\n",
    "y = georgia_data['PctBach'].values.reshape(-1,1) \n",
    "u = georgia_data['X']\n",
    "v = georgia_data['Y']\n",
    "g_coords = list(zip(u,v))"
   ]
  },
  {
   "cell_type": "markdown",
   "id": "d89a12c9",
   "metadata": {},
   "source": [
    "#### Standardization Routine"
   ]
  },
  {
   "cell_type": "code",
   "execution_count": 9,
   "id": "7ef6063a",
   "metadata": {},
   "outputs": [],
   "source": [
    "X = (X - X.mean(axis=0)) / X.std(axis=0)\n",
    "\n",
    "y = (y - y.mean(axis=0)) / y.std(axis=0)"
   ]
  },
  {
   "cell_type": "code",
   "execution_count": 10,
   "id": "fc97185a",
   "metadata": {},
   "outputs": [
    {
     "name": "stdout",
     "output_type": "stream",
     "text": [
      "116.0\n"
     ]
    }
   ],
   "source": [
    "gwr_selector = Sel_BW(g_coords, y, X)\n",
    "gwr_selector\n",
    "gwr_bw = gwr_selector.search()\n",
    "print(gwr_bw)\n",
    "gwr_results = GWR(g_coords, y, X, gwr_bw).fit()"
   ]
  },
  {
   "cell_type": "code",
   "execution_count": 11,
   "id": "2ea66b72",
   "metadata": {},
   "outputs": [
    {
     "name": "stdout",
     "output_type": "stream",
     "text": [
      "===========================================================================\n",
      "Model type                                                         Gaussian\n",
      "Number of observations:                                                 159\n",
      "Number of covariates:                                                     2\n",
      "\n",
      "Global Regression Results\n",
      "---------------------------------------------------------------------------\n",
      "Residual sum of squares:                                             87.210\n",
      "Log-likelihood:                                                    -177.864\n",
      "AIC:                                                                359.729\n",
      "AICc:                                                               361.883\n",
      "BIC:                                                               -708.608\n",
      "R2:                                                                   0.452\n",
      "Adj. R2:                                                              0.448\n",
      "\n",
      "Variable                              Est.         SE  t(Est/SE)    p-value\n",
      "------------------------------- ---------- ---------- ---------- ----------\n",
      "X0                                   0.000      0.059      0.000      1.000\n",
      "X1                                   0.672      0.059     11.368      0.000\n",
      "\n",
      "Geographically Weighted Regression (GWR) Results\n",
      "---------------------------------------------------------------------------\n",
      "Spatial kernel:                                           Adaptive bisquare\n",
      "Bandwidth used:                                                     116.000\n",
      "\n",
      "Diagnostic information\n",
      "---------------------------------------------------------------------------\n",
      "Residual sum of squares:                                             65.106\n",
      "Effective number of parameters (trace(S)):                            6.324\n",
      "Degree of freedom (n - trace(S)):                                   152.676\n",
      "Sigma estimate:                                                       0.653\n",
      "Log-likelihood:                                                    -154.627\n",
      "AIC:                                                                323.901\n",
      "AICc:                                                               324.710\n",
      "BIC:                                                                346.376\n",
      "R2:                                                                   0.591\n",
      "Adjusted R2:                                                          0.573\n",
      "Adj. alpha (95%):                                                     0.016\n",
      "Adj. critical t value (95%):                                          2.440\n",
      "\n",
      "Summary Statistics For GWR Parameter Estimates\n",
      "---------------------------------------------------------------------------\n",
      "Variable                   Mean        STD        Min     Median        Max\n",
      "-------------------- ---------- ---------- ---------- ---------- ----------\n",
      "X0                        0.008      0.146     -0.233      0.094      0.182\n",
      "X1                        0.667      0.250      0.227      0.773      0.952\n",
      "===========================================================================\n",
      "\n"
     ]
    }
   ],
   "source": [
    "gwr_results.summary()"
   ]
  },
  {
   "cell_type": "markdown",
   "id": "ddaf2b12",
   "metadata": {},
   "source": [
    "### Generate pearson's correlation coefficent"
   ]
  },
  {
   "cell_type": "code",
   "execution_count": 13,
   "id": "ad80ea79",
   "metadata": {},
   "outputs": [
    {
     "name": "stdout",
     "output_type": "stream",
     "text": [
      "0.67\n"
     ]
    }
   ],
   "source": [
    "from scipy.stats import pearsonr\n",
    "\n",
    "corr, u = pearsonr(X.flatten(), y.flatten())\n",
    "print(f'{corr:.2f}') # to 2 d.p"
   ]
  },
  {
   "cell_type": "markdown",
   "id": "6eceb1f8",
   "metadata": {},
   "source": [
    "<p> Here we can see that the correlation coefficient is equal to the slope/coefficient for a single variable GWR after standardization and the intercept is zero. But If we comment out the standardization routine we'll see that the results becomes different and we have an intercept<p/>"
   ]
  },
  {
   "cell_type": "markdown",
   "id": "cdd267aa",
   "metadata": {},
   "source": [
    "### Selecting a Multiple variables for GWR i.e all the columns -- 'PctFB', 'PctBlack', 'PctRural'"
   ]
  },
  {
   "cell_type": "code",
   "execution_count": 14,
   "id": "66a45b36",
   "metadata": {},
   "outputs": [],
   "source": [
    "g_y = georgia_data['PctBach'].values.reshape((-1,1))\n",
    "g_X = georgia_data[['PctFB', 'PctBlack', 'PctRural']].values\n",
    "u = georgia_data['X']\n",
    "v = georgia_data['Y']\n",
    "\n",
    "\n",
    "g_coords = list(zip(u,v))"
   ]
  },
  {
   "cell_type": "code",
   "execution_count": 16,
   "id": "10848176",
   "metadata": {},
   "outputs": [],
   "source": [
    "g_X = (g_X - g_X.mean(axis=0)) / g_X.std(axis=0)\n",
    "\n",
    "g_y = g_y.reshape((-1,1))\n",
    "\n",
    "g_y = (g_y - g_y.mean(axis=0)) / g_y.std(axis=0)"
   ]
  },
  {
   "cell_type": "code",
   "execution_count": 17,
   "id": "4c605724",
   "metadata": {},
   "outputs": [
    {
     "name": "stdout",
     "output_type": "stream",
     "text": [
      "117.0\n"
     ]
    }
   ],
   "source": [
    "gwr_selector = Sel_BW(g_coords, g_y, g_X)\n",
    "gwr_bw = gwr_selector.search()\n",
    "print(gwr_bw)\n",
    "gwr_results = GWR(g_coords, g_y, g_X, gwr_bw).fit()"
   ]
  },
  {
   "cell_type": "code",
   "execution_count": 18,
   "id": "172fd4b6",
   "metadata": {},
   "outputs": [
    {
     "name": "stdout",
     "output_type": "stream",
     "text": [
      "===========================================================================\n",
      "Model type                                                         Gaussian\n",
      "Number of observations:                                                 159\n",
      "Number of covariates:                                                     4\n",
      "\n",
      "Global Regression Results\n",
      "---------------------------------------------------------------------------\n",
      "Residual sum of squares:                                             71.793\n",
      "Log-likelihood:                                                    -162.399\n",
      "AIC:                                                                332.798\n",
      "AICc:                                                               335.191\n",
      "BIC:                                                               -713.887\n",
      "R2:                                                                   0.548\n",
      "Adj. R2:                                                              0.540\n",
      "\n",
      "Variable                              Est.         SE  t(Est/SE)    p-value\n",
      "------------------------------- ---------- ---------- ---------- ----------\n",
      "X0                                  -0.000      0.054     -0.000      1.000\n",
      "X1                                   0.458      0.066      6.988      0.000\n",
      "X2                                  -0.084      0.055     -1.525      0.127\n",
      "X3                                  -0.374      0.065     -5.734      0.000\n",
      "\n",
      "Geographically Weighted Regression (GWR) Results\n",
      "---------------------------------------------------------------------------\n",
      "Spatial kernel:                                           Adaptive bisquare\n",
      "Bandwidth used:                                                     117.000\n",
      "\n",
      "Diagnostic information\n",
      "---------------------------------------------------------------------------\n",
      "Residual sum of squares:                                             51.186\n",
      "Effective number of parameters (trace(S)):                           11.805\n",
      "Degree of freedom (n - trace(S)):                                   147.195\n",
      "Sigma estimate:                                                       0.590\n",
      "Log-likelihood:                                                    -135.503\n",
      "AIC:                                                                296.616\n",
      "AICc:                                                               299.051\n",
      "BIC:                                                                335.913\n",
      "R2:                                                                   0.678\n",
      "Adjusted R2:                                                          0.652\n",
      "Adj. alpha (95%):                                                     0.017\n",
      "Adj. critical t value (95%):                                          2.414\n",
      "\n",
      "Summary Statistics For GWR Parameter Estimates\n",
      "---------------------------------------------------------------------------\n",
      "Variable                   Mean        STD        Min     Median        Max\n",
      "-------------------- ---------- ---------- ---------- ---------- ----------\n",
      "X0                       -0.004      0.180     -0.296      0.111      0.208\n",
      "X1                        0.477      0.234      0.123      0.556      0.741\n",
      "X2                       -0.043      0.083     -0.170     -0.053      0.100\n",
      "X3                       -0.328      0.060     -0.464     -0.308     -0.241\n",
      "===========================================================================\n",
      "\n"
     ]
    }
   ],
   "source": [
    "gwr_results.summary()"
   ]
  },
  {
   "cell_type": "code",
   "execution_count": 23,
   "id": "ed28f5b5",
   "metadata": {},
   "outputs": [
    {
     "name": "stdout",
     "output_type": "stream",
     "text": [
      "-0.62\n"
     ]
    }
   ],
   "source": [
    "from scipy.stats import pearsonr\n",
    "\n",
    "corr, u = pearsonr(g_X[:,2], g_y.flatten())\n",
    "\n",
    "print(f'{corr:.2f}') # to 2 d.p"
   ]
  },
  {
   "cell_type": "markdown",
   "id": "553f6275",
   "metadata": {},
   "source": [
    "As we can see from the results above the correlation coefficient for X2 is -0.62 which is different from its slope/coefficient of -0.084 even after standardizing the data. We have the intercept of 0 but that's about as much as we get. "
   ]
  }
 ],
 "metadata": {
  "kernelspec": {
   "display_name": "Python 3 (ipykernel)",
   "language": "python",
   "name": "python3"
  },
  "language_info": {
   "codemirror_mode": {
    "name": "ipython",
    "version": 3
   },
   "file_extension": ".py",
   "mimetype": "text/x-python",
   "name": "python",
   "nbconvert_exporter": "python",
   "pygments_lexer": "ipython3",
   "version": "3.9.12"
  }
 },
 "nbformat": 4,
 "nbformat_minor": 5
}
