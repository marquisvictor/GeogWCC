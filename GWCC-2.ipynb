{
 "cells": [
  {
   "cell_type": "markdown",
   "id": "cd1dfa28",
   "metadata": {},
   "source": [
    "## Geographically Weighted Correlation Coefficient"
   ]
  },
  {
   "cell_type": "code",
   "execution_count": 1,
   "id": "976f6bcb",
   "metadata": {},
   "outputs": [],
   "source": [
    "import spglm\n",
    "import numpy as np\n",
    "import pandas as pd\n",
    "import geopandas as gpd\n",
    "import libpysal as ps\n",
    "from mgwr.gwr import GWR, MGWR\n",
    "from mgwr.sel_bw import Sel_BW"
   ]
  },
  {
   "cell_type": "markdown",
   "id": "4b65b19e",
   "metadata": {},
   "source": [
    "#### Prepare the Georgia dataset inputs"
   ]
  },
  {
   "cell_type": "code",
   "execution_count": 2,
   "id": "ff01d59c",
   "metadata": {},
   "outputs": [],
   "source": [
    "georgia_data = pd.read_csv(ps.examples.get_path('GData_utm.csv'))\n",
    "georgia_shp = gpd.read_file(ps.examples.get_path('G_utm.shp'))"
   ]
  },
  {
   "cell_type": "markdown",
   "id": "4df5b0de",
   "metadata": {},
   "source": [
    "### Selecting just a single variable for GWR model i.e PctFB"
   ]
  },
  {
   "cell_type": "code",
   "execution_count": 3,
   "id": "91d34a04",
   "metadata": {},
   "outputs": [],
   "source": [
    "X = georgia_data['PctFB'].values.reshape(-1,1)\n",
    "y = georgia_data['PctBach'].values.reshape(-1,1) \n",
    "u = georgia_data['X']\n",
    "v = georgia_data['Y']\n",
    "g_coords = list(zip(u,v))"
   ]
  },
  {
   "cell_type": "markdown",
   "id": "3b7ccd51",
   "metadata": {},
   "source": [
    "#### Standardization Routine"
   ]
  },
  {
   "cell_type": "code",
   "execution_count": 4,
   "id": "7ef6063a",
   "metadata": {},
   "outputs": [],
   "source": [
    "X = (X - X.mean(axis=0)) / X.std(axis=0)\n",
    "\n",
    "y = (y - y.mean(axis=0)) / y.std(axis=0)"
   ]
  },
  {
   "cell_type": "code",
   "execution_count": 5,
   "id": "fc97185a",
   "metadata": {},
   "outputs": [
    {
     "name": "stdout",
     "output_type": "stream",
     "text": [
      "116.0\n"
     ]
    }
   ],
   "source": [
    "gwr_selector = Sel_BW(g_coords, y, X)\n",
    "gwr_selector\n",
    "gwr_bw = gwr_selector.search()\n",
    "print(gwr_bw)\n",
    "gwr_results = GWR(g_coords, y, X, gwr_bw).fit()"
   ]
  },
  {
   "cell_type": "code",
   "execution_count": 6,
   "id": "2ea66b72",
   "metadata": {},
   "outputs": [
    {
     "name": "stdout",
     "output_type": "stream",
     "text": [
      "===========================================================================\n",
      "Model type                                                         Gaussian\n",
      "Number of observations:                                                 159\n",
      "Number of covariates:                                                     2\n",
      "\n",
      "Global Regression Results\n",
      "---------------------------------------------------------------------------\n",
      "Residual sum of squares:                                             87.210\n",
      "Log-likelihood:                                                    -177.864\n",
      "AIC:                                                                359.729\n",
      "AICc:                                                               361.883\n",
      "BIC:                                                               -708.608\n",
      "R2:                                                                   0.452\n",
      "Adj. R2:                                                              0.448\n",
      "\n",
      "Variable                              Est.         SE  t(Est/SE)    p-value\n",
      "------------------------------- ---------- ---------- ---------- ----------\n",
      "X0                                   0.000      0.059      0.000      1.000\n",
      "X1                                   0.672      0.059     11.368      0.000\n",
      "\n",
      "Geographically Weighted Regression (GWR) Results\n",
      "---------------------------------------------------------------------------\n",
      "Spatial kernel:                                           Adaptive bisquare\n",
      "Bandwidth used:                                                     116.000\n",
      "\n",
      "Diagnostic information\n",
      "---------------------------------------------------------------------------\n",
      "Residual sum of squares:                                             65.106\n",
      "Effective number of parameters (trace(S)):                            6.324\n",
      "Degree of freedom (n - trace(S)):                                   152.676\n",
      "Sigma estimate:                                                       0.653\n",
      "Log-likelihood:                                                    -154.627\n",
      "AIC:                                                                323.901\n",
      "AICc:                                                               324.710\n",
      "BIC:                                                                346.376\n",
      "R2:                                                                   0.591\n",
      "Adjusted R2:                                                          0.573\n",
      "Adj. alpha (95%):                                                     0.016\n",
      "Adj. critical t value (95%):                                          2.440\n",
      "\n",
      "Summary Statistics For GWR Parameter Estimates\n",
      "---------------------------------------------------------------------------\n",
      "Variable                   Mean        STD        Min     Median        Max\n",
      "-------------------- ---------- ---------- ---------- ---------- ----------\n",
      "X0                        0.008      0.146     -0.233      0.094      0.182\n",
      "X1                        0.667      0.250      0.227      0.773      0.952\n",
      "===========================================================================\n",
      "\n"
     ]
    }
   ],
   "source": [
    "gwr_results.summary()"
   ]
  },
  {
   "cell_type": "markdown",
   "id": "ddaf2b12",
   "metadata": {},
   "source": [
    "### Generate pearson's correlation coefficent"
   ]
  },
  {
   "cell_type": "code",
   "execution_count": 7,
   "id": "ad80ea79",
   "metadata": {},
   "outputs": [
    {
     "name": "stdout",
     "output_type": "stream",
     "text": [
      "0.67\n"
     ]
    }
   ],
   "source": [
    "from scipy.stats import pearsonr\n",
    "\n",
    "corr, u = pearsonr(X.flatten(), y.flatten())\n",
    "print(f'{corr:.2f}') # to 2 d.p"
   ]
  },
  {
   "cell_type": "markdown",
   "id": "ab86e4a1",
   "metadata": {},
   "source": [
    "<p> Here we can see that the correlation coefficient is equal to the slope/coefficient for a single variable GWR after standardization and the intercept is zero. But If we comment out the standardization routine we'll see that the results becomes different and we have an intercept<p/>"
   ]
  },
  {
   "cell_type": "markdown",
   "id": "d5a1e7be",
   "metadata": {},
   "source": [
    "### Selecting a Multiple variables for GWR i.e all the columns -- 'PctFB', 'PctBlack', 'PctRural'"
   ]
  },
  {
   "cell_type": "code",
   "execution_count": 1,
   "id": "5b34fe3f",
   "metadata": {},
   "outputs": [],
   "source": [
    "import spglm\n",
    "import numpy as np\n",
    "import pandas as pd\n",
    "import geopandas as gpd\n",
    "import libpysal as ps\n",
    "from mgwr.gwr import GWR, MGWR\n",
    "from mgwr.sel_bw import Sel_BW"
   ]
  },
  {
   "cell_type": "code",
   "execution_count": 2,
   "id": "e809bc8c",
   "metadata": {},
   "outputs": [],
   "source": [
    "georgia_data = pd.read_csv(ps.examples.get_path('GData_utm.csv'))\n",
    "georgia_shp = gpd.read_file(ps.examples.get_path('G_utm.shp'))"
   ]
  },
  {
   "cell_type": "code",
   "execution_count": 3,
   "id": "1730a95f",
   "metadata": {},
   "outputs": [
    {
     "data": {
      "text/html": [
       "<div>\n",
       "<style scoped>\n",
       "    .dataframe tbody tr th:only-of-type {\n",
       "        vertical-align: middle;\n",
       "    }\n",
       "\n",
       "    .dataframe tbody tr th {\n",
       "        vertical-align: top;\n",
       "    }\n",
       "\n",
       "    .dataframe thead th {\n",
       "        text-align: right;\n",
       "    }\n",
       "</style>\n",
       "<table border=\"1\" class=\"dataframe\">\n",
       "  <thead>\n",
       "    <tr style=\"text-align: right;\">\n",
       "      <th></th>\n",
       "      <th>AreaKey</th>\n",
       "      <th>Latitude</th>\n",
       "      <th>Longitud</th>\n",
       "      <th>TotPop90</th>\n",
       "      <th>PctRural</th>\n",
       "      <th>PctBach</th>\n",
       "      <th>PctEld</th>\n",
       "      <th>PctFB</th>\n",
       "      <th>PctPov</th>\n",
       "      <th>PctBlack</th>\n",
       "      <th>ID</th>\n",
       "      <th>X</th>\n",
       "      <th>Y</th>\n",
       "    </tr>\n",
       "  </thead>\n",
       "  <tbody>\n",
       "    <tr>\n",
       "      <th>0</th>\n",
       "      <td>13001</td>\n",
       "      <td>31.75339</td>\n",
       "      <td>-82.28558</td>\n",
       "      <td>15744</td>\n",
       "      <td>75.6</td>\n",
       "      <td>8.2</td>\n",
       "      <td>11.43</td>\n",
       "      <td>0.64</td>\n",
       "      <td>19.9</td>\n",
       "      <td>20.76</td>\n",
       "      <td>133</td>\n",
       "      <td>941396.6</td>\n",
       "      <td>3521764.0</td>\n",
       "    </tr>\n",
       "    <tr>\n",
       "      <th>1</th>\n",
       "      <td>13003</td>\n",
       "      <td>31.29486</td>\n",
       "      <td>-82.87474</td>\n",
       "      <td>6213</td>\n",
       "      <td>100.0</td>\n",
       "      <td>6.4</td>\n",
       "      <td>11.77</td>\n",
       "      <td>1.58</td>\n",
       "      <td>26.0</td>\n",
       "      <td>26.86</td>\n",
       "      <td>158</td>\n",
       "      <td>895553.0</td>\n",
       "      <td>3471916.0</td>\n",
       "    </tr>\n",
       "    <tr>\n",
       "      <th>2</th>\n",
       "      <td>13005</td>\n",
       "      <td>31.55678</td>\n",
       "      <td>-82.45115</td>\n",
       "      <td>9566</td>\n",
       "      <td>61.7</td>\n",
       "      <td>6.6</td>\n",
       "      <td>11.11</td>\n",
       "      <td>0.27</td>\n",
       "      <td>24.1</td>\n",
       "      <td>15.42</td>\n",
       "      <td>146</td>\n",
       "      <td>930946.4</td>\n",
       "      <td>3502787.0</td>\n",
       "    </tr>\n",
       "    <tr>\n",
       "      <th>3</th>\n",
       "      <td>13007</td>\n",
       "      <td>31.33084</td>\n",
       "      <td>-84.45401</td>\n",
       "      <td>3615</td>\n",
       "      <td>100.0</td>\n",
       "      <td>9.4</td>\n",
       "      <td>13.17</td>\n",
       "      <td>0.11</td>\n",
       "      <td>24.8</td>\n",
       "      <td>51.67</td>\n",
       "      <td>155</td>\n",
       "      <td>745398.6</td>\n",
       "      <td>3474765.0</td>\n",
       "    </tr>\n",
       "    <tr>\n",
       "      <th>4</th>\n",
       "      <td>13009</td>\n",
       "      <td>33.07193</td>\n",
       "      <td>-83.25085</td>\n",
       "      <td>39530</td>\n",
       "      <td>42.7</td>\n",
       "      <td>13.3</td>\n",
       "      <td>8.64</td>\n",
       "      <td>1.43</td>\n",
       "      <td>17.5</td>\n",
       "      <td>42.39</td>\n",
       "      <td>79</td>\n",
       "      <td>849431.3</td>\n",
       "      <td>3665553.0</td>\n",
       "    </tr>\n",
       "  </tbody>\n",
       "</table>\n",
       "</div>"
      ],
      "text/plain": [
       "   AreaKey  Latitude  Longitud  TotPop90  PctRural  PctBach  PctEld  PctFB  \\\n",
       "0    13001  31.75339 -82.28558     15744      75.6      8.2   11.43   0.64   \n",
       "1    13003  31.29486 -82.87474      6213     100.0      6.4   11.77   1.58   \n",
       "2    13005  31.55678 -82.45115      9566      61.7      6.6   11.11   0.27   \n",
       "3    13007  31.33084 -84.45401      3615     100.0      9.4   13.17   0.11   \n",
       "4    13009  33.07193 -83.25085     39530      42.7     13.3    8.64   1.43   \n",
       "\n",
       "   PctPov  PctBlack   ID         X          Y  \n",
       "0    19.9     20.76  133  941396.6  3521764.0  \n",
       "1    26.0     26.86  158  895553.0  3471916.0  \n",
       "2    24.1     15.42  146  930946.4  3502787.0  \n",
       "3    24.8     51.67  155  745398.6  3474765.0  \n",
       "4    17.5     42.39   79  849431.3  3665553.0  "
      ]
     },
     "execution_count": 3,
     "metadata": {},
     "output_type": "execute_result"
    }
   ],
   "source": [
    "georgia_data.head()"
   ]
  },
  {
   "cell_type": "code",
   "execution_count": 4,
   "id": "eebeeb10",
   "metadata": {},
   "outputs": [],
   "source": [
    "g_y = georgia_data['PctBach'].values.reshape((-1,1))\n",
    "g_X = georgia_data[['PctFB', 'PctBlack', 'PctRural']].values\n",
    "u = georgia_data['X']\n",
    "v = georgia_data['Y']\n",
    "\n",
    "\n",
    "g_coords = list(zip(u,v))"
   ]
  },
  {
   "cell_type": "code",
   "execution_count": 5,
   "id": "9380dbc8",
   "metadata": {},
   "outputs": [],
   "source": [
    "g_X = (g_X - g_X.mean(axis=0)) / g_X.std(axis=0)\n",
    "\n",
    "g_y = g_y.reshape((-1,1))\n",
    "\n",
    "g_y = (g_y - g_y.mean(axis=0)) / g_y.std(axis=0)"
   ]
  },
  {
   "cell_type": "code",
   "execution_count": 6,
   "id": "31c64e28",
   "metadata": {},
   "outputs": [
    {
     "name": "stdout",
     "output_type": "stream",
     "text": [
      "117.0\n"
     ]
    }
   ],
   "source": [
    "gwr_selector = Sel_BW(g_coords, g_y, g_X)\n",
    "gwr_bw = gwr_selector.search()\n",
    "print(gwr_bw)\n",
    "gwr_results = GWR(g_coords, g_y, g_X, gwr_bw).fit()"
   ]
  },
  {
   "cell_type": "code",
   "execution_count": 7,
   "id": "60bb5dc8",
   "metadata": {},
   "outputs": [
    {
     "name": "stdout",
     "output_type": "stream",
     "text": [
      "===========================================================================\n",
      "Model type                                                         Gaussian\n",
      "Number of observations:                                                 159\n",
      "Number of covariates:                                                     4\n",
      "\n",
      "Global Regression Results\n",
      "---------------------------------------------------------------------------\n",
      "Residual sum of squares:                                             71.793\n",
      "Log-likelihood:                                                    -162.399\n",
      "AIC:                                                                332.798\n",
      "AICc:                                                               335.191\n",
      "BIC:                                                               -713.887\n",
      "R2:                                                                   0.548\n",
      "Adj. R2:                                                              0.540\n",
      "\n",
      "Variable                              Est.         SE  t(Est/SE)    p-value\n",
      "------------------------------- ---------- ---------- ---------- ----------\n",
      "X0                                  -0.000      0.054     -0.000      1.000\n",
      "X1                                   0.458      0.066      6.988      0.000\n",
      "X2                                  -0.084      0.055     -1.525      0.127\n",
      "X3                                  -0.374      0.065     -5.734      0.000\n",
      "\n",
      "Geographically Weighted Regression (GWR) Results\n",
      "---------------------------------------------------------------------------\n",
      "Spatial kernel:                                           Adaptive bisquare\n",
      "Bandwidth used:                                                     117.000\n",
      "\n",
      "Diagnostic information\n",
      "---------------------------------------------------------------------------\n",
      "Residual sum of squares:                                             51.186\n",
      "Effective number of parameters (trace(S)):                           11.805\n",
      "Degree of freedom (n - trace(S)):                                   147.195\n",
      "Sigma estimate:                                                       0.590\n",
      "Log-likelihood:                                                    -135.503\n",
      "AIC:                                                                296.616\n",
      "AICc:                                                               299.051\n",
      "BIC:                                                                335.913\n",
      "R2:                                                                   0.678\n",
      "Adjusted R2:                                                          0.652\n",
      "Adj. alpha (95%):                                                     0.017\n",
      "Adj. critical t value (95%):                                          2.414\n",
      "\n",
      "Summary Statistics For GWR Parameter Estimates\n",
      "---------------------------------------------------------------------------\n",
      "Variable                   Mean        STD        Min     Median        Max\n",
      "-------------------- ---------- ---------- ---------- ---------- ----------\n",
      "X0                       -0.004      0.180     -0.296      0.111      0.208\n",
      "X1                        0.477      0.234      0.123      0.556      0.741\n",
      "X2                       -0.043      0.083     -0.170     -0.053      0.100\n",
      "X3                       -0.328      0.060     -0.464     -0.308     -0.241\n",
      "===========================================================================\n",
      "\n"
     ]
    }
   ],
   "source": [
    "gwr_results.summary()"
   ]
  },
  {
   "cell_type": "code",
   "execution_count": 8,
   "id": "65bc9ba1",
   "metadata": {},
   "outputs": [
    {
     "name": "stdout",
     "output_type": "stream",
     "text": [
      "0.67\n"
     ]
    }
   ],
   "source": [
    "from scipy.stats import pearsonr\n",
    "\n",
    "corr, u = pearsonr(g_X[:,0], g_y.flatten())\n",
    "\n",
    "print(f'{corr:.2f}') # to 2 d.p"
   ]
  },
  {
   "cell_type": "markdown",
   "id": "04d6d12b",
   "metadata": {},
   "source": [
    "As we can see from the results above the correlation coefficient for X2 is -0.62 which is different from its slope/coefficient of -0.084 even after standardizing the data. We have the intercept of 0 but that's about as much as we get. "
   ]
  }
 ],
 "metadata": {
  "kernelspec": {
   "display_name": "Python 3 (ipykernel)",
   "language": "python",
   "name": "python3"
  },
  "language_info": {
   "codemirror_mode": {
    "name": "ipython",
    "version": 3
   },
   "file_extension": ".py",
   "mimetype": "text/x-python",
   "name": "python",
   "nbconvert_exporter": "python",
   "pygments_lexer": "ipython3",
   "version": "3.9.12"
  }
 },
 "nbformat": 4,
 "nbformat_minor": 5
}
