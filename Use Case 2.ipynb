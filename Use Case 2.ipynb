{
 "cells": [
  {
   "cell_type": "code",
   "execution_count": 2,
   "id": "572cd38d",
   "metadata": {},
   "outputs": [],
   "source": [
    "import pandas as pd\n",
    "import geopandas as gpd\n",
    "import numpy as np\n",
    "\n",
    "from mgwr.gwr import GWR, MGWR, GWRResults\n",
    "from mgwr.sel_bw import Sel_BW\n",
    "from scipy import stats\n",
    "from sklearn.preprocessing import StandardScaler\n",
    "\n",
    "\n",
    "import matplotlib.pyplot as plt\n",
    "from matplotlib_scalebar.scalebar import ScaleBar\n",
    "\n",
    "import seaborn as sns\n",
    "sns.set(color_codes=True)\n",
    "\n",
    "import warnings\n",
    "warnings.filterwarnings('ignore')\n",
    "\n",
    "scaler = StandardScaler()\n",
    "%matplotlib inline\n",
    "\n",
    "\n",
    "\n",
    "gsv = pd.read_csv('./data/summary_census_sep_30_2020.csv')  # Google streetview Data\n",
    "pedf = pd.read_csv('./data/EPA_walk.csv')\n",
    "\n",
    "california = gpd.read_file('./data/california tracts.zip')\n",
    "alabama = gpd.read_file('./data/alabama tracts.zip')\n",
    "massa = gpd.read_file('./data/massachusetts tracts.zip')"
   ]
  },
  {
   "cell_type": "code",
   "execution_count": 3,
   "id": "52cdbad0",
   "metadata": {},
   "outputs": [],
   "source": [
    "pedf['GEOID20'] = pedf['GEOID20'].astype('str')\n",
    "pedf['GEOID20'] = [i[:-3] for i in pedf.GEOID20]\n",
    "pedf['GEOID20'] = pedf['GEOID20'].astype('int64')\n",
    "pedf = pd.DataFrame(pedf.groupby('GEOID20')['D3APO'].mean().reset_index())"
   ]
  },
  {
   "cell_type": "code",
   "execution_count": 4,
   "id": "c610789f",
   "metadata": {},
   "outputs": [],
   "source": [
    "def createCensus(state):\n",
    "    state['GEOID'] = state['GEOID'].astype('int64')\n",
    "    state = state.merge(pedf, left_on='GEOID', right_on='GEOID20', how='inner')\n",
    "    state = state.merge(gsv, left_on='GEOID', right_on='GEOID', how='inner')\n",
    "    state = state[['GEOID', 'geometry', 'D3APO', 'prop_crosswalk', 'prop_sidewalk' ]]\n",
    "    state['lon'] = state['geometry'].centroid.x\n",
    "    state['lat'] = state['geometry'].centroid.y\n",
    "    \n",
    "    return state"
   ]
  },
  {
   "cell_type": "code",
   "execution_count": 6,
   "id": "c394c7bb",
   "metadata": {
    "scrolled": true
   },
   "outputs": [],
   "source": [
    "california = createCensus(california)"
   ]
  },
  {
   "cell_type": "code",
   "execution_count": 5,
   "id": "59ed73fe",
   "metadata": {},
   "outputs": [],
   "source": [
    "alabama = createCensus(alabama)"
   ]
  },
  {
   "cell_type": "code",
   "execution_count": 7,
   "id": "8185674c",
   "metadata": {},
   "outputs": [],
   "source": [
    "g_y = california['D3APO'].values.reshape((-1,1))\n",
    "g_X = california[['prop_sidewalk']].values\n",
    "\n",
    "u = california['lon']\n",
    "v = california['lat']\n",
    "\n",
    "g_coords = list(zip(u,v))"
   ]
  },
  {
   "cell_type": "code",
   "execution_count": 8,
   "id": "ae0895e4",
   "metadata": {},
   "outputs": [
    {
     "data": {
      "text/plain": [
       "8026"
      ]
     },
     "execution_count": 8,
     "metadata": {},
     "output_type": "execute_result"
    }
   ],
   "source": [
    "len(california)"
   ]
  },
  {
   "cell_type": "code",
   "execution_count": 9,
   "id": "4378ebd5",
   "metadata": {
    "scrolled": false
   },
   "outputs": [
    {
     "name": "stdout",
     "output_type": "stream",
     "text": [
      "34.0\n",
      "===========================================================================\n",
      "Model type                                                         Gaussian\n",
      "Number of observations:                                                8026\n",
      "Number of covariates:                                                     2\n",
      "\n",
      "Global Regression Results\n",
      "---------------------------------------------------------------------------\n",
      "Residual sum of squares:                                           4073.784\n",
      "Log-likelihood:                                                   -8667.129\n",
      "AIC:                                                              17338.259\n",
      "AICc:                                                             17340.262\n",
      "BIC:                                                             -68065.519\n",
      "R2:                                                                   0.492\n",
      "Adj. R2:                                                              0.492\n",
      "\n",
      "Variable                              Est.         SE  t(Est/SE)    p-value\n",
      "------------------------------- ---------- ---------- ---------- ----------\n",
      "X0                                   0.000      0.008      0.000      1.000\n",
      "X1                                   0.702      0.008     88.230      0.000\n",
      "\n",
      "Geographically Weighted Regression (GWR) Results\n",
      "---------------------------------------------------------------------------\n",
      "Spatial kernel:                                           Adaptive bisquare\n",
      "Bandwidth used:                                                      34.000\n",
      "\n",
      "Diagnostic information\n",
      "---------------------------------------------------------------------------\n",
      "Residual sum of squares:                                           1891.984\n",
      "Effective number of parameters (trace(S)):                         1261.262\n",
      "Degree of freedom (n - trace(S)):                                  6764.738\n",
      "Sigma estimate:                                                       0.529\n",
      "Log-likelihood:                                                   -5589.374\n",
      "AIC:                                                              13703.272\n",
      "AICc:                                                             14174.847\n",
      "BIC:                                                              22527.042\n",
      "R2:                                                                   0.764\n",
      "Adjusted R2:                                                          0.720\n",
      "Adj. alpha (95%):                                                     0.000\n",
      "Adj. critical t value (95%):                                          3.949\n",
      "\n",
      "Summary Statistics For GWR Parameter Estimates\n",
      "---------------------------------------------------------------------------\n",
      "Variable                   Mean        STD        Min     Median        Max\n",
      "-------------------- ---------- ---------- ---------- ---------- ----------\n",
      "X0                        0.092      0.746     -5.993      0.029      6.701\n",
      "X1                        0.574      0.738     -6.940      0.644      5.899\n",
      "===========================================================================\n",
      "\n"
     ]
    }
   ],
   "source": [
    "gwr_selector_o = Sel_BW(g_coords, g_y, g_X, lwcc=False)\n",
    "gwr_bw_o = gwr_selector_o.search(bw_min=2)\n",
    "print(gwr_bw_o)\n",
    "gwr_results_o = GWR(g_coords, g_y, g_X, gwr_bw_o, lwcc=False).fit()\n",
    "gwr_results_o.summary()"
   ]
  },
  {
   "cell_type": "code",
   "execution_count": 10,
   "id": "da7b02f4",
   "metadata": {},
   "outputs": [
    {
     "data": {
      "text/plain": [
       "(0.4298390434209525, -0.8695536338886914, 0.983832789814317)"
      ]
     },
     "execution_count": 10,
     "metadata": {},
     "output_type": "execute_result"
    }
   ],
   "source": [
    "\"\"\"Local collinearity formula implementation. Extracted from MGWR codebase, line 1092, gwr.py, __author__ = Taylor Oshan\"\"\"\n",
    "\n",
    "# x_scaled = scaler.fit_transform(x)\n",
    "# y_scaled = scaler.fit_transform(y)\n",
    "\n",
    "\n",
    "x_ = np.hstack((g_X, g_y))\n",
    "\n",
    "def corr(cov):\n",
    "    invsd = np.diag(1 / np.sqrt(np.diag(cov)))\n",
    "    cors = np.dot(np.dot(invsd, cov), invsd)\n",
    "    return cors\n",
    "\n",
    "corr_mat = np.ndarray(shape=(len(x_), 1))\n",
    "\n",
    "\n",
    "for i in range(len(x_)):\n",
    "    wi_ = gwr_results_o.model._build_wi(i, gwr_bw_o)\n",
    "    sw = np.sum(wi_)\n",
    "    wi_ = wi_/sw\n",
    "    corr_mat[i] = corr(np.cov(x_[:, 0], x_[:, 1], aweights=wi_))[0][1]\n",
    "    \n",
    "corr_mat.mean(), corr_mat.min(), corr_mat.max()"
   ]
  },
  {
   "cell_type": "code",
   "execution_count": 11,
   "id": "493162a3",
   "metadata": {},
   "outputs": [],
   "source": [
    "california['gwr_calc'] = corr_mat"
   ]
  },
  {
   "cell_type": "code",
   "execution_count": null,
   "id": "d6e35c22",
   "metadata": {},
   "outputs": [
    {
     "name": "stdout",
     "output_type": "stream",
     "text": [
      "1021.0\n"
     ]
    }
   ],
   "source": [
    "%%time\n",
    "\n",
    "gwr_selector_n = Sel_BW(g_coords, g_y, g_X, lwcc=True)\n",
    "gwr_bw_n = gwr_selector_n.search(bw_min=2)\n",
    "print(gwr_bw_n)\n",
    "gwr_results_n = GWR(g_coords, g_y, g_X, gwr_bw_n, constant=False, lwcc=True).fit()\n",
    "gwr_results_n.summary()"
   ]
  },
  {
   "cell_type": "code",
   "execution_count": 42,
   "id": "7dec6778",
   "metadata": {},
   "outputs": [],
   "source": [
    "# california['new_algo_params'] = gwr_results_n.params\n"
   ]
  },
  {
   "cell_type": "code",
   "execution_count": null,
   "id": "208b19df",
   "metadata": {
    "scrolled": true
   },
   "outputs": [],
   "source": [
    "# from utils import compare_surfaces\n",
    "\n",
    "compare_surfaces(california, 'new_algo_params', 'gwr_calc', savefig='./figs/bama-tracts.png')"
   ]
  },
  {
   "cell_type": "code",
   "execution_count": 27,
   "id": "605662db",
   "metadata": {},
   "outputs": [],
   "source": [
    "# Old algo aicc\n",
    "\n",
    "# bws = []\n",
    "# for i in range(20, 1100, 20):\n",
    "#     aicc = GWR(g_coords, g_y, g_X, i, lwcc=False).fit().aicc\n",
    "#     bws.append(aicc)"
   ]
  },
  {
   "cell_type": "code",
   "execution_count": 28,
   "id": "f0d4dae8",
   "metadata": {},
   "outputs": [],
   "source": [
    "# x = [i for i in range(20, 1100, 20)]\n",
    "# plt.plot(x, bws)\n",
    "# x_rng = [i for i in range(100, 1100, 100)]\n",
    "# plt.xticks(x_rng)"
   ]
  },
  {
   "cell_type": "code",
   "execution_count": 29,
   "id": "00855786",
   "metadata": {},
   "outputs": [],
   "source": [
    "# # NEW algo aicc\n",
    "\n",
    "# bws_lwcc = []\n",
    "# for i in range(20, 1100, 20):\n",
    "#     aicc_lwcc = GWR(g_coords, g_y, g_X, i, constant=False, lwcc=True).fit().aicc\n",
    "#     bws_lwcc.append(aicc_lwcc)"
   ]
  },
  {
   "cell_type": "code",
   "execution_count": 30,
   "id": "1daa2386",
   "metadata": {
    "scrolled": true
   },
   "outputs": [],
   "source": [
    "# xlwcc = [i for i in range(20, 1100, 20)]\n",
    "# plt.plot(xlwcc, bws_lwcc)\n",
    "# x_rng = [i for i in range(100, 1100, 100)]\n",
    "# plt.xticks(x_rng)\n",
    "# # x"
   ]
  },
  {
   "cell_type": "code",
   "execution_count": null,
   "id": "985f99d5",
   "metadata": {},
   "outputs": [],
   "source": []
  },
  {
   "cell_type": "code",
   "execution_count": null,
   "id": "9479c65d",
   "metadata": {},
   "outputs": [],
   "source": []
  },
  {
   "cell_type": "code",
   "execution_count": null,
   "id": "e04af4ab",
   "metadata": {},
   "outputs": [],
   "source": []
  },
  {
   "cell_type": "code",
   "execution_count": null,
   "id": "33cfffbc",
   "metadata": {},
   "outputs": [],
   "source": []
  },
  {
   "cell_type": "code",
   "execution_count": 17,
   "id": "99c7dee3",
   "metadata": {},
   "outputs": [
    {
     "data": {
      "text/plain": [
       "0.8264436018721047"
      ]
     },
     "execution_count": 17,
     "metadata": {},
     "output_type": "execute_result"
    }
   ],
   "source": [
    "corr = []\n",
    "\n",
    "for i in range(len(g_X)):\n",
    "    wi = gwr_results_n.model._build_wi(i, gwr_bw_n).reshape(-1,1)\n",
    "    xw = g_X*wi\n",
    "    yw = g_y*wi\n",
    "    corr_coef, _ = stats.pearsonr(xw.flatten(), yw.flatten())\n",
    "    corr.append(corr_coef)\n",
    "\n",
    "np.array(corr).mean()"
   ]
  },
  {
   "cell_type": "code",
   "execution_count": 18,
   "id": "3de0f362",
   "metadata": {},
   "outputs": [
    {
     "data": {
      "text/plain": [
       "[0.7053729602566269]"
      ]
     },
     "execution_count": 18,
     "metadata": {},
     "output_type": "execute_result"
    }
   ],
   "source": [
    "corr_g = []\n",
    "corr_coef, _ = stats.pearsonr(g_X.flatten(), g_y.flatten())\n",
    "corr_g.append(corr_coef)\n",
    "corr_g"
   ]
  },
  {
   "cell_type": "code",
   "execution_count": null,
   "id": "7d7f0c97",
   "metadata": {},
   "outputs": [],
   "source": []
  },
  {
   "cell_type": "code",
   "execution_count": null,
   "id": "29fc41fc",
   "metadata": {},
   "outputs": [],
   "source": []
  },
  {
   "cell_type": "code",
   "execution_count": 24,
   "id": "f270b777",
   "metadata": {},
   "outputs": [],
   "source": [
    "import numpy as np \n",
    "\n",
    "def shift_colormap(cmap, start=0, midpoint=0.5, stop=1.0, name='shiftedcmap'):\n",
    "    '''\n",
    "    Function to offset the \"center\" of a colormap. Useful for\n",
    "    data with a negative min and positive max and you want the\n",
    "    middle of the colormap's dynamic range to be at zero\n",
    "    Parameters\n",
    "    ----------\n",
    "    cmap : The matplotlib colormap to be altered\n",
    "    start : Offset from lowest point in the colormap's range.\n",
    "      Defaults to 0.0 (no lower ofset). Should be between\n",
    "      0.0 and `midpoint`.\n",
    "    midpoint : The new center of the colormap. Defaults to\n",
    "      0.5 (no shift). Should be between 0.0 and 1.0. In\n",
    "      general, this should be  1 - vmax/(vmax + abs(vmin))\n",
    "      For example if your data range from -15.0 to +5.0 and\n",
    "      you want the center of the colormap at 0.0, `midpoint`\n",
    "      should be set to  1 - 5/(5 + 15)) or 0.75\n",
    "    stop : Offset from highets point in the colormap's range.\n",
    "      Defaults to 1.0 (no upper ofset). Should be between\n",
    "      `midpoint` and 1.0.\n",
    "    \n",
    "    Returns\n",
    "    -------\n",
    "    new_cmap : A new colormap that has been shifted. \n",
    "    '''\n",
    "\n",
    "    import matplotlib as mpl\n",
    "    import matplotlib.pyplot as plt\n",
    "\n",
    "    cdict = {'red': [], 'green': [], 'blue': [], 'alpha': []}\n",
    "\n",
    "    # regular index to compute the colors\n",
    "    reg_index = np.linspace(start, stop, 257)\n",
    "\n",
    "    # shifted index to match the data\n",
    "    shift_index = np.hstack([\n",
    "        np.linspace(0.0, midpoint, 128, endpoint=False),\n",
    "        np.linspace(midpoint, 1.0, 129, endpoint=True)\n",
    "    ])\n",
    "\n",
    "    for ri, si in zip(reg_index, shift_index):\n",
    "        r, g, b, a = cmap(ri)\n",
    "\n",
    "        cdict['red'].append((si, r, r))\n",
    "        cdict['green'].append((si, g, g))\n",
    "        cdict['blue'].append((si, b, b))\n",
    "        cdict['alpha'].append((si, a, a))\n",
    "\n",
    "    new_cmap = mpl.colors.LinearSegmentedColormap(name, cdict)\n",
    "    plt.register_cmap(cmap=new_cmap)\n",
    "\n",
    "    return new_cmap\n",
    "\n",
    "def truncate_colormap(cmap, minval=0.0, maxval=1.0, n=100):\n",
    "    '''\n",
    "    Function to truncate a colormap by selecting a subset of the original colormap's values\n",
    "    Parameters\n",
    "    ----------\n",
    "    cmap : Mmatplotlib colormap to be altered\n",
    "    minval : Minimum value of the original colormap to include in the truncated colormap\n",
    "    maxval : Maximum value of the original colormap to include in the truncated colormap\n",
    "    n : Number of intervals between the min and max values for the gradient of the truncated colormap\n",
    "          \n",
    "    Returns\n",
    "    -------\n",
    "    new_cmap : A new colormap that has been shifted. \n",
    "    '''\n",
    "\n",
    "    import matplotlib as mpl\n",
    "\n",
    "    new_cmap = mpl.colors.LinearSegmentedColormap.from_list(\n",
    "        'trunc({n},{a:.2f},{b:.2f})'.format(n=cmap.name, a=minval, b=maxval),\n",
    "        cmap(np.linspace(minval, maxval, n)))\n",
    "    return new_cmap\n",
    "\n",
    "\n",
    "def compare_surfaces(data, var1, var2, savefig=None):\n",
    "    '''\n",
    "    Function that creates comparative visualization of GWR and MGWR surfaces.\n",
    "    Parameters\n",
    "    ----------\n",
    "    data   : pandas or geopandas Dataframe\n",
    "             gwr/mgwr results\n",
    "    var1   : string\n",
    "             name of gwr parameter estimate column in frame\n",
    "    var2   : string\n",
    "             name of mgwr parameter estimate column in frame\n",
    "    gwr_t  : string\n",
    "             name of gwr t-values column in frame associated with var1\n",
    "    gwr_bw : float\n",
    "             bandwidth for gwr model for var1\n",
    "    mgwr_t : string\n",
    "             name of mgwr t-values column in frame associated with var2\n",
    "    mgwr_bw: float\n",
    "             bandwidth for mgwr model for var2\n",
    "    name   : string\n",
    "             common variable name to use for title\n",
    "    kwargs1:\n",
    "             additional plotting arguments for gwr surface\n",
    "    kwargs2:\n",
    "             additional plotting arguments for mgwr surface\n",
    "    savefig: string, optional\n",
    "             path to save the figure. Default is None. Not to save figure.\n",
    "    '''\n",
    "    import matplotlib.pyplot as plt\n",
    "    import geopandas as gp\n",
    "    \n",
    "\n",
    "    fig, axes = plt.subplots(nrows=1, ncols=2, figsize=(45, 38))\n",
    "    ax0 = axes[0]\n",
    "    ax0.set_title('Improved GW CC', fontsize=40)\n",
    "    ax1 = axes[1]\n",
    "    ax1.set_title('Classic GW CC', fontsize=40)\n",
    "\n",
    "    #Set color map\n",
    "    cmap = plt.cm.seismic\n",
    "\n",
    "    #Find min and max values of the two combined datasets\n",
    "    improved_min = data[var1].min()\n",
    "    improved_max = data[var1].max()\n",
    "    classic_min = data[var2].min()\n",
    "    classic_max = data[var2].max()\n",
    "    vmin = np.min([improved_min, classic_min])\n",
    "    vmax = np.max([improved_max, classic_max])\n",
    "    #If all values are negative use the negative half of the colormap\n",
    "    if (vmin < 0) & (vmax < 0):\n",
    "        cmap = truncate_colormap(cmap, 0.0, 0.5)\n",
    "    #If all values are positive use the positive half of the colormap\n",
    "    elif (vmin > 0) & (vmax > 0):\n",
    "        cmap = truncate_colormap(cmap, 0.5, 1.0)\n",
    "    #Otherwise, there are positive and negative values so the colormap so zero is the midpoint\n",
    "    else:\n",
    "        cmap = shift_colormap(cmap, start=0.0,\n",
    "                              midpoint=1 - vmax / (vmax + abs(vmin)), stop=1.)\n",
    "\n",
    "    #Create scalar mappable for colorbar and stretch colormap across range of data values\n",
    "    sm = plt.cm.ScalarMappable(cmap=cmap, norm=plt.Normalize(\n",
    "        vmin=vmin, vmax=vmax))\n",
    "\n",
    "    #Plot GWR parameters\n",
    "    data.plot(var1, cmap=sm.cmap, ax=ax0, vmin=vmin, vmax=vmax)\n",
    "\n",
    "\n",
    "    #Plot MGWR parameters\n",
    "#     data.plot(var2, cmap=sm.cmap, ax=ax1, vmin=vmin, vmax=vmax)\n",
    "\n",
    "\n",
    "    #Set figure options and plot\n",
    "#     fig.tight_layout()\n",
    "    fig.subplots_adjust(right=0.9)\n",
    "    cax = fig.add_axes([0.92, 0.14, 0.03, 0.75])\n",
    "    sm._A = []\n",
    "    cbar = fig.colorbar(sm, cax=cax)\n",
    "    cbar.ax.tick_params(labelsize=50)\n",
    "    ax0.get_xaxis().set_visible(False)\n",
    "    ax0.get_yaxis().set_visible(False)\n",
    "#     ax1.get_xaxis().set_visible(False)\n",
    "#     ax1.get_yaxis().set_visible(False)\n",
    "    if savefig is not None:\n",
    "        plt.savefig(savefig)\n",
    "    plt.show()"
   ]
  },
  {
   "cell_type": "code",
   "execution_count": null,
   "id": "f5e8b2fa",
   "metadata": {},
   "outputs": [],
   "source": []
  }
 ],
 "metadata": {
  "kernelspec": {
   "display_name": "Python 3 (ipykernel)",
   "language": "python",
   "name": "python3"
  },
  "language_info": {
   "codemirror_mode": {
    "name": "ipython",
    "version": 3
   },
   "file_extension": ".py",
   "mimetype": "text/x-python",
   "name": "python",
   "nbconvert_exporter": "python",
   "pygments_lexer": "ipython3",
   "version": "3.9.12"
  }
 },
 "nbformat": 4,
 "nbformat_minor": 5
}
