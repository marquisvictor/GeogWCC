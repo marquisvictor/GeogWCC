{
 "cells": [
  {
   "cell_type": "code",
   "execution_count": 1,
   "id": "168006b5",
   "metadata": {
    "scrolled": false
   },
   "outputs": [
    {
     "name": "stdout",
     "output_type": "stream",
     "text": [
      "inside GWR False\n",
      "inside GWR False\n",
      "inside GWR False\n",
      "inside GWR False\n",
      "inside GWR False\n",
      "inside GWR False\n",
      "inside GWR False\n",
      "inside GWR False\n",
      "inside GWR False\n",
      "98.0\n",
      "inside GWR False\n",
      "===========================================================================\n",
      "Model type                                                         Gaussian\n",
      "Number of observations:                                                 159\n",
      "Number of covariates:                                                     1\n",
      "\n",
      "Global Regression Results\n",
      "---------------------------------------------------------------------------\n",
      "Residual sum of squares:                                          11435.320\n",
      "Log-likelihood:                                                    -565.518\n",
      "AIC:                                                               1133.036\n",
      "AICc:                                                              1135.113\n",
      "BIC:                                                              10634.433\n",
      "R2:                                                                  -1.230\n",
      "Adj. R2:                                                             -1.230\n",
      "\n",
      "Variable                              Est.         SE  t(Est/SE)    p-value\n",
      "------------------------------- ---------- ---------- ---------- ----------\n",
      "X0                                   0.119      0.009     13.271      0.000\n",
      "\n",
      "Geographically Weighted Regression (GWR) Results\n",
      "---------------------------------------------------------------------------\n",
      "Spatial kernel:                                           Adaptive bisquare\n",
      "Bandwidth used:                                                      98.000\n",
      "\n",
      "Diagnostic information\n",
      "---------------------------------------------------------------------------\n",
      "Residual sum of squares:                                         244998.495\n",
      "Effective number of parameters (trace(S)):                          228.470\n",
      "Degree of freedom (n - trace(S)):                                   -69.470\n",
      "Sigma estimate:                                                         nan\n",
      "Log-likelihood:                                                    -809.149\n",
      "AIC:                                                               2077.239\n",
      "AICc:                                                               597.292\n",
      "BIC:                                                               2781.461\n",
      "R2:                                                                 -46.776\n",
      "Adjusted R2:                                                        108.118\n",
      "Adj. alpha (95%):                                                     0.000\n",
      "Adj. critical t value (95%):                                          3.784\n",
      "\n",
      "Summary Statistics For GWR Parameter Estimates\n",
      "---------------------------------------------------------------------------\n",
      "Variable                   Mean        STD        Min     Median        Max\n",
      "-------------------- ---------- ---------- ---------- ---------- ----------\n",
      "X0                        0.618      0.103      0.427      0.626      0.808\n",
      "===========================================================================\n",
      "\n"
     ]
    }
   ],
   "source": [
    "import pandas as pd\n",
    "import numpy as np\n",
    "import geopandas as gp\n",
    "import libpysal as ps\n",
    "from mgwr.gwr import GWR, MGWR, GWRResults\n",
    "from mgwr.sel_bw import Sel_BW\n",
    "from scipy import stats\n",
    "from sklearn.preprocessing import StandardScaler\n",
    "import warnings\n",
    "warnings.filterwarnings('ignore')\n",
    "\n",
    "\n",
    "scaler = StandardScaler()\n",
    "\n",
    "georgia_data = pd.read_csv(ps.examples.get_path('GData_utm.csv'))\n",
    "georgia_shp = gp.read_file(ps.examples.get_path('G_utm.shp'))\n",
    "\n",
    "g_y = georgia_data['PctBach'].values.reshape((-1,1))\n",
    "g_X = georgia_data[['PctRural']].values\n",
    "u = georgia_data['X']\n",
    "v = georgia_data['Y']\n",
    "\n",
    "\n",
    "g_coords = list(zip(u,v))\n",
    "\n",
    "\n",
    "#### Standardization Routine\n",
    "g_X_std = scaler.fit_transform(g_X)\n",
    "g_y_std = scaler.fit_transform(g_y)\n",
    "\n",
    "\n",
    "gwr_selector = Sel_BW(g_coords, g_y, g_X)\n",
    "gwr_bw = gwr_selector.search()\n",
    "print(gwr_bw)\n",
    "gwr_results = GWR(g_coords, g_y, g_X, gwr_bw, constant=False).fit()\n",
    "# gwr_results = GWR(g_coords, g_y, g_X, gwr_bwgwr_results = GWR(g_coords, g_y, g_X, gwr_bw, constant=False).fit()gwr_results = GWR(g_coords, g_y, g_X, gwr_bw, constant=False).fit()).fit()\n",
    " \n",
    "gwr_results.summary()"
   ]
  },
  {
   "cell_type": "code",
   "execution_count": 2,
   "id": "2bfd2175",
   "metadata": {},
   "outputs": [
    {
     "data": {
      "text/plain": [
       "0.6181377510737146"
      ]
     },
     "execution_count": 2,
     "metadata": {},
     "output_type": "execute_result"
    }
   ],
   "source": [
    "corr = []\n",
    "\n",
    "for i in range(len(g_X)):\n",
    "    wi = gwr_results.model._build_wi(i, gwr_bw).reshape(-1,1)\n",
    "    xw = g_X*wi\n",
    "    yw = g_y*wi\n",
    "    corr_coef, _ = stats.pearsonr(xw.flatten(), yw.flatten())\n",
    "    corr.append(corr_coef)\n",
    "\n",
    "np.array(corr).mean()"
   ]
  },
  {
   "cell_type": "markdown",
   "id": "848157d9",
   "metadata": {},
   "source": [
    "### For each location"
   ]
  },
  {
   "cell_type": "code",
   "execution_count": 22,
   "id": "94c7ccf0",
   "metadata": {},
   "outputs": [
    {
     "name": "stdout",
     "output_type": "stream",
     "text": [
      "0.7401371007234283\n"
     ]
    }
   ],
   "source": [
    "wi_OLS =  gwr_results.model._build_wi(2, gwr_bw).reshape(-1,1)\n",
    "\n",
    "x = g_X\n",
    "y= g_y\n",
    "\n",
    "xi = x * wi_OLS\n",
    "yi = y * wi_OLS\n",
    "\n",
    "corr_coef, _ = stats.pearsonr(xi.flatten(), yi.flatten())\n",
    "print(corr_coef)"
   ]
  },
  {
   "cell_type": "code",
   "execution_count": 8,
   "id": "26f65dfe",
   "metadata": {},
   "outputs": [
    {
     "data": {
      "text/plain": [
       "array([[0.7288326 ],\n",
       "       [0.74545328],\n",
       "       [0.7401371 ],\n",
       "       [0.72323437],\n",
       "       [0.62827581],\n",
       "       [0.54604824],\n",
       "       [0.50232632],\n",
       "       [0.47552525],\n",
       "       [0.78524038],\n",
       "       [0.75774718]])"
      ]
     },
     "execution_count": 8,
     "metadata": {},
     "output_type": "execute_result"
    }
   ],
   "source": [
    "gwr_results.params[:10]"
   ]
  },
  {
   "cell_type": "code",
   "execution_count": 3,
   "id": "2507b2ae",
   "metadata": {},
   "outputs": [
    {
     "data": {
      "text/plain": [
       "-0.6188556333611667"
      ]
     },
     "execution_count": 3,
     "metadata": {},
     "output_type": "execute_result"
    }
   ],
   "source": [
    "# Global correlation coefficient \n",
    "\n",
    "corr_coef, _ = stats.pearsonr(g_X.flatten(), g_y.flatten())\n",
    "corr_coef"
   ]
  },
  {
   "cell_type": "markdown",
   "id": "6b814275",
   "metadata": {},
   "source": [
    "***"
   ]
  },
  {
   "cell_type": "markdown",
   "id": "7e06d02f",
   "metadata": {},
   "source": [
    "****"
   ]
  },
  {
   "cell_type": "markdown",
   "id": "d49a383f",
   "metadata": {},
   "source": [
    "Rough area"
   ]
  },
  {
   "cell_type": "code",
   "execution_count": 17,
   "id": "ed838c74",
   "metadata": {},
   "outputs": [],
   "source": [
    "# wi =  gwr_results.model._build_wi(0, gwr_bw).reshape(-1,1)\n",
    "# # wi = np.sqrt(wi)\n",
    "\n",
    "# xcc = g_X\n",
    "# xcc_mean = (xcc).mean(axis=0)\n",
    "\n",
    "# ycc = g_y\n",
    "# ycc_mean = (ycc).mean(axis=0)\n",
    "\n",
    "# numerator = (((xcc - xcc_mean) * (ycc - ycc_mean))*wi)\n",
    "# denom = (np.sqrt((xcc - xcc_mean)**2)) * (np.sqrt((ycc - ycc_mean)**2))\n",
    "\n",
    "# r = (numerator/denom)\n",
    "# print(r)\n",
    "# r.mean(axis=0)"
   ]
  },
  {
   "cell_type": "code",
   "execution_count": 18,
   "id": "5f54646b",
   "metadata": {},
   "outputs": [],
   "source": [
    "# import math\n",
    "\n",
    "# wi =  (gwr_results.model._build_wi(0, gwr_bw).reshape(-1,1))\n",
    "\n",
    "# X = g_X\n",
    "# Y = g_y\n",
    "\n",
    "# Xmean = (sum(X*wi)/len(X))\n",
    "# Ymean = (sum(Y*wi)/len(Y))\n",
    "\n",
    "# x_diff = [var-Xmean for var in X]\n",
    "# y_diff = [var-Ymean for var in Y]\n",
    "\n",
    "# xy =([a*b for a,b in list(zip(x_diff,y_diff))])\n",
    "# sum_xy = sum(xy)\n",
    "\n",
    "# x_square = [a*a for a in x_diff]\n",
    "# y_square = [b*b for b in y_diff]\n",
    "\n",
    "# sum_x_square = sum(x_square)\n",
    "# sum_y_square = sum(y_square)\n",
    "\n",
    "# sum_x_square_sum_y_square = sum_x_square*sum_y_square\n",
    "# sqrt_sum_x_square_sum_y_square = math.sqrt(sum_x_square_sum_y_square)\n",
    "\n",
    "# r = sum_xy*wi/sqrt_sum_x_square_sum_y_square\n",
    "\n",
    "# # print(wi*sum_xy)\n",
    "# print(r)\n"
   ]
  },
  {
   "cell_type": "code",
   "execution_count": null,
   "id": "6cd69d9d",
   "metadata": {},
   "outputs": [],
   "source": []
  }
 ],
 "metadata": {
  "kernelspec": {
   "display_name": "Python 3 (ipykernel)",
   "language": "python",
   "name": "python3"
  },
  "language_info": {
   "codemirror_mode": {
    "name": "ipython",
    "version": 3
   },
   "file_extension": ".py",
   "mimetype": "text/x-python",
   "name": "python",
   "nbconvert_exporter": "python",
   "pygments_lexer": "ipython3",
   "version": "3.9.12"
  }
 },
 "nbformat": 4,
 "nbformat_minor": 5
}
