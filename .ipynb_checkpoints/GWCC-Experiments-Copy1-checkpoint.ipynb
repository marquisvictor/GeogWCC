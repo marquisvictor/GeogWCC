{
 "cells": [
  {
   "cell_type": "markdown",
   "metadata": {},
   "source": [
    "## Geographically Weighted Correlation Coefficient"
   ]
  },
  {
   "cell_type": "markdown",
   "metadata": {},
   "source": [
    "### Import relevant dependencies"
   ]
  },
  {
   "cell_type": "code",
   "execution_count": 1,
   "metadata": {},
   "outputs": [],
   "source": [
    "import pandas as pd\n",
    "import numpy as np\n",
    "import geopandas as gp\n",
    "import libpysal as ps\n",
    "from mgwr.gwr import GWR, MGWR, GWRResults\n",
    "from mgwr.sel_bw import Sel_BW\n",
    "\n",
    "\n",
    "georgia_data = pd.read_csv(ps.examples.get_path('GData_utm.csv'))\n",
    "georgia_shp = gp.read_file(ps.examples.get_path('G_utm.shp'))\n",
    "\n",
    "g_y = georgia_data['PctBach'].values.reshape((-1,1))\n",
    "g_X = georgia_data[['PctFB', 'PctRural']].values\n",
    "u = georgia_data['X']\n",
    "v = georgia_data['Y']\n",
    "\n",
    "\n",
    "g_coords = list(zip(u,v))\n",
    "# georgia_data.head()\n",
    "\n",
    "#### Standardization Routine\n",
    "\n",
    "g_X_std = (g_X - g_X.mean(axis=0)) / g_X.std(axis=0) \n",
    "\n",
    "g_y_std = (g_y - g_y.mean(axis=0)) / g_y.std(axis=0)"
   ]
  },
  {
   "cell_type": "markdown",
   "metadata": {},
   "source": [
    "#### Calibrate GWR model"
   ]
  },
  {
   "cell_type": "code",
   "execution_count": 2,
   "metadata": {
    "scrolled": false
   },
   "outputs": [
    {
     "name": "stdout",
     "output_type": "stream",
     "text": [
      "===========================================================================\n",
      "Model type                                                         Gaussian\n",
      "Number of observations:                                                 159\n",
      "Number of covariates:                                                     2\n",
      "\n",
      "Global Regression Results\n",
      "---------------------------------------------------------------------------\n",
      "Residual sum of squares:                                             87.210\n",
      "Log-likelihood:                                                    -177.864\n",
      "AIC:                                                                359.729\n",
      "AICc:                                                               361.883\n",
      "BIC:                                                               -708.608\n",
      "R2:                                                                   0.452\n",
      "Adj. R2:                                                              0.448\n",
      "\n",
      "Variable                              Est.         SE  t(Est/SE)    p-value\n",
      "------------------------------- ---------- ---------- ---------- ----------\n",
      "X0                                   0.000      0.059      0.000      1.000\n",
      "X1                                   0.672      0.059     11.368      0.000\n",
      "\n",
      "Geographically Weighted Regression (GWR) Results\n",
      "---------------------------------------------------------------------------\n",
      "Spatial kernel:                                           Adaptive bisquare\n",
      "Bandwidth used:                                                      70.000\n",
      "\n",
      "Diagnostic information\n",
      "---------------------------------------------------------------------------\n",
      "Residual sum of squares:                                             61.718\n",
      "Effective number of parameters (trace(S)):                           11.296\n",
      "Degree of freedom (n - trace(S)):                                   147.704\n",
      "Sigma estimate:                                                       0.646\n",
      "Log-likelihood:                                                    -150.378\n",
      "AIC:                                                                325.348\n",
      "AICc:                                                               327.592\n",
      "BIC:                                                                363.083\n",
      "R2:                                                                   0.612\n",
      "Adjusted R2:                                                          0.582\n",
      "Adj. alpha (95%):                                                     0.009\n",
      "Adj. critical t value (95%):                                          2.651\n",
      "\n",
      "Summary Statistics For GWR Parameter Estimates\n",
      "---------------------------------------------------------------------------\n",
      "Variable                   Mean        STD        Min     Median        Max\n",
      "-------------------- ---------- ---------- ---------- ---------- ----------\n",
      "X0                        0.004      0.182     -0.323      0.047      0.295\n",
      "X1                        0.653      0.294      0.122      0.736      1.083\n",
      "===========================================================================\n",
      "\n"
     ]
    }
   ],
   "source": [
    "g_y = georgia_data['PctBach'].values.reshape((-1,1))\n",
    "g_X = georgia_data[['PctFB']].values\n",
    "u = georgia_data['X']\n",
    "v = georgia_data['Y']\n",
    "\n",
    "\n",
    "g_coords = list(zip(u,v))\n",
    "\n",
    "gwr_results = GWR(g_coords, g_y_std, g_X_std, 70).fit()\n",
    "\n",
    "gwr_results.summary()"
   ]
  },
  {
   "cell_type": "markdown",
   "metadata": {},
   "source": [
    "### GW - Correlation Coefficient"
   ]
  },
  {
   "cell_type": "markdown",
   "metadata": {},
   "source": [
    "\n",
    "$$\n",
    "   \\frac{(x_j - \\overline x_i)(y_j - \\overline y_i) w_ij}{\\sqrt (x_j - \\overline x_i)^2 . \\sqrt (y_j - \\overline y_i)^2 }\\\n",
    "$$\n",
    "\n",
    "From Page 162-163 of [GWR - The analysis of spatially varying relationships](https://www.academia.edu/33626785/Geographically_Weighted_Regression_The_Analysis_of_Spatially_Varying_Relationships_Wiley_2002)\n"
   ]
  },
  {
   "cell_type": "markdown",
   "metadata": {},
   "source": [
    "#### Implementation"
   ]
  },
  {
   "cell_type": "code",
   "execution_count": 3,
   "metadata": {},
   "outputs": [
    {
     "name": "stdout",
     "output_type": "stream",
     "text": [
      "[0.08492393]\n"
     ]
    }
   ],
   "source": [
    "import math\n",
    "\n",
    "wi =  np.sqrt(gwr_results.model._build_wi(0, 60).reshape(-1,1))\n",
    "\n",
    "X = g_X\n",
    "Y = g_y\n",
    "\n",
    "Xmean = (sum(X*wi)/len(X))\n",
    "Ymean = (sum(Y*wi)/len(Y))\n",
    "\n",
    "x_diff = [var-Xmean for var in X]\n",
    "y_diff = [var-Ymean for var in Y]\n",
    "\n",
    "xy =([a*b for a,b in list(zip(x_diff,y_diff))])*wi\n",
    "sum_xy = sum(xy)\n",
    "\n",
    "x_square = [a*a for a in x_diff]\n",
    "y_square = [b*b for b in y_diff]\n",
    "\n",
    "sum_x_square = sum(x_square)\n",
    "sum_y_square = sum(y_square)\n",
    "\n",
    "sum_x_square_sum_y_square = sum_x_square*sum_y_square\n",
    "sqrt_sum_x_square_sum_y_square = math.sqrt(sum_x_square_sum_y_square)\n",
    "\n",
    "r = sum_xy/sqrt_sum_x_square_sum_y_square\n",
    "\n",
    "# print(wi*sum_xy)\n",
    "print(r)\n"
   ]
  },
  {
   "cell_type": "code",
   "execution_count": 4,
   "metadata": {},
   "outputs": [],
   "source": [
    "# wi =  gwr_results.model._build_wi(0, 60).reshape(-1,1)\n",
    "# wi = np.sqrt(wi)\n",
    "\n",
    "# xcc = g_X\n",
    "# xcc_mean = (xcc).mean(axis=0)\n",
    "\n",
    "# ycc = g_y\n",
    "# ycc_mean = (ycc).mean(axis=0)\n",
    "\n",
    "# numerator = (((xcc - xcc_mean) * (ycc - ycc_mean)))\n",
    "# denom = (np.sqrt((xcc - xcc_mean)**2)) * (np.sqrt((ycc - ycc_mean)**2))\n",
    "\n",
    "# r = (numerator/denom)\n",
    "# # print(r)\n",
    "# r.mean(axis=0)"
   ]
  },
  {
   "cell_type": "code",
   "execution_count": null,
   "metadata": {},
   "outputs": [],
   "source": []
  },
  {
   "cell_type": "markdown",
   "metadata": {},
   "source": [
    "### Local OLS and CorrCoef FOR 1 location (data point)"
   ]
  },
  {
   "cell_type": "code",
   "execution_count": 5,
   "metadata": {},
   "outputs": [
    {
     "name": "stdout",
     "output_type": "stream",
     "text": [
      "0.7279005604317853\n"
     ]
    },
    {
     "data": {
      "text/html": [
       "<table class=\"simpletable\">\n",
       "<caption>OLS Regression Results</caption>\n",
       "<tr>\n",
       "  <th>Dep. Variable:</th>            <td>y</td>        <th>  R-squared (uncentered):</th>      <td>   0.530</td>\n",
       "</tr>\n",
       "<tr>\n",
       "  <th>Model:</th>                   <td>OLS</td>       <th>  Adj. R-squared (uncentered):</th> <td>   0.527</td>\n",
       "</tr>\n",
       "<tr>\n",
       "  <th>Method:</th>             <td>Least Squares</td>  <th>  F-statistic:       </th>          <td>   178.1</td>\n",
       "</tr>\n",
       "<tr>\n",
       "  <th>Date:</th>             <td>Fri, 23 Sep 2022</td> <th>  Prob (F-statistic):</th>          <td>1.11e-27</td>\n",
       "</tr>\n",
       "<tr>\n",
       "  <th>Time:</th>                 <td>12:25:29</td>     <th>  Log-Likelihood:    </th>          <td> -165.61</td>\n",
       "</tr>\n",
       "<tr>\n",
       "  <th>No. Observations:</th>      <td>   159</td>      <th>  AIC:               </th>          <td>   333.2</td>\n",
       "</tr>\n",
       "<tr>\n",
       "  <th>Df Residuals:</th>          <td>   158</td>      <th>  BIC:               </th>          <td>   336.3</td>\n",
       "</tr>\n",
       "<tr>\n",
       "  <th>Df Model:</th>              <td>     1</td>      <th>                     </th>              <td> </td>   \n",
       "</tr>\n",
       "<tr>\n",
       "  <th>Covariance Type:</th>      <td>nonrobust</td>    <th>                     </th>              <td> </td>   \n",
       "</tr>\n",
       "</table>\n",
       "<table class=\"simpletable\">\n",
       "<tr>\n",
       "   <td></td>     <th>coef</th>     <th>std err</th>      <th>t</th>      <th>P>|t|</th>  <th>[0.025</th>    <th>0.975]</th>  \n",
       "</tr>\n",
       "<tr>\n",
       "  <th>x1</th> <td>    0.7279</td> <td>    0.055</td> <td>   13.344</td> <td> 0.000</td> <td>    0.620</td> <td>    0.836</td>\n",
       "</tr>\n",
       "</table>\n",
       "<table class=\"simpletable\">\n",
       "<tr>\n",
       "  <th>Omnibus:</th>       <td>43.479</td> <th>  Durbin-Watson:     </th> <td>   2.054</td>\n",
       "</tr>\n",
       "<tr>\n",
       "  <th>Prob(Omnibus):</th> <td> 0.000</td> <th>  Jarque-Bera (JB):  </th> <td>  92.157</td>\n",
       "</tr>\n",
       "<tr>\n",
       "  <th>Skew:</th>          <td> 1.209</td> <th>  Prob(JB):          </th> <td>9.74e-21</td>\n",
       "</tr>\n",
       "<tr>\n",
       "  <th>Kurtosis:</th>      <td> 5.839</td> <th>  Cond. No.          </th> <td>    1.00</td>\n",
       "</tr>\n",
       "</table><br/><br/>Notes:<br/>[1] R² is computed without centering (uncentered) since the model does not contain a constant.<br/>[2] Standard Errors assume that the covariance matrix of the errors is correctly specified."
      ],
      "text/plain": [
       "<class 'statsmodels.iolib.summary.Summary'>\n",
       "\"\"\"\n",
       "                                 OLS Regression Results                                \n",
       "=======================================================================================\n",
       "Dep. Variable:                      y   R-squared (uncentered):                   0.530\n",
       "Model:                            OLS   Adj. R-squared (uncentered):              0.527\n",
       "Method:                 Least Squares   F-statistic:                              178.1\n",
       "Date:                Fri, 23 Sep 2022   Prob (F-statistic):                    1.11e-27\n",
       "Time:                        12:25:29   Log-Likelihood:                         -165.61\n",
       "No. Observations:                 159   AIC:                                      333.2\n",
       "Df Residuals:                     158   BIC:                                      336.3\n",
       "Df Model:                           1                                                  \n",
       "Covariance Type:            nonrobust                                                  \n",
       "==============================================================================\n",
       "                 coef    std err          t      P>|t|      [0.025      0.975]\n",
       "------------------------------------------------------------------------------\n",
       "x1             0.7279      0.055     13.344      0.000       0.620       0.836\n",
       "==============================================================================\n",
       "Omnibus:                       43.479   Durbin-Watson:                   2.054\n",
       "Prob(Omnibus):                  0.000   Jarque-Bera (JB):               92.157\n",
       "Skew:                           1.209   Prob(JB):                     9.74e-21\n",
       "Kurtosis:                       5.839   Cond. No.                         1.00\n",
       "==============================================================================\n",
       "\n",
       "Notes:\n",
       "[1] R² is computed without centering (uncentered) since the model does not contain a constant.\n",
       "[2] Standard Errors assume that the covariance matrix of the errors is correctly specified.\n",
       "\"\"\""
      ]
     },
     "execution_count": 5,
     "metadata": {},
     "output_type": "execute_result"
    }
   ],
   "source": [
    "import statsmodels.api as sm\n",
    "from sklearn.preprocessing import StandardScaler\n",
    "from scipy.stats import pearsonr\n",
    "\n",
    "scaler = StandardScaler()\n",
    "\n",
    "wi_OLS =  gwr_results.model._build_wi(0, 60).reshape(-1,1)\n",
    "\n",
    "# wi_OLS = np.sqrt(wi_OLS)\n",
    "\n",
    "x = g_X\n",
    "y= g_y\n",
    "\n",
    "xi = x * wi_OLS\n",
    "yi = y * wi_OLS\n",
    "\n",
    "corr_coef, _ = pearsonr(xi.flatten(), yi.flatten())\n",
    "print(corr_coef)\n",
    "\n",
    "xi_std = scaler.fit_transform(xi)\n",
    "yi_std = scaler.fit_transform(yi)\n",
    "\n",
    "\n",
    "sm.OLS(yi_std, xi_std).fit().summary()"
   ]
  },
  {
   "cell_type": "code",
   "execution_count": 21,
   "metadata": {},
   "outputs": [
    {
     "data": {
      "text/plain": [
       "0.32697283203879474"
      ]
     },
     "execution_count": 21,
     "metadata": {},
     "output_type": "execute_result"
    }
   ],
   "source": [
    "# gwr_results.params[0,1]\n",
    "gwr_results.params[0,1]  # So its not the same thing as what I am getting because inside GWR is still using the old methodology\n",
    "                        # of doing things. I need to go and update the code of GWR to get the output I am having as coefficient\n",
    "                        # in the above cell. What I am having above is the correct thing actuallu. "
   ]
  },
  {
   "cell_type": "code",
   "execution_count": null,
   "metadata": {},
   "outputs": [],
   "source": []
  },
  {
   "cell_type": "code",
   "execution_count": null,
   "metadata": {},
   "outputs": [],
   "source": []
  },
  {
   "cell_type": "markdown",
   "metadata": {},
   "source": [
    "#### Global correlation coefficients"
   ]
  },
  {
   "cell_type": "code",
   "execution_count": 23,
   "metadata": {},
   "outputs": [
    {
     "data": {
      "text/plain": [
       "0.6719466884233966"
      ]
     },
     "execution_count": 23,
     "metadata": {},
     "output_type": "execute_result"
    }
   ],
   "source": [
    "from scipy.stats import pearsonr\n",
    "\n",
    "# for i in range(3):\n",
    "#     corr, u = pearsonr(g_X[:,i], g_y.flatten())\n",
    "    \n",
    "#     print(corr)\n",
    "\n",
    "corr, u = pearsonr(g_y.flatten(), g_X.flatten() )\n",
    "corr"
   ]
  },
  {
   "cell_type": "code",
   "execution_count": null,
   "metadata": {},
   "outputs": [],
   "source": []
  },
  {
   "cell_type": "code",
   "execution_count": null,
   "metadata": {},
   "outputs": [],
   "source": []
  },
  {
   "cell_type": "code",
   "execution_count": null,
   "metadata": {},
   "outputs": [],
   "source": []
  },
  {
   "cell_type": "code",
   "execution_count": null,
   "metadata": {},
   "outputs": [],
   "source": []
  },
  {
   "cell_type": "code",
   "execution_count": null,
   "metadata": {},
   "outputs": [],
   "source": []
  },
  {
   "cell_type": "code",
   "execution_count": null,
   "metadata": {},
   "outputs": [],
   "source": []
  },
  {
   "cell_type": "code",
   "execution_count": null,
   "metadata": {},
   "outputs": [],
   "source": []
  },
  {
   "cell_type": "code",
   "execution_count": null,
   "metadata": {},
   "outputs": [],
   "source": []
  },
  {
   "cell_type": "code",
   "execution_count": null,
   "metadata": {},
   "outputs": [],
   "source": []
  },
  {
   "cell_type": "code",
   "execution_count": null,
   "metadata": {},
   "outputs": [],
   "source": []
  },
  {
   "cell_type": "code",
   "execution_count": null,
   "metadata": {},
   "outputs": [],
   "source": []
  },
  {
   "cell_type": "code",
   "execution_count": null,
   "metadata": {},
   "outputs": [],
   "source": []
  },
  {
   "cell_type": "code",
   "execution_count": null,
   "metadata": {},
   "outputs": [],
   "source": []
  },
  {
   "cell_type": "code",
   "execution_count": null,
   "metadata": {},
   "outputs": [],
   "source": []
  },
  {
   "cell_type": "code",
   "execution_count": null,
   "metadata": {},
   "outputs": [],
   "source": []
  },
  {
   "cell_type": "code",
   "execution_count": null,
   "metadata": {},
   "outputs": [],
   "source": []
  },
  {
   "cell_type": "code",
   "execution_count": null,
   "metadata": {},
   "outputs": [],
   "source": []
  },
  {
   "cell_type": "markdown",
   "metadata": {},
   "source": [
    " The cell below has my implementation of the _compute_betas_gwr()_ function from inside of the conda environment `spglm/iwls.py` source code. "
   ]
  },
  {
   "cell_type": "code",
   "execution_count": null,
   "metadata": {},
   "outputs": [],
   "source": [
    "def _compute_betas_gwr(y, x, wi):\n",
    "    \"\"\"\n",
    "    compute MLE coefficients using iwls routine\n",
    "\n",
    "    Methods: p189, Iteratively (Re)weighted Least Squares (IWLS),\n",
    "    Fotheringham, A. S., Brunsdon, C., & Charlton, M. (2002).\n",
    "    Geographically weighted regression: the analysis of spatially varying relationships.\n",
    "    \"\"\"\n",
    "\n",
    "    xw = (x * wi).T  # weight before standardization -> result is the weighted design matrix\n",
    "\n",
    "    xw_stdz = scaler.fit_transform(xw)   # standardize the design matrix -- after weighting\n",
    "    \n",
    "    x_stdz = scaler.fit_transform(x)     # standardize x \n",
    "                    \n",
    "    y = scaler.fit_transform(y)          # standardize the y\n",
    "\n",
    "\n",
    "    xtx = np.dot(xw_stdz, x_stdz)\n",
    "    xtx_inv_xt = linalg.solve(xtx, xw_stdz)\n",
    "    betas = np.dot(xtx_inv_xt, y)\n",
    "    return betas, xtx_inv_xt"
   ]
  },
  {
   "cell_type": "code",
   "execution_count": null,
   "metadata": {},
   "outputs": [],
   "source": []
  }
 ],
 "metadata": {
  "anaconda-cloud": {},
  "interpreter": {
   "hash": "e10b10adc42ad68ca202f595df000b560bba5cf47a876c683dd1eabbda2af851"
  },
  "kernelspec": {
   "display_name": "Python 3 (ipykernel)",
   "language": "python",
   "name": "python3"
  },
  "language_info": {
   "codemirror_mode": {
    "name": "ipython",
    "version": 3
   },
   "file_extension": ".py",
   "mimetype": "text/x-python",
   "name": "python",
   "nbconvert_exporter": "python",
   "pygments_lexer": "ipython3",
   "version": "3.9.12"
  }
 },
 "nbformat": 4,
 "nbformat_minor": 1
}
