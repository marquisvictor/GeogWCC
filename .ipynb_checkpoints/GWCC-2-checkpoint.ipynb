{
 "cells": [
  {
   "cell_type": "markdown",
   "id": "a6f7fc33",
   "metadata": {},
   "source": [
    "## Geographically Weighted Correlation Coefficient"
   ]
  },
  {
   "cell_type": "code",
   "execution_count": 1,
   "id": "976f6bcb",
   "metadata": {},
   "outputs": [],
   "source": [
    "import spglm\n",
    "import numpy as np\n",
    "import libpysal as ps\n",
    "from mgwr.gwr import GWR, MGWR\n",
    "from mgwr.sel_bw import Sel_BW\n",
    "import geopandas as gpd"
   ]
  },
  {
   "cell_type": "code",
   "execution_count": null,
   "id": "b16e34ee",
   "metadata": {},
   "outputs": [],
   "source": [
    "#Load Georgia dataset and generate plot of Georgia counties (figure 1)\n"
   ]
  },
  {
   "cell_type": "code",
   "execution_count": 2,
   "id": "ff01d59c",
   "metadata": {},
   "outputs": [],
   "source": [
    "georgia_data = pd.read_csv(ps.examples.get_path('GData_utm.csv'))\n",
    "georgia_shp = gpd.read_file(ps.examples.get_path('G_utm.shp'))"
   ]
  },
  {
   "cell_type": "raw",
   "id": "235262fc",
   "metadata": {},
   "source": [
    "georgia_data.head()"
   ]
  },
  {
   "cell_type": "raw",
   "id": "e2444bca",
   "metadata": {},
   "source": [
    "fig, ax = plt.subplots(figsize=(10,10))\n",
    "georgia_shp.plot(ax=ax, **{'edgecolor':'black', 'facecolor':'white'})\n",
    "georgia_shp.centroid.plot(ax=ax, c='black')"
   ]
  },
  {
   "cell_type": "code",
   "execution_count": 3,
   "id": "91d34a04",
   "metadata": {},
   "outputs": [],
   "source": [
    "X = georgia_data['PctFB'].values.reshape(-1,1) # see if the reshape is actually needed\n",
    "y = georgia_data['PctBach'].values.reshape(-1,1) \n",
    "u = georgia_data['X']\n",
    "v = georgia_data['Y']\n",
    "g_coords = list(zip(u,v))"
   ]
  },
  {
   "cell_type": "code",
   "execution_count": 6,
   "id": "7ef6063a",
   "metadata": {},
   "outputs": [],
   "source": [
    "# standardising the data before caliberating.\n",
    "\n",
    "X = (X - X.mean(axis=0)) / X.std(axis=0)\n",
    "\n",
    "y = (y - y.mean(axis=0)) / y.std(axis=0)"
   ]
  },
  {
   "cell_type": "code",
   "execution_count": 7,
   "id": "fc97185a",
   "metadata": {},
   "outputs": [
    {
     "name": "stdout",
     "output_type": "stream",
     "text": [
      "116.0\n"
     ]
    }
   ],
   "source": [
    "gwr_selector = Sel_BW(g_coords, y, X)\n",
    "gwr_selector\n",
    "gwr_bw = gwr_selector.search()\n",
    "print(gwr_bw)\n",
    "gwr_results = GWR(g_coords, y, X, gwr_bw).fit()"
   ]
  },
  {
   "cell_type": "code",
   "execution_count": 8,
   "id": "2ea66b72",
   "metadata": {},
   "outputs": [
    {
     "name": "stdout",
     "output_type": "stream",
     "text": [
      "===========================================================================\n",
      "Model type                                                         Gaussian\n",
      "Number of observations:                                                 159\n",
      "Number of covariates:                                                     2\n",
      "\n",
      "Global Regression Results\n",
      "---------------------------------------------------------------------------\n",
      "Residual sum of squares:                                             87.210\n",
      "Log-likelihood:                                                    -177.864\n",
      "AIC:                                                                359.729\n",
      "AICc:                                                               361.883\n",
      "BIC:                                                               -708.608\n",
      "R2:                                                                   0.452\n",
      "Adj. R2:                                                              0.448\n",
      "\n",
      "Variable                              Est.         SE  t(Est/SE)    p-value\n",
      "------------------------------- ---------- ---------- ---------- ----------\n",
      "X0                                   0.000      0.059      0.000      1.000\n",
      "X1                                   0.672      0.059     11.368      0.000\n",
      "\n",
      "Geographically Weighted Regression (GWR) Results\n",
      "---------------------------------------------------------------------------\n",
      "Spatial kernel:                                           Adaptive bisquare\n",
      "Bandwidth used:                                                     116.000\n",
      "\n",
      "Diagnostic information\n",
      "---------------------------------------------------------------------------\n",
      "Residual sum of squares:                                             65.106\n",
      "Effective number of parameters (trace(S)):                            6.324\n",
      "Degree of freedom (n - trace(S)):                                   152.676\n",
      "Sigma estimate:                                                       0.653\n",
      "Log-likelihood:                                                    -154.627\n",
      "AIC:                                                                323.901\n",
      "AICc:                                                               324.710\n",
      "BIC:                                                                346.376\n",
      "R2:                                                                   0.591\n",
      "Adjusted R2:                                                          0.573\n",
      "Adj. alpha (95%):                                                     0.016\n",
      "Adj. critical t value (95%):                                          2.440\n",
      "\n",
      "Summary Statistics For GWR Parameter Estimates\n",
      "---------------------------------------------------------------------------\n",
      "Variable                   Mean        STD        Min     Median        Max\n",
      "-------------------- ---------- ---------- ---------- ---------- ----------\n",
      "X0                        0.008      0.146     -0.233      0.094      0.182\n",
      "X1                        0.667      0.250      0.227      0.773      0.952\n",
      "===========================================================================\n",
      "\n"
     ]
    }
   ],
   "source": [
    "gwr_results.summary()"
   ]
  },
  {
   "cell_type": "markdown",
   "id": "ddaf2b12",
   "metadata": {},
   "source": [
    "### Pearson's correlation coefficent"
   ]
  },
  {
   "cell_type": "code",
   "execution_count": 9,
   "id": "ad80ea79",
   "metadata": {},
   "outputs": [],
   "source": [
    "from scipy.stats import pearsonr\n",
    "\n",
    "\n",
    "\n",
    "corr, u = pearsonr(X.flatten(), y.flatten())"
   ]
  },
  {
   "cell_type": "code",
   "execution_count": 9,
   "id": "fdc9faf0",
   "metadata": {},
   "outputs": [
    {
     "data": {
      "text/plain": [
       "0.6719466884233967"
      ]
     },
     "execution_count": 9,
     "metadata": {},
     "output_type": "execute_result"
    }
   ],
   "source": [
    "corr"
   ]
  },
  {
   "cell_type": "code",
   "execution_count": null,
   "id": "e33cabda",
   "metadata": {},
   "outputs": [],
   "source": []
  }
 ],
 "metadata": {
  "kernelspec": {
   "display_name": "Python 3 (ipykernel)",
   "language": "python",
   "name": "python3"
  },
  "language_info": {
   "codemirror_mode": {
    "name": "ipython",
    "version": 3
   },
   "file_extension": ".py",
   "mimetype": "text/x-python",
   "name": "python",
   "nbconvert_exporter": "python",
   "pygments_lexer": "ipython3",
   "version": "3.9.12"
  }
 },
 "nbformat": 4,
 "nbformat_minor": 5
}
