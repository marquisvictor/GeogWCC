{
 "cells": [
  {
   "cell_type": "markdown",
   "id": "c1b1caf3",
   "metadata": {},
   "source": [
    "#### Importing required dependencies and loading the data"
   ]
  },
  {
   "cell_type": "code",
   "execution_count": 1,
   "id": "5f8afdeb",
   "metadata": {},
   "outputs": [],
   "source": [
    "import pandas as pd\n",
    "import numpy as np\n",
    "import warnings\n",
    "warnings.filterwarnings('ignore')\n",
    "from mgwr.gwr import GWR, MGWR, GWRResults\n",
    "from mgwr.sel_bw import Sel_BW\n",
    "from scipy import stats\n",
    "import matplotlib.pyplot as plt\n",
    "\n",
    "\n",
    "\n",
    "import seaborn as sns\n",
    "\n",
    "import geopandas as gpd\n",
    "%matplotlib inline\n",
    "sns.set(color_codes=True)\n",
    "from matplotlib_scalebar.scalebar import ScaleBar\n",
    "\n",
    "from sklearn.preprocessing import StandardScaler\n",
    "scaler = StandardScaler()\n",
    "\n",
    "\n",
    "gsv = pd.read_csv('./data/gsv_indicators_summarized_county.csv')\n",
    "zipcode = pd.read_csv('./data/zip_code_database.csv')\n",
    "census = pd.read_csv('./data/summary_zipcode_oct_1_2020.csv')\n",
    "\n",
    "df = pd.read_csv('./data/ACSST1Y2021.S2504-Data.csv')"
   ]
  },
  {
   "cell_type": "code",
   "execution_count": 2,
   "id": "0380674f",
   "metadata": {},
   "outputs": [],
   "source": [
    "gsv = gsv.apply(lambda x: x * 100) # optimize code later\n",
    "gsv['county'] = gsv.county//100"
   ]
  },
  {
   "cell_type": "code",
   "execution_count": 3,
   "id": "568532da",
   "metadata": {},
   "outputs": [],
   "source": [
    "# gsv.head()"
   ]
  },
  {
   "cell_type": "code",
   "execution_count": 4,
   "id": "b2b33909",
   "metadata": {},
   "outputs": [],
   "source": [
    "# df.head(2)"
   ]
  },
  {
   "cell_type": "markdown",
   "id": "7ad41c3a",
   "metadata": {},
   "source": [
    "#### Select columns of interest from ACS census (apartments and county)"
   ]
  },
  {
   "cell_type": "code",
   "execution_count": 5,
   "id": "3ea2034e",
   "metadata": {},
   "outputs": [],
   "source": [
    "not_residential = df[['Geography','Estimate Percent occupied housing units Occupied housing units UNITS IN STRUCTURE 10 or more apartments']]"
   ]
  },
  {
   "cell_type": "code",
   "execution_count": 6,
   "id": "7fa43591",
   "metadata": {},
   "outputs": [],
   "source": [
    "not_residential.rename(columns={'Estimate Percent occupied housing units Occupied housing units UNITS IN STRUCTURE 10 or more apartments':'apartments', 'Geography':'County'}, inplace=True)"
   ]
  },
  {
   "cell_type": "code",
   "execution_count": 7,
   "id": "c97035c3",
   "metadata": {},
   "outputs": [],
   "source": [
    "not_residential['County'] = not_residential['County'].str.split('S', expand=True)[1]\n",
    "not_residential['County'] = not_residential['County'].astype(int)\n",
    "\n",
    "# not_residential.head()"
   ]
  },
  {
   "cell_type": "code",
   "execution_count": 8,
   "id": "c819b468",
   "metadata": {},
   "outputs": [],
   "source": [
    "# Merge df with GSV indicators\n",
    "\n",
    "merged = gsv.merge(not_residential, left_on='county', right_on='County', how='inner')"
   ]
  },
  {
   "cell_type": "code",
   "execution_count": 9,
   "id": "00efa57b",
   "metadata": {},
   "outputs": [],
   "source": [
    "# merged.head(3)"
   ]
  },
  {
   "cell_type": "markdown",
   "id": "2525eac3",
   "metadata": {},
   "source": [
    "#### Load county dataset, then extract latitude and longitude centroids of each county"
   ]
  },
  {
   "cell_type": "code",
   "execution_count": 10,
   "id": "54b35c95",
   "metadata": {},
   "outputs": [],
   "source": [
    "import geopandas as gpd\n",
    "from geopandas import GeoDataFrame\n",
    "\n",
    "counties = gpd.read_file('https://cdn.jsdelivr.net/npm/us-atlas@3/counties-10m.json')\\\n",
    "                                                                            .sort_values(by='id').reset_index(drop=True)\n",
    "\n",
    "empty = counties['geometry'].is_empty\n",
    "counties_non_empty = counties[~empty]"
   ]
  },
  {
   "cell_type": "code",
   "execution_count": 11,
   "id": "254a660a",
   "metadata": {},
   "outputs": [],
   "source": [
    "counties_non_empty['lon'] = counties_non_empty['geometry'].centroid.x\n",
    "counties_non_empty['lat'] = counties_non_empty['geometry'].centroid.y\n",
    "counties_non_empty['id'] = counties_non_empty['id'].astype('int')"
   ]
  },
  {
   "cell_type": "code",
   "execution_count": 12,
   "id": "6adc9923",
   "metadata": {},
   "outputs": [],
   "source": [
    "# counties_non_empty.head()"
   ]
  },
  {
   "cell_type": "markdown",
   "id": "02836eaf",
   "metadata": {},
   "source": [
    "#### Merge all the dataframes to a single dataframe with relevant features"
   ]
  },
  {
   "cell_type": "code",
   "execution_count": 13,
   "id": "d84e9afb",
   "metadata": {},
   "outputs": [],
   "source": [
    "data = merged.merge(counties_non_empty, left_on='county', right_on='id', how='inner')"
   ]
  },
  {
   "cell_type": "code",
   "execution_count": 14,
   "id": "61d7dab2",
   "metadata": {},
   "outputs": [],
   "source": [
    "# data.head()"
   ]
  },
  {
   "cell_type": "code",
   "execution_count": 15,
   "id": "49d684c9",
   "metadata": {},
   "outputs": [],
   "source": [
    "data.drop(['County', 'id', 'name'], axis=1, inplace=True)"
   ]
  },
  {
   "cell_type": "code",
   "execution_count": 16,
   "id": "4c611a69",
   "metadata": {},
   "outputs": [],
   "source": [
    "data['apartments'] = data['apartments'].apply(lambda x: pd.to_numeric(x, errors='coerce'))\n",
    "data = data.dropna()"
   ]
  },
  {
   "cell_type": "markdown",
   "id": "36b26f90",
   "metadata": {},
   "source": [
    "#### Prepare data for LCC"
   ]
  },
  {
   "cell_type": "code",
   "execution_count": 17,
   "id": "f83509ac",
   "metadata": {},
   "outputs": [
    {
     "data": {
      "text/html": [
       "<div>\n",
       "<style scoped>\n",
       "    .dataframe tbody tr th:only-of-type {\n",
       "        vertical-align: middle;\n",
       "    }\n",
       "\n",
       "    .dataframe tbody tr th {\n",
       "        vertical-align: top;\n",
       "    }\n",
       "\n",
       "    .dataframe thead th {\n",
       "        text-align: right;\n",
       "    }\n",
       "</style>\n",
       "<table border=\"1\" class=\"dataframe\">\n",
       "  <thead>\n",
       "    <tr style=\"text-align: right;\">\n",
       "      <th></th>\n",
       "      <th>county</th>\n",
       "      <th>prop_green</th>\n",
       "      <th>prop_crosswalk</th>\n",
       "      <th>prop_not_single_family_house</th>\n",
       "      <th>prop_single_lane</th>\n",
       "      <th>prop_triple_lane</th>\n",
       "      <th>prop_visible_wires</th>\n",
       "      <th>prop_sidewalk</th>\n",
       "      <th>prop_dilapidated_building</th>\n",
       "      <th>apartments</th>\n",
       "      <th>geometry</th>\n",
       "      <th>lon</th>\n",
       "      <th>lat</th>\n",
       "    </tr>\n",
       "  </thead>\n",
       "  <tbody>\n",
       "    <tr>\n",
       "      <th>0</th>\n",
       "      <td>1003</td>\n",
       "      <td>94.701791</td>\n",
       "      <td>0.776435</td>\n",
       "      <td>11.609485</td>\n",
       "      <td>67.706725</td>\n",
       "      <td>0</td>\n",
       "      <td>43.61403</td>\n",
       "      <td>10.864435</td>\n",
       "      <td>9.718299</td>\n",
       "      <td>8.2</td>\n",
       "      <td>POLYGON ((-88.00799 30.68468, -88.02593 30.753...</td>\n",
       "      <td>-87.723428</td>\n",
       "      <td>30.727208</td>\n",
       "    </tr>\n",
       "    <tr>\n",
       "      <th>1</th>\n",
       "      <td>1015</td>\n",
       "      <td>96.123673</td>\n",
       "      <td>0.675662</td>\n",
       "      <td>11.003635</td>\n",
       "      <td>74.779742</td>\n",
       "      <td>0</td>\n",
       "      <td>41.72571</td>\n",
       "      <td>8.514571</td>\n",
       "      <td>10.451194</td>\n",
       "      <td>4.2</td>\n",
       "      <td>POLYGON ((-86.06618 33.84258, -85.99439 33.864...</td>\n",
       "      <td>-85.825913</td>\n",
       "      <td>33.771158</td>\n",
       "    </tr>\n",
       "  </tbody>\n",
       "</table>\n",
       "</div>"
      ],
      "text/plain": [
       "   county  prop_green  prop_crosswalk  prop_not_single_family_house  \\\n",
       "0    1003   94.701791        0.776435                     11.609485   \n",
       "1    1015   96.123673        0.675662                     11.003635   \n",
       "\n",
       "   prop_single_lane  prop_triple_lane  prop_visible_wires  prop_sidewalk  \\\n",
       "0         67.706725                 0            43.61403      10.864435   \n",
       "1         74.779742                 0            41.72571       8.514571   \n",
       "\n",
       "   prop_dilapidated_building  apartments  \\\n",
       "0                   9.718299         8.2   \n",
       "1                  10.451194         4.2   \n",
       "\n",
       "                                            geometry        lon        lat  \n",
       "0  POLYGON ((-88.00799 30.68468, -88.02593 30.753... -87.723428  30.727208  \n",
       "1  POLYGON ((-86.06618 33.84258, -85.99439 33.864... -85.825913  33.771158  "
      ]
     },
     "execution_count": 17,
     "metadata": {},
     "output_type": "execute_result"
    }
   ],
   "source": [
    "g_y = data['prop_not_single_family_house'].values.reshape((-1,1))\n",
    "g_X = data[['apartments']].values\n",
    "\n",
    "u = data['lon']\n",
    "v = data['lat']\n",
    "\n",
    "g_coords = list(zip(u,v))\n",
    "\n",
    "data.head(2)"
   ]
  },
  {
   "cell_type": "code",
   "execution_count": 18,
   "id": "2c7cbfe8",
   "metadata": {},
   "outputs": [],
   "source": [
    "gdf = GeoDataFrame(data, crs=\"EPSG:4326\")  # change the EPSG, see whether the result changes\n",
    "\n",
    "# # gdf.plot(figsize=(50, 50))\n",
    "\n",
    "# fig, ax = plt.subplots(figsize=(30,30))\n",
    "# gdf.plot(ax=ax, color='tomato')\n",
    "# minx, miny, maxx, maxy = gdf.total_bounds\n",
    "# ax.set_xlim(minx, maxx)\n",
    "# ax.set_ylim(miny, maxy)"
   ]
  },
  {
   "cell_type": "markdown",
   "id": "efe9d76a",
   "metadata": {},
   "source": [
    "#### Calculate LCC using the old algo `{standardize ---> weight}`"
   ]
  },
  {
   "cell_type": "code",
   "execution_count": 19,
   "id": "37587e96",
   "metadata": {
    "scrolled": false
   },
   "outputs": [
    {
     "name": "stdout",
     "output_type": "stream",
     "text": [
      "46.0\n",
      "===========================================================================\n",
      "Model type                                                         Gaussian\n",
      "Number of observations:                                                 807\n",
      "Number of covariates:                                                     2\n",
      "\n",
      "Global Regression Results\n",
      "---------------------------------------------------------------------------\n",
      "Residual sum of squares:                                            675.862\n",
      "Log-likelihood:                                                   -1073.529\n",
      "AIC:                                                               2151.058\n",
      "AICc:                                                              2153.088\n",
      "BIC:                                                              -4712.263\n",
      "R2:                                                                   0.163\n",
      "Adj. R2:                                                              0.161\n",
      "\n",
      "Variable                              Est.         SE  t(Est/SE)    p-value\n",
      "------------------------------- ---------- ---------- ---------- ----------\n",
      "X0                                   0.000      0.032      0.000      1.000\n",
      "X1                                   0.403      0.032     12.498      0.000\n",
      "\n",
      "Geographically Weighted Regression (GWR) Results\n",
      "---------------------------------------------------------------------------\n",
      "Spatial kernel:                                           Adaptive bisquare\n",
      "Bandwidth used:                                                      46.000\n",
      "\n",
      "Diagnostic information\n",
      "---------------------------------------------------------------------------\n",
      "Residual sum of squares:                                            192.760\n",
      "Effective number of parameters (trace(S)):                           89.015\n",
      "Degree of freedom (n - trace(S)):                                   717.985\n",
      "Sigma estimate:                                                       0.518\n",
      "Log-likelihood:                                                    -567.320\n",
      "AIC:                                                               1314.670\n",
      "AICc:                                                              1337.556\n",
      "BIC:                                                               1737.141\n",
      "R2:                                                                   0.761\n",
      "Adjusted R2:                                                          0.731\n",
      "Adj. alpha (95%):                                                     0.001\n",
      "Adj. critical t value (95%):                                          3.269\n",
      "\n",
      "Summary Statistics For GWR Parameter Estimates\n",
      "---------------------------------------------------------------------------\n",
      "Variable                   Mean        STD        Min     Median        Max\n",
      "-------------------- ---------- ---------- ---------- ---------- ----------\n",
      "X0                       -0.050      0.671     -0.705     -0.325      2.428\n",
      "X1                        0.223      0.292     -0.601      0.213      1.020\n",
      "===========================================================================\n",
      "\n"
     ]
    }
   ],
   "source": [
    "gwr_selector_o = Sel_BW(g_coords, g_y, g_X)\n",
    "gwr_bw_o = gwr_selector_o.search()\n",
    "print(gwr_bw_o)\n",
    "gwr_results_o = GWR(g_coords, g_y, g_X, gwr_bw_o, constant=True, lwcc=False).fit()\n",
    "gwr_results_o.summary()"
   ]
  },
  {
   "cell_type": "markdown",
   "id": "5082d85c",
   "metadata": {},
   "source": [
    "### GW - Correlation Coefficient"
   ]
  },
  {
   "cell_type": "markdown",
   "id": "22d61600",
   "metadata": {},
   "source": [
    "\n",
    "$$\n",
    "   \\frac{(x_j - \\overline x_i)(y_j - \\overline y_i) w_ij}{w_ij\\sqrt (x_j - \\overline x_i)^2 . \\sqrt (y_j - \\overline y_i)^2 }\\\n",
    "$$\n",
    "\n",
    "From Page 162-163 of [GWR - The analysis of spatially varying relationships](https://www.academia.edu/33626785/Geographically_Weighted_Regression_The_Analysis_of_Spatially_Varying_Relationships_Wiley_2002)\n"
   ]
  },
  {
   "cell_type": "code",
   "execution_count": 23,
   "id": "5627a148",
   "metadata": {},
   "outputs": [
    {
     "data": {
      "text/plain": [
       "0.057001239157372985"
      ]
     },
     "execution_count": 23,
     "metadata": {},
     "output_type": "execute_result"
    }
   ],
   "source": [
    "for i in range(len(g_X)):\n",
    "    wi = gwr_results_o.model._build_wi(i, gwr_bw_o).reshape(-1,1)\n",
    "    x = g_X\n",
    "    xi_mean = (x*wi).mean()\n",
    "    y= g_y\n",
    "    yi_mean = (y*wi).mean()\n",
    "    numerator = wi*((x - xi_mean) * (y - yi_mean))\n",
    "    denom = (wi*((np.sqrt((x - xi_mean)**2))) * ((np.sqrt((y - yi_mean)**2))))\n",
    "    r = (numerator/denom)\n",
    "    r[np.isnan(r)] = 0\n",
    "\n",
    "    \n",
    "r.mean()"
   ]
  },
  {
   "cell_type": "code",
   "execution_count": 31,
   "id": "147239e9",
   "metadata": {},
   "outputs": [],
   "source": [
    "x_ = np.hstack((x,y))\n",
    "\n",
    "def corr(cov):\n",
    "    invsd = np.diag(1 / np.sqrt(np.diag(cov)))\n",
    "    cors = np.dot(np.dot(invsd, cov), invsd)\n",
    "    return cors\n",
    "\n",
    "corr_mat = np.ndarray(shape=(807, 1))\n",
    "sw = np.sum(wi)\n",
    "wi = wi/sw\n",
    "\n",
    "for i in range(len(g_X)):\n",
    "    wi_ = gwr_results_o.model._build_wi(i, gwr_bw_o)\n",
    "    corr_mat[i] = corr(np.cov(x_[:, 0], x_[:, 1], aweights=wi_))[0][1]\n"
   ]
  },
  {
   "cell_type": "code",
   "execution_count": 30,
   "id": "d922a1eb",
   "metadata": {},
   "outputs": [
    {
     "data": {
      "text/plain": [
       "0.35426799784612467"
      ]
     },
     "execution_count": 30,
     "metadata": {},
     "output_type": "execute_result"
    }
   ],
   "source": [
    "corr_mat.mean()"
   ]
  },
  {
   "cell_type": "markdown",
   "id": "96f9e62c",
   "metadata": {},
   "source": [
    "### Cartography"
   ]
  },
  {
   "cell_type": "markdown",
   "id": "e27abcac",
   "metadata": {},
   "source": [
    "#### Textbook LCC implemetation visualization"
   ]
  },
  {
   "cell_type": "code",
   "execution_count": 36,
   "id": "c3a56308",
   "metadata": {},
   "outputs": [],
   "source": [
    "data['textbook_calc'] = r"
   ]
  },
  {
   "cell_type": "code",
   "execution_count": 37,
   "id": "9563435c",
   "metadata": {
    "scrolled": false
   },
   "outputs": [
    {
     "data": {
      "image/png": "[encoded data removed]",
      "text/plain": [
       "<Figure size 1080x1080 with 2 Axes>"
      ]
     },
     "metadata": {},
     "output_type": "display_data"
    }
   ],
   "source": [
    "figsize=(14,10)\n",
    "fig, ax = plt.subplots(1, figsize=(15, 15))\n",
    "\n",
    "gdf.plot(column='textbook_calc', ax=ax, cmap='RdBu_r', figsize=figsize, linewidth=0.5, vmin=0, vmax=1)\n",
    "\n",
    "ax.axis(\"off\")\n",
    "\n",
    "scatter = ax.collections[-1]\n",
    "plt.colorbar(scatter, ax=ax, extend='min', orientation='horizontal', fraction=0.046, pad=0.04)\n",
    "gdf.boundary.plot(ax=ax, color='black',alpha=0.2)\n",
    "\n",
    "\n",
    "plt.title(\"Textbook implementation\", fontsize='30', color='k')\n",
    "\n",
    "\n",
    "plt.savefig(\"./images/textbook\")"
   ]
  },
  {
   "cell_type": "markdown",
   "id": "4c2cc39d",
   "metadata": {},
   "source": [
    "#### GWR implementation visualization"
   ]
  },
  {
   "cell_type": "code",
   "execution_count": null,
   "id": "b25377f7",
   "metadata": {},
   "outputs": [],
   "source": [
    "data['gwr_calc'] = corr_mat"
   ]
  },
  {
   "cell_type": "code",
   "execution_count": null,
   "id": "7ec3dabf",
   "metadata": {},
   "outputs": [],
   "source": []
  },
  {
   "cell_type": "code",
   "execution_count": null,
   "id": "a8b02493",
   "metadata": {},
   "outputs": [],
   "source": []
  },
  {
   "cell_type": "code",
   "execution_count": null,
   "id": "9cf36e30",
   "metadata": {},
   "outputs": [],
   "source": []
  },
  {
   "cell_type": "code",
   "execution_count": null,
   "id": "35a419ae",
   "metadata": {},
   "outputs": [],
   "source": []
  },
  {
   "cell_type": "code",
   "execution_count": null,
   "id": "dcfb4bbd",
   "metadata": {},
   "outputs": [],
   "source": []
  },
  {
   "cell_type": "code",
   "execution_count": null,
   "id": "c2c35ecb",
   "metadata": {},
   "outputs": [],
   "source": []
  },
  {
   "cell_type": "code",
   "execution_count": null,
   "id": "f2d9e7ec",
   "metadata": {},
   "outputs": [],
   "source": []
  },
  {
   "cell_type": "code",
   "execution_count": null,
   "id": "9ba7d23a",
   "metadata": {},
   "outputs": [],
   "source": []
  },
  {
   "cell_type": "markdown",
   "id": "8bb6a4b9",
   "metadata": {},
   "source": [
    "#### Calculate LCC using the new algo `{weight ---> standardize}`"
   ]
  },
  {
   "cell_type": "code",
   "execution_count": 68,
   "id": "0f1735c7",
   "metadata": {
    "scrolled": false
   },
   "outputs": [
    {
     "name": "stdout",
     "output_type": "stream",
     "text": [
      "46.0\n",
      "===========================================================================\n",
      "Model type                                                         Gaussian\n",
      "Number of observations:                                                 807\n",
      "Number of covariates:                                                     1\n",
      "\n",
      "Global Regression Results\n",
      "---------------------------------------------------------------------------\n",
      "Residual sum of squares:                                         164058.638\n",
      "Log-likelihood:                                                   -3289.547\n",
      "AIC:                                                               6581.094\n",
      "AICc:                                                              6583.109\n",
      "BIC:                                                             158663.819\n",
      "R2:                                                                   0.354\n",
      "Adj. R2:                                                              0.354\n",
      "\n",
      "Variable                              Est.         SE  t(Est/SE)    p-value\n",
      "------------------------------- ---------- ---------- ---------- ----------\n",
      "X0                                   2.183      0.041     53.113      0.000\n",
      "\n",
      "Geographically Weighted Regression (GWR) Results\n",
      "---------------------------------------------------------------------------\n",
      "Spatial kernel:                                           Adaptive bisquare\n",
      "Bandwidth used:                                                      46.000\n",
      "\n",
      "Diagnostic information\n",
      "---------------------------------------------------------------------------\n",
      "Residual sum of squares:                                         354350.172\n",
      "Effective number of parameters (trace(S)):                           90.102\n",
      "Degree of freedom (n - trace(S)):                                   716.898\n",
      "Sigma estimate:                                                      22.232\n",
      "Log-likelihood:                                                   -3600.267\n",
      "AIC:                                                               7382.738\n",
      "AICc:                                                              7406.212\n",
      "BIC:                                                               7810.309\n",
      "R2:                                                                  -0.396\n",
      "Adjusted R2:                                                         -0.571\n",
      "Adj. alpha (95%):                                                     0.001\n",
      "Adj. critical t value (95%):                                          3.467\n",
      "\n",
      "Summary Statistics For GWR Parameter Estimates\n",
      "---------------------------------------------------------------------------\n",
      "Variable                   Mean        STD        Min     Median        Max\n",
      "-------------------- ---------- ---------- ---------- ---------- ----------\n",
      "X0                        0.924      0.036      0.804      0.934      0.981\n",
      "===========================================================================\n",
      "\n"
     ]
    }
   ],
   "source": [
    "gwr_selector_n = Sel_BW(g_coords, g_y, g_X)\n",
    "gwr_bw_n = gwr_selector_n.search()\n",
    "print(gwr_bw_n)\n",
    "gwr_results_n = GWR(g_coords, g_y, g_X, gwr_bw_n, constant=False, lwcc=True).fit()\n",
    "gwr_results_n.summary()"
   ]
  },
  {
   "cell_type": "code",
   "execution_count": 24,
   "id": "df97c7bf",
   "metadata": {},
   "outputs": [],
   "source": [
    "data['new_algo_params'] = gwr_results_n.params"
   ]
  },
  {
   "cell_type": "code",
   "execution_count": 38,
   "id": "f3f8f6ab",
   "metadata": {},
   "outputs": [],
   "source": [
    "# figsize=(14,10)\n",
    "# colors = 6\n",
    "# fig, ax = plt.subplots(1, figsize=(15, 15))\n",
    "\n",
    "# gdf.plot(column='new_algo_params', ax=ax, cmap='RdBu_r', figsize=figsize, linewidth=0.5, vmin=0, vmax=1)\n",
    "\n",
    "# ax.axis(\"off\")\n",
    "\n",
    "# scatter = ax.collections[-1]\n",
    "# plt.colorbar(scatter, ax=ax, extend='min', orientation='horizontal', fraction=0.046, pad=0.04)\n",
    "# gdf.boundary.plot(ax=ax,color='black',alpha=0.2)\n",
    "\n",
    "\n",
    "# plt.title(\"New Algo (Weight >>> Standardize)\", fontsize='30', color='k')\n",
    "\n",
    "\n",
    "# plt.savefig(\"./images/new_algo\")"
   ]
  },
  {
   "cell_type": "code",
   "execution_count": null,
   "id": "8c11bb05",
   "metadata": {},
   "outputs": [],
   "source": []
  },
  {
   "cell_type": "markdown",
   "id": "5f6f46de",
   "metadata": {},
   "source": [
    "#### Locally weightedPeason's r Independently calculated"
   ]
  },
  {
   "cell_type": "code",
   "execution_count": 39,
   "id": "8508cd0a",
   "metadata": {},
   "outputs": [],
   "source": [
    "# corr = []\n",
    "\n",
    "# for i in range(len(g_X)):\n",
    "#     wi = gwr_results.model._build_wi(i, gwr_bw).reshape(-1,1)\n",
    "#     xw = g_X*wi\n",
    "#     yw = g_y*wi\n",
    "#     corr_coef, _ = stats.pearsonr(xw.flatten(), yw.flatten())\n",
    "#     corr.append(corr_coef)\n",
    "\n",
    "# np.array(corr).mean()"
   ]
  },
  {
   "cell_type": "markdown",
   "id": "b5874e35",
   "metadata": {},
   "source": [
    "#### Global correlation coefficient"
   ]
  },
  {
   "cell_type": "code",
   "execution_count": 40,
   "id": "8eeb706b",
   "metadata": {},
   "outputs": [],
   "source": [
    "# corr_g = []\n",
    "# corr_coef, _ = stats.pearsonr(g_X.flatten(), g_y.flatten())\n",
    "# corr_g.append(corr_coef)"
   ]
  },
  {
   "cell_type": "code",
   "execution_count": 41,
   "id": "ccc2e088",
   "metadata": {},
   "outputs": [],
   "source": [
    "# corr_g"
   ]
  },
  {
   "cell_type": "markdown",
   "id": "25bd4789",
   "metadata": {},
   "source": [
    "#### Global Regression"
   ]
  },
  {
   "cell_type": "code",
   "execution_count": 42,
   "id": "56cf00a3",
   "metadata": {},
   "outputs": [],
   "source": [
    "# import statsmodels.api as sm\n",
    "# from sklearn.preprocessing import StandardScaler\n",
    "\n",
    "# scaler = StandardScaler()\n",
    "\n",
    "# # xi =  g_X - g_X.mean(axis=0) / g_X.std(axis=0)\n",
    "# # yi =  g_y - g_y.mean(axis=0) / g_y.std(axis=0)\n",
    "\n",
    "\n",
    "# xi = scaler.fit_transform(g_X)\n",
    "# yi = scaler.fit_transform(g_y)\n",
    "\n",
    "# sm_results = sm.OLS(yi, xi).fit()\n",
    "\n",
    "# sm_results.params"
   ]
  },
  {
   "cell_type": "code",
   "execution_count": null,
   "id": "f5fc3c28",
   "metadata": {},
   "outputs": [],
   "source": []
  },
  {
   "cell_type": "code",
   "execution_count": null,
   "id": "729b7398",
   "metadata": {},
   "outputs": [],
   "source": []
  },
  {
   "cell_type": "code",
   "execution_count": null,
   "id": "ab74af04",
   "metadata": {},
   "outputs": [],
   "source": []
  },
  {
   "cell_type": "code",
   "execution_count": null,
   "id": "ec2f3679",
   "metadata": {},
   "outputs": [],
   "source": []
  },
  {
   "cell_type": "code",
   "execution_count": null,
   "id": "baaf3a00",
   "metadata": {},
   "outputs": [],
   "source": []
  },
  {
   "cell_type": "markdown",
   "id": "50b6a506",
   "metadata": {},
   "source": [
    "#### [Old Algo] Keep a random variable as the y for local_collinearity() "
   ]
  },
  {
   "cell_type": "raw",
   "id": "86249287",
   "metadata": {},
   "source": [
    "l_y = data['prop_visible_wires'].values.reshape((-1,1))\n",
    "l_X = data[['apartments', 'prop_not_single_family_house']].values\n",
    "\n",
    "gwr_selector_l = Sel_BW(g_coords, l_y, l_X)\n",
    "gwr_bw_l = gwr_selector_l.search()\n",
    "print(gwr_bw_l)\n",
    "gwr_results_l = GWR(g_coords, l_y, l_X, gwr_bw_l, constant=True, lwcc=False).fit()\n",
    "gwr_results_l.summary()\n",
    "\n",
    "\n",
    "a, _,_,_ = gwr_results_l.local_collinearity()\n",
    "\n",
    "gdf['local_collinearity'] = a\n",
    "\n",
    "gdf.local_collinearity[:5] # visualize first 5 samples\n",
    "\n",
    "mapp(col=gdf, name='local_collinearity',color='RdBu_r',filename=\"local_collinearity\",normal=False, title=\"Correlation coefficient from Local collinearity [Old Algo]\")"
   ]
  },
  {
   "cell_type": "raw",
   "id": "4674a50c",
   "metadata": {},
   "source": [
    "# Alternative LWCC Calculation\n",
    "\n",
    "for i in range(len(g_X)):\n",
    "    wi = gwr_results_o.model._build_wi(i, gwr_bw_o).reshape(-1,1)\n",
    "    x = g_X\n",
    "    xi_mean = (x*wi).mean()\n",
    "    y = g_y\n",
    "    yi_mean = (y*wi).mean()\n",
    "    x_diff = [var-xi_mean for var in x]\n",
    "    y_diff = [var-yi_mean for var in y]\n",
    "    xyw = ([a*b*c for a,b,c in list(zip(x_diff,y_diff, wi))])\n",
    "    \n",
    "    x_sq = [a*a for a in x_diff]\n",
    "    y_sq = [b*b for b in y_diff]\n",
    "    denom = np.sqrt(np.array(x_sq) * np.array(y_sq))\n",
    "    \n",
    "    r = xyw / denom\n",
    "    \n",
    "r.mean()"
   ]
  },
  {
   "cell_type": "raw",
   "id": "9239d4a4",
   "metadata": {},
   "source": [
    "import scipy as sp\n",
    "\n",
    "import matplotlib as mpl\n",
    "import matplotlib.pyplot as plt\n",
    "class MidpointNormalize(mpl.colors.Normalize):\n",
    "    def __init__(self, vmin, vmax, midpoint=0, clip=False):\n",
    "        self.midpoint = midpoint\n",
    "        mpl.colors.Normalize.__init__(self, vmin, vmax, clip)\n",
    "\n",
    "    def __call__(self, value, clip=None):\n",
    "        normalized_min = max(0, 1 / 2 * (1 - abs((self.midpoint - self.vmin) / (self.midpoint - self.vmax))))\n",
    "        normalized_max = min(1, 1 / 2 * (1 + abs((self.vmax - self.midpoint) / (self.midpoint - self.vmin))))\n",
    "        normalized_mid = 0.5\n",
    "        x, y = [self.vmin, self.midpoint, self.vmax], [normalized_min, normalized_mid, normalized_max]\n",
    "        return sp.ma.masked_array(sp.interp(value, x, y))\n",
    "\n",
    "\n",
    "\n",
    "\n",
    "def mapp(col,name,color,filename,normal=False, title=None):  \n",
    "    vmi=min(col[name])\n",
    "    vma=max(col[name])\n",
    "    figsize=(14,10)\n",
    "    colors = 10\n",
    "    norm = MidpointNormalize(vmin=vmi, vmax=vma, midpoint=0)\n",
    "    colors = 6\n",
    "    fig, ax = plt.subplots(1, figsize=(14, 14))\n",
    "\n",
    "    if normal==True:\n",
    "        col.plot(column=name, ax=ax,cmap=color,figsize=figsize,k=colors, linewidth=0.5,norm=norm)\n",
    "    else:\n",
    "        col.plot(column=name, ax=ax,cmap=color,figsize=figsize,k=colors, linewidth=0.5)\n",
    "\n",
    "    ax.axis(\"off\")\n",
    "\n",
    "    Scalebar = ScaleBar(100000,location='lower left') # 1 pixel = 0.2 meter\n",
    "    scatter = ax.collections[-1]\n",
    "\n",
    "    plt.colorbar(scatter, ax=ax, extend='min',orientation='horizontal',fraction=0.046, pad=0.04)\n",
    "    col.boundary.plot(ax=ax,color='grey',alpha=0.2)\n",
    "    \n",
    "    plt.title(title, fontsize='30', color='k')\n",
    "\n",
    "#     texts = []\n",
    "#     for x, y, lab in zip(label.geometry.x, label.geometry.y):\n",
    "#       texts.append(plt.text(x-1500, y-700, lab, fontsize = 8,horizontalalignment='left',verticalalignment='baseline',bbox=dict(facecolor='white', alpha=0.7,linewidth=0.0)))\n",
    "#     label.plot(ax=ax,alpha=1,color='black',linewidth=0.4)\n",
    "    \n",
    "\n",
    "    plt.savefig(\"./images/\"+filename)"
   ]
  }
 ],
 "metadata": {
  "kernelspec": {
   "display_name": "Python 3 (ipykernel)",
   "language": "python",
   "name": "python3"
  },
  "language_info": {
   "codemirror_mode": {
    "name": "ipython",
    "version": 3
   },
   "file_extension": ".py",
   "mimetype": "text/x-python",
   "name": "python",
   "nbconvert_exporter": "python",
   "pygments_lexer": "ipython3",
   "version": "3.9.12"
  }
 },
 "nbformat": 4,
 "nbformat_minor": 5
}
