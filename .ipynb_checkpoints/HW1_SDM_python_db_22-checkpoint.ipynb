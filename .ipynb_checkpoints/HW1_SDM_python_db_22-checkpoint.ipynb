{
 "cells": [
  {
   "cell_type": "markdown",
   "metadata": {
    "id": "G5Yfvqia5hiH"
   },
   "source": [
    "#HW1 Notebook Part\n",
    "\n",
    "Remember to mount your Google Drive."
   ]
  },
  {
   "cell_type": "code",
   "execution_count": null,
   "metadata": {
    "colab": {
     "base_uri": "https://localhost:8080/"
    },
    "id": "RYdQCyxCn2UD",
    "outputId": "0660e1a2-c69c-4d28-98b0-957ae08265af"
   },
   "outputs": [
    {
     "name": "stdout",
     "output_type": "stream",
     "text": [
      "/content/drive/MyDrive/SDM_course/SDM_course_python\n"
     ]
    }
   ],
   "source": [
    "#go to your google drive folder tree on the left panel, and right click a folder to copy its path\n",
    "#change folder location to what you copied\n",
    "%cd /content/drive/MyDrive/SDM_course/SDM_course_python"
   ]
  },
  {
   "cell_type": "code",
   "execution_count": null,
   "metadata": {
    "colab": {
     "base_uri": "https://localhost:8080/"
    },
    "id": "a0R4Q86woEhN",
    "outputId": "23025793-6dae-4900-98ef-e1ee559a88cb"
   },
   "outputs": [
    {
     "name": "stdout",
     "output_type": "stream",
     "text": [
      "chinook.db  SDM_python_db.ipynb\n"
     ]
    }
   ],
   "source": [
    "#run this to list the files in the folder. Confirm if \"chinook.db\" appears here.\n",
    "%ls"
   ]
  },
  {
   "cell_type": "markdown",
   "metadata": {
    "id": "p9S2gcGbD9xU"
   },
   "source": [
    "**Run the following cells before \"HW1 SQL Questions\" to import needed libraries, connect to the database, and load the function needed for printing.**"
   ]
  },
  {
   "cell_type": "code",
   "execution_count": null,
   "metadata": {
    "id": "_xkGEn95uh6W"
   },
   "outputs": [],
   "source": [
    "import sqlite3\n",
    "import pandas as pd\n",
    "from tabulate import tabulate"
   ]
  },
  {
   "cell_type": "code",
   "execution_count": null,
   "metadata": {
    "id": "1HsGhqzbo6Up"
   },
   "outputs": [],
   "source": [
    "#connect to the database\n",
    "#make sure the file is at the same folder of your notebook, or you have used %cd to change your working directory\n",
    "conn = sqlite3.connect('chinook.db')"
   ]
  },
  {
   "cell_type": "code",
   "execution_count": null,
   "metadata": {
    "id": "m304uql84GFd"
   },
   "outputs": [],
   "source": [
    "def print_sql(result, cursor, display_all = False, rows_to_display = 10):\n",
    "  \n",
    "  '''\n",
    "    Print function to display results from your query.\n",
    "    No need to understand this function if you do not have much experience with Python.\n",
    "    Just use it to print and look at the result.\n",
    "  '''  \n",
    "\n",
    "  print(\"Number of records: \", len(result))\n",
    "\n",
    "  att_names = [description[0] for description in cursor.description]\n",
    "\n",
    "  result_list = []\n",
    "  for row in result:\n",
    "      result_list.append(list(row))\n",
    "  \n",
    "  result_pd = pd.DataFrame(result_list, columns=att_names)\n",
    "\n",
    "  #in practice, move condition earlier when generating list\n",
    "  if not display_all:\n",
    "      result_pd = result_pd.head(rows_to_display)\n",
    "      print(\"Top %d rows: \" % (rows_to_display))\n",
    "\n",
    "  print(tabulate(result_pd,headers='keys',tablefmt='psql'))\n",
    "  #more info: https://www.linkedin.com/pulse/pretty-displaying-tricks-columnar-data-python-aadarsh-vadakattu\n",
    "\n",
    "  # return result_pd\n"
   ]
  },
  {
   "cell_type": "code",
   "execution_count": null,
   "metadata": {
    "colab": {
     "base_uri": "https://localhost:8080/"
    },
    "id": "gQEvoDbxuh_0",
    "outputId": "2621035a-abed-43bc-f11e-dfdce58cdd3e"
   },
   "outputs": [
    {
     "name": "stdout",
     "output_type": "stream",
     "text": [
      "Number of records:  59\n",
      "Top 10 rows: \n",
      "+----+--------------+-------------+-------------+--------------------------------------------------+--------------------------------------+---------------------+---------+----------------+--------------+--------------------+--------------------+--------------------------+----------------+\n",
      "|    |   CustomerId | FirstName   | LastName    | Company                                          | Address                              | City                | State   | Country        | PostalCode   | Phone              | Fax                | Email                    |   SupportRepId |\n",
      "|----+--------------+-------------+-------------+--------------------------------------------------+--------------------------------------+---------------------+---------+----------------+--------------+--------------------+--------------------+--------------------------+----------------|\n",
      "|  0 |            1 | Luís        | Gonçalves   | Embraer - Empresa Brasileira de Aeronáutica S.A. | Av. Brigadeiro Faria Lima, 2170      | São José dos Campos | SP      | Brazil         | 12227-000    | +55 (12) 3923-5555 | +55 (12) 3923-5566 | luisg@embraer.com.br     |              3 |\n",
      "|  1 |            2 | Leonie      | Köhler      |                                                  | Theodor-Heuss-Straße 34              | Stuttgart           |         | Germany        | 70174        | +49 0711 2842222   |                    | leonekohler@surfeu.de    |              5 |\n",
      "|  2 |            3 | François    | Tremblay    |                                                  | 1498 rue Bélanger                    | Montréal            | QC      | Canada         | H2G 1A7      | +1 (514) 721-4711  |                    | ftremblay@gmail.com      |              3 |\n",
      "|  3 |            4 | Bjørn       | Hansen      |                                                  | Ullevålsveien 14                     | Oslo                |         | Norway         | 0171         | +47 22 44 22 22    |                    | bjorn.hansen@yahoo.no    |              4 |\n",
      "|  4 |            5 | František   | Wichterlová | JetBrains s.r.o.                                 | Klanova 9/506                        | Prague              |         | Czech Republic | 14700        | +420 2 4172 5555   | +420 2 4172 5555   | frantisekw@jetbrains.com |              4 |\n",
      "|  5 |            6 | Helena      | Holý        |                                                  | Rilská 3174/6                        | Prague              |         | Czech Republic | 14300        | +420 2 4177 0449   |                    | hholy@gmail.com          |              5 |\n",
      "|  6 |            7 | Astrid      | Gruber      |                                                  | Rotenturmstraße 4, 1010 Innere Stadt | Vienne              |         | Austria        | 1010         | +43 01 5134505     |                    | astrid.gruber@apple.at   |              5 |\n",
      "|  7 |            8 | Daan        | Peeters     |                                                  | Grétrystraat 63                      | Brussels            |         | Belgium        | 1000         | +32 02 219 03 03   |                    | daan_peeters@apple.be    |              4 |\n",
      "|  8 |            9 | Kara        | Nielsen     |                                                  | Sønder Boulevard 51                  | Copenhagen          |         | Denmark        | 1720         | +453 3331 9991     |                    | kara.nielsen@jubii.dk    |              4 |\n",
      "|  9 |           10 | Eduardo     | Martins     | Woodstock Discos                                 | Rua Dr. Falcão Filho, 155            | São Paulo           | SP      | Brazil         | 01007-010    | +55 (11) 3033-5446 | +55 (11) 3033-4564 | eduardo@woodstock.com.br |              4 |\n",
      "+----+--------------+-------------+-------------+--------------------------------------------------+--------------------------------------+---------------------+---------+----------------+--------------+--------------------+--------------------+--------------------------+----------------+\n"
     ]
    }
   ],
   "source": [
    "#example query and printing\n",
    "\n",
    "#replace the SQL code inside the triple-quotes with yours for Q1 and Q2\n",
    "cursor = conn.execute(''' SELECT *\n",
    "                          FROM customers''')\n",
    "\n",
    "#get all results; this empties results in cursor\n",
    "result = cursor.fetchall()\n",
    "\n",
    "#print\n",
    "print_sql(result, cursor)"
   ]
  },
  {
   "cell_type": "markdown",
   "metadata": {
    "id": "s63wkSIn65F7"
   },
   "source": [
    "#HW1 SQL questions (pre-data-mining)\n",
    "\n",
    "Write SQL queries to answer the following questions, and copy your results to your PDF submission (the number of records, and a screenshot of the returned table):\n",
    "\n",
    "**Q1:** List the first and last names of employees who have supported customers with purchases that have a total greater than $25 (\"Total\" column in \"invoices\" table shows the total cost of a purchase).\n",
    "\n",
    "**Hint:** Think about which tables are needed? What are the keys (attributes) needed to join the tables (think \"join\" as simply a \"equivalence condition\" that you put in the WHERE clause to filter results)? What are the attributes that you need as an output? What are the conditions?\n",
    "\n",
    "**Check out the demo code we used in class or visit office hours if you have confusion.**"
   ]
  },
  {
   "cell_type": "code",
   "execution_count": null,
   "metadata": {
    "id": "Rnp_djCb6216"
   },
   "outputs": [],
   "source": [
    "cursor = conn.execute(''' PUT YOUR SQL code here''')\n",
    "\n",
    "result = cursor.fetchall()\n",
    "print_sql(result, cursor)"
   ]
  },
  {
   "cell_type": "markdown",
   "metadata": {
    "id": "PFmwIpYMBD4p"
   },
   "source": [
    "**Q2:** List the names of all playlists that contain a track with a genre named \"Jazz\".\n",
    "\n",
    "**Hint:** It is okay if you see duplicates of playlist names. The SQL code itself and the number of returned rows are sufficient for me to verify correctness."
   ]
  },
  {
   "cell_type": "code",
   "execution_count": null,
   "metadata": {
    "id": "x6iu-IsH8B_D"
   },
   "outputs": [],
   "source": [
    "#replace the SQL code inside the triple-quotes with yours\n",
    "cursor = conn.execute(''' PUT YOUR SQL code here''')\n",
    "\n",
    "result = cursor.fetchall()\n",
    "print_sql(result, cursor)"
   ]
  }
 ],
 "metadata": {
  "colab": {
   "collapsed_sections": [],
   "provenance": []
  },
  "kernelspec": {
   "display_name": "Python 3",
   "name": "python3"
  },
  "language_info": {
   "name": "python"
  }
 },
 "nbformat": 4,
 "nbformat_minor": 0
}
