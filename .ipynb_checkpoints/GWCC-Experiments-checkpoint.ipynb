{
 "cells": [
  {
   "cell_type": "markdown",
   "metadata": {},
   "source": [
    "## Geographically Weighted Correlation Coefficient"
   ]
  },
  {
   "cell_type": "markdown",
   "metadata": {},
   "source": [
    "### Import relevant dependencies"
   ]
  },
  {
   "cell_type": "code",
   "execution_count": 1,
   "metadata": {},
   "outputs": [],
   "source": [
    "import pandas as pd\n",
    "import numpy as np\n",
    "import geopandas as gp\n",
    "import libpysal as ps\n",
    "from mgwr.gwr import GWR, MGWR, GWRResults\n",
    "from mgwr.sel_bw import Sel_BW"
   ]
  },
  {
   "cell_type": "code",
   "execution_count": 2,
   "metadata": {},
   "outputs": [],
   "source": [
    "georgia_data = pd.read_csv(ps.examples.get_path('GData_utm.csv'))\n",
    "georgia_shp = gp.read_file(ps.examples.get_path('G_utm.shp'))"
   ]
  },
  {
   "cell_type": "markdown",
   "metadata": {},
   "source": [
    "#### Prepare the Georgia dataset inputs"
   ]
  },
  {
   "cell_type": "code",
   "execution_count": 3,
   "metadata": {},
   "outputs": [],
   "source": [
    "g_y = georgia_data['PctBach'].values.reshape((-1,1))\n",
    "g_X = georgia_data[['PctFB']].values\n",
    "u = georgia_data['X']\n",
    "v = georgia_data['Y']\n",
    "\n",
    "\n",
    "g_coords = list(zip(u,v))"
   ]
  },
  {
   "cell_type": "code",
   "execution_count": 4,
   "metadata": {
    "scrolled": true
   },
   "outputs": [
    {
     "data": {
      "text/html": [
       "<div>\n",
       "<style scoped>\n",
       "    .dataframe tbody tr th:only-of-type {\n",
       "        vertical-align: middle;\n",
       "    }\n",
       "\n",
       "    .dataframe tbody tr th {\n",
       "        vertical-align: top;\n",
       "    }\n",
       "\n",
       "    .dataframe thead th {\n",
       "        text-align: right;\n",
       "    }\n",
       "</style>\n",
       "<table border=\"1\" class=\"dataframe\">\n",
       "  <thead>\n",
       "    <tr style=\"text-align: right;\">\n",
       "      <th></th>\n",
       "      <th>AreaKey</th>\n",
       "      <th>Latitude</th>\n",
       "      <th>Longitud</th>\n",
       "      <th>TotPop90</th>\n",
       "      <th>PctRural</th>\n",
       "      <th>PctBach</th>\n",
       "      <th>PctEld</th>\n",
       "      <th>PctFB</th>\n",
       "      <th>PctPov</th>\n",
       "      <th>PctBlack</th>\n",
       "      <th>ID</th>\n",
       "      <th>X</th>\n",
       "      <th>Y</th>\n",
       "    </tr>\n",
       "  </thead>\n",
       "  <tbody>\n",
       "    <tr>\n",
       "      <th>0</th>\n",
       "      <td>13001</td>\n",
       "      <td>31.75339</td>\n",
       "      <td>-82.28558</td>\n",
       "      <td>15744</td>\n",
       "      <td>75.6</td>\n",
       "      <td>8.2</td>\n",
       "      <td>11.43</td>\n",
       "      <td>0.64</td>\n",
       "      <td>19.9</td>\n",
       "      <td>20.76</td>\n",
       "      <td>133</td>\n",
       "      <td>941396.6</td>\n",
       "      <td>3521764.0</td>\n",
       "    </tr>\n",
       "    <tr>\n",
       "      <th>1</th>\n",
       "      <td>13003</td>\n",
       "      <td>31.29486</td>\n",
       "      <td>-82.87474</td>\n",
       "      <td>6213</td>\n",
       "      <td>100.0</td>\n",
       "      <td>6.4</td>\n",
       "      <td>11.77</td>\n",
       "      <td>1.58</td>\n",
       "      <td>26.0</td>\n",
       "      <td>26.86</td>\n",
       "      <td>158</td>\n",
       "      <td>895553.0</td>\n",
       "      <td>3471916.0</td>\n",
       "    </tr>\n",
       "    <tr>\n",
       "      <th>2</th>\n",
       "      <td>13005</td>\n",
       "      <td>31.55678</td>\n",
       "      <td>-82.45115</td>\n",
       "      <td>9566</td>\n",
       "      <td>61.7</td>\n",
       "      <td>6.6</td>\n",
       "      <td>11.11</td>\n",
       "      <td>0.27</td>\n",
       "      <td>24.1</td>\n",
       "      <td>15.42</td>\n",
       "      <td>146</td>\n",
       "      <td>930946.4</td>\n",
       "      <td>3502787.0</td>\n",
       "    </tr>\n",
       "    <tr>\n",
       "      <th>3</th>\n",
       "      <td>13007</td>\n",
       "      <td>31.33084</td>\n",
       "      <td>-84.45401</td>\n",
       "      <td>3615</td>\n",
       "      <td>100.0</td>\n",
       "      <td>9.4</td>\n",
       "      <td>13.17</td>\n",
       "      <td>0.11</td>\n",
       "      <td>24.8</td>\n",
       "      <td>51.67</td>\n",
       "      <td>155</td>\n",
       "      <td>745398.6</td>\n",
       "      <td>3474765.0</td>\n",
       "    </tr>\n",
       "    <tr>\n",
       "      <th>4</th>\n",
       "      <td>13009</td>\n",
       "      <td>33.07193</td>\n",
       "      <td>-83.25085</td>\n",
       "      <td>39530</td>\n",
       "      <td>42.7</td>\n",
       "      <td>13.3</td>\n",
       "      <td>8.64</td>\n",
       "      <td>1.43</td>\n",
       "      <td>17.5</td>\n",
       "      <td>42.39</td>\n",
       "      <td>79</td>\n",
       "      <td>849431.3</td>\n",
       "      <td>3665553.0</td>\n",
       "    </tr>\n",
       "  </tbody>\n",
       "</table>\n",
       "</div>"
      ],
      "text/plain": [
       "   AreaKey  Latitude  Longitud  TotPop90  PctRural  PctBach  PctEld  PctFB  \\\n",
       "0    13001  31.75339 -82.28558     15744      75.6      8.2   11.43   0.64   \n",
       "1    13003  31.29486 -82.87474      6213     100.0      6.4   11.77   1.58   \n",
       "2    13005  31.55678 -82.45115      9566      61.7      6.6   11.11   0.27   \n",
       "3    13007  31.33084 -84.45401      3615     100.0      9.4   13.17   0.11   \n",
       "4    13009  33.07193 -83.25085     39530      42.7     13.3    8.64   1.43   \n",
       "\n",
       "   PctPov  PctBlack   ID         X          Y  \n",
       "0    19.9     20.76  133  941396.6  3521764.0  \n",
       "1    26.0     26.86  158  895553.0  3471916.0  \n",
       "2    24.1     15.42  146  930946.4  3502787.0  \n",
       "3    24.8     51.67  155  745398.6  3474765.0  \n",
       "4    17.5     42.39   79  849431.3  3665553.0  "
      ]
     },
     "execution_count": 4,
     "metadata": {},
     "output_type": "execute_result"
    }
   ],
   "source": [
    "georgia_data.head()"
   ]
  },
  {
   "cell_type": "markdown",
   "metadata": {},
   "source": [
    "#### Standardization Routine"
   ]
  },
  {
   "cell_type": "code",
   "execution_count": 5,
   "metadata": {},
   "outputs": [],
   "source": [
    "# g_X = (g_X - g_X.mean(axis=0)) / g_X.std(axis=0)\n",
    "\n",
    "# g_y = g_y.reshape((-1,1))  \n",
    "\n",
    "# g_y = (g_y - g_y.mean(axis=0)) / g_y.std(axis=0)"
   ]
  },
  {
   "cell_type": "markdown",
   "metadata": {},
   "source": [
    "#### Calibrate GWR model"
   ]
  },
  {
   "cell_type": "code",
   "execution_count": 6,
   "metadata": {
    "scrolled": true
   },
   "outputs": [],
   "source": [
    "g_y = georgia_data['PctBach'].values.reshape((-1,1))\n",
    "g_X = georgia_data[['PctFB']].values\n",
    "u = georgia_data['X']\n",
    "v = georgia_data['Y']\n",
    "\n",
    "\n",
    "g_coords = list(zip(u,v))\n",
    "\n",
    "\n",
    "gwr_selector = Sel_BW(g_coords, g_y, g_X, constant=True)\n",
    "gwr_bw = gwr_selector.search()\n",
    "\n",
    "gwr_results = GWR(g_coords, g_y, g_X, 50, constant=True).fit()"
   ]
  },
  {
   "cell_type": "code",
   "execution_count": 7,
   "metadata": {
    "scrolled": false
   },
   "outputs": [
    {
     "name": "stdout",
     "output_type": "stream",
     "text": [
      "===========================================================================\n",
      "Model type                                                         Gaussian\n",
      "Number of observations:                                                 159\n",
      "Number of covariates:                                                     2\n",
      "\n",
      "Global Regression Results\n",
      "---------------------------------------------------------------------------\n",
      "Residual sum of squares:                                             87.210\n",
      "Log-likelihood:                                                    -177.864\n",
      "AIC:                                                                359.729\n",
      "AICc:                                                               361.883\n",
      "BIC:                                                               -708.608\n",
      "R2:                                                                   0.452\n",
      "Adj. R2:                                                              0.448\n",
      "\n",
      "Variable                              Est.         SE  t(Est/SE)    p-value\n",
      "------------------------------- ---------- ---------- ---------- ----------\n",
      "X0                                   0.000      0.059      0.000      1.000\n",
      "X1                                   0.672      0.059     11.368      0.000\n",
      "\n",
      "Geographically Weighted Regression (GWR) Results\n",
      "---------------------------------------------------------------------------\n",
      "Spatial kernel:                                           Adaptive bisquare\n",
      "Bandwidth used:                                                      50.000\n",
      "\n",
      "Diagnostic information\n",
      "---------------------------------------------------------------------------\n",
      "Residual sum of squares:                                             58.716\n",
      "Effective number of parameters (trace(S)):                           15.950\n",
      "Degree of freedom (n - trace(S)):                                   143.050\n",
      "Sigma estimate:                                                       0.641\n",
      "Log-likelihood:                                                    -146.414\n",
      "AIC:                                                                326.728\n",
      "AICc:                                                               331.043\n",
      "BIC:                                                                378.747\n",
      "R2:                                                                   0.631\n",
      "Adjusted R2:                                                          0.589\n",
      "Adj. alpha (95%):                                                     0.006\n",
      "Adj. critical t value (95%):                                          2.770\n",
      "\n",
      "Summary Statistics For GWR Parameter Estimates\n",
      "---------------------------------------------------------------------------\n",
      "Variable                   Mean        STD        Min     Median        Max\n",
      "-------------------- ---------- ---------- ---------- ---------- ----------\n",
      "X0                       -0.000      0.198     -0.395      0.027      0.347\n",
      "X1                        0.647      0.312      0.039      0.742      1.182\n",
      "===========================================================================\n",
      "\n"
     ]
    }
   ],
   "source": [
    "gwr_results.summary()"
   ]
  },
  {
   "cell_type": "markdown",
   "metadata": {},
   "source": [
    "### GW - Correlation Coefficient"
   ]
  },
  {
   "cell_type": "markdown",
   "metadata": {},
   "source": [
    "\n",
    "$$\n",
    "   \\frac{(x_j - \\overline x_i)(y_j - \\overline y_i) w_ij}{\\sqrt w_ij(x_j - \\overline x_i)^2 . \\sqrt w_ij(y_j - \\overline y_i)^2 }\\\n",
    "$$\n",
    "\n",
    "From Page 162-163 of [GWR - The analysis of spatially varying relationships](https://www.academia.edu/33626785/Geographically_Weighted_Regression_The_Analysis_of_Spatially_Varying_Relationships_Wiley_2002)\n"
   ]
  },
  {
   "cell_type": "markdown",
   "metadata": {},
   "source": [
    "#### Implementation"
   ]
  },
  {
   "cell_type": "code",
   "execution_count": 18,
   "metadata": {},
   "outputs": [
    {
     "name": "stderr",
     "output_type": "stream",
     "text": [
      "C:\\Users\\Lenovo\\AppData\\Local\\Temp\\ipykernel_28524\\4103135464.py:22: RuntimeWarning: invalid value encountered in true_divide\n",
      "  r = (numerator/denom)\n"
     ]
    }
   ],
   "source": [
    "# wi =  gwr_results.model._build_wi(0, 50).reshape(-1,1)\n",
    "# x = g_X\n",
    "# xi_mean = (x*wi).mean(axis=0)\n",
    "# y= g_y\n",
    "# yi_mean = (y*wi).mean(axis=0)\n",
    "\n",
    "# xi = x*wi\n",
    "# yi = y*wi\n",
    "\n",
    "\n",
    "\n",
    "corr = []\n",
    "\n",
    "for i in range(len(g_X)):\n",
    "    wi = gwr_results.model._build_wi(i, 50).reshape(-1,1)\n",
    "    x = g_X\n",
    "    xi_mean = (x*wi).mean(axis=0)\n",
    "    y= g_y\n",
    "    yi_mean = (y*wi).mean(axis=0)\n",
    "    numerator = wi*((x - xi_mean) * (y - yi_mean))\n",
    "    denom = ((wi*(np.sqrt((x - xi_mean)**2))) * (wi*(np.sqrt((y - yi_mean)**2))))\n",
    "    r = (numerator/denom)\n",
    "#     r[np.isnan(r)] = 0\n",
    "#     corr.append(r)\n",
    "\n",
    "# np.array(corr).mean()"
   ]
  },
  {
   "cell_type": "code",
   "execution_count": null,
   "metadata": {},
   "outputs": [],
   "source": []
  },
  {
   "cell_type": "code",
   "execution_count": 9,
   "metadata": {},
   "outputs": [],
   "source": [
    "# !pip install statsmodels"
   ]
  },
  {
   "cell_type": "code",
   "execution_count": 11,
   "metadata": {},
   "outputs": [
    {
     "name": "stdout",
     "output_type": "stream",
     "text": [
      "[[1.         0.72793246]\n",
      " [0.72793246 1.        ]]\n"
     ]
    },
    {
     "data": {
      "text/html": [
       "<table class=\"simpletable\">\n",
       "<caption>OLS Regression Results</caption>\n",
       "<tr>\n",
       "  <th>Dep. Variable:</th>            <td>y</td>        <th>  R-squared (uncentered):</th>      <td>   0.599</td>\n",
       "</tr>\n",
       "<tr>\n",
       "  <th>Model:</th>                   <td>OLS</td>       <th>  Adj. R-squared (uncentered):</th> <td>   0.596</td>\n",
       "</tr>\n",
       "<tr>\n",
       "  <th>Method:</th>             <td>Least Squares</td>  <th>  F-statistic:       </th>          <td>   235.6</td>\n",
       "</tr>\n",
       "<tr>\n",
       "  <th>Date:</th>             <td>Wed, 21 Sep 2022</td> <th>  Prob (F-statistic):</th>          <td>3.93e-33</td>\n",
       "</tr>\n",
       "<tr>\n",
       "  <th>Time:</th>                 <td>14:27:21</td>     <th>  Log-Likelihood:    </th>          <td> -341.92</td>\n",
       "</tr>\n",
       "<tr>\n",
       "  <th>No. Observations:</th>      <td>   159</td>      <th>  AIC:               </th>          <td>   685.8</td>\n",
       "</tr>\n",
       "<tr>\n",
       "  <th>Df Residuals:</th>          <td>   158</td>      <th>  BIC:               </th>          <td>   688.9</td>\n",
       "</tr>\n",
       "<tr>\n",
       "  <th>Df Model:</th>              <td>     1</td>      <th>                     </th>              <td> </td>   \n",
       "</tr>\n",
       "<tr>\n",
       "  <th>Covariance Type:</th>      <td>nonrobust</td>    <th>                     </th>              <td> </td>   \n",
       "</tr>\n",
       "</table>\n",
       "<table class=\"simpletable\">\n",
       "<tr>\n",
       "   <td></td>     <th>coef</th>     <th>std err</th>      <th>t</th>      <th>P>|t|</th>  <th>[0.025</th>    <th>0.975]</th>  \n",
       "</tr>\n",
       "<tr>\n",
       "  <th>x1</th> <td>    6.1545</td> <td>    0.401</td> <td>   15.350</td> <td> 0.000</td> <td>    5.363</td> <td>    6.946</td>\n",
       "</tr>\n",
       "</table>\n",
       "<table class=\"simpletable\">\n",
       "<tr>\n",
       "  <th>Omnibus:</th>       <td>29.978</td> <th>  Durbin-Watson:     </th> <td>   1.865</td>\n",
       "</tr>\n",
       "<tr>\n",
       "  <th>Prob(Omnibus):</th> <td> 0.000</td> <th>  Jarque-Bera (JB):  </th> <td> 116.324</td>\n",
       "</tr>\n",
       "<tr>\n",
       "  <th>Skew:</th>          <td> 0.590</td> <th>  Prob(JB):          </th> <td>5.50e-26</td>\n",
       "</tr>\n",
       "<tr>\n",
       "  <th>Kurtosis:</th>      <td> 7.021</td> <th>  Cond. No.          </th> <td>    1.00</td>\n",
       "</tr>\n",
       "</table><br/><br/>Notes:<br/>[1] R² is computed without centering (uncentered) since the model does not contain a constant.<br/>[2] Standard Errors assume that the covariance matrix of the errors is correctly specified."
      ],
      "text/plain": [
       "<class 'statsmodels.iolib.summary.Summary'>\n",
       "\"\"\"\n",
       "                                 OLS Regression Results                                \n",
       "=======================================================================================\n",
       "Dep. Variable:                      y   R-squared (uncentered):                   0.599\n",
       "Model:                            OLS   Adj. R-squared (uncentered):              0.596\n",
       "Method:                 Least Squares   F-statistic:                              235.6\n",
       "Date:                Wed, 21 Sep 2022   Prob (F-statistic):                    3.93e-33\n",
       "Time:                        14:27:21   Log-Likelihood:                         -341.92\n",
       "No. Observations:                 159   AIC:                                      685.8\n",
       "Df Residuals:                     158   BIC:                                      688.9\n",
       "Df Model:                           1                                                  \n",
       "Covariance Type:            nonrobust                                                  \n",
       "==============================================================================\n",
       "                 coef    std err          t      P>|t|      [0.025      0.975]\n",
       "------------------------------------------------------------------------------\n",
       "x1             6.1545      0.401     15.350      0.000       5.363       6.946\n",
       "==============================================================================\n",
       "Omnibus:                       29.978   Durbin-Watson:                   1.865\n",
       "Prob(Omnibus):                  0.000   Jarque-Bera (JB):              116.324\n",
       "Skew:                           0.590   Prob(JB):                     5.50e-26\n",
       "Kurtosis:                       7.021   Cond. No.                         1.00\n",
       "==============================================================================\n",
       "\n",
       "Notes:\n",
       "[1] R² is computed without centering (uncentered) since the model does not contain a constant.\n",
       "[2] Standard Errors assume that the covariance matrix of the errors is correctly specified.\n",
       "\"\"\""
      ]
     },
     "execution_count": 11,
     "metadata": {},
     "output_type": "execute_result"
    }
   ],
   "source": [
    "import statsmodels.api as sm\n",
    "\n",
    "wi =  gwr_results.model._build_wi(0, 50).reshape(-1,1)\n",
    "\n",
    "y = georgia_data['PctBach'].values.reshape((-1,1))\n",
    "x = georgia_data[['PctFB']].values\n",
    "\n",
    "\n",
    "wi = np.sqrt(wi)\n",
    "\n",
    "xi = x*wi\n",
    "yi = y*wi\n",
    "\n",
    "corr_coef = np.corrcoef(xi.flatten(), yi.flatten())\n",
    "print(corr_coef)\n",
    "\n",
    "# xi - xi.mean(axis=0) / xi.std(axis=0)\n",
    "# yi - yi.mean(axis=0) / yi.std(axis=0)\n",
    "\n",
    "\n",
    "\n",
    "sm.OLS(yi, xi).fit().summary()"
   ]
  },
  {
   "cell_type": "code",
   "execution_count": 33,
   "metadata": {},
   "outputs": [],
   "source": [
    "# gwr_results.model._build_wi(0, 116)"
   ]
  },
  {
   "cell_type": "code",
   "execution_count": 7,
   "metadata": {},
   "outputs": [],
   "source": [
    "numerator = (wi*(x - xi) * (y - yi))\n",
    "denom = (np.sqrt((x - xi)**2)) * (np.sqrt((y - yi)**2))"
   ]
  },
  {
   "cell_type": "code",
   "execution_count": 8,
   "metadata": {},
   "outputs": [
    {
     "name": "stderr",
     "output_type": "stream",
     "text": [
      "C:\\Users\\Lenovo\\AppData\\Local\\Temp\\ipykernel_9540\\699091297.py:1: RuntimeWarning: invalid value encountered in true_divide\n",
      "  r = (numerator/denom)\n"
     ]
    }
   ],
   "source": [
    "r = (numerator/denom) "
   ]
  },
  {
   "cell_type": "code",
   "execution_count": 9,
   "metadata": {},
   "outputs": [
    {
     "data": {
      "text/plain": [
       "array([nan])"
      ]
     },
     "execution_count": 9,
     "metadata": {},
     "output_type": "execute_result"
    }
   ],
   "source": [
    "r.mean(axis=0)  # correlation coefficient for each of the variables"
   ]
  },
  {
   "cell_type": "code",
   "execution_count": 10,
   "metadata": {},
   "outputs": [
    {
     "data": {
      "text/plain": [
       "1.1823563464824765"
      ]
     },
     "execution_count": 10,
     "metadata": {},
     "output_type": "execute_result"
    }
   ],
   "source": [
    "gwr_results.params[0,1]"
   ]
  },
  {
   "cell_type": "code",
   "execution_count": null,
   "metadata": {},
   "outputs": [],
   "source": []
  },
  {
   "cell_type": "code",
   "execution_count": null,
   "metadata": {},
   "outputs": [],
   "source": []
  },
  {
   "cell_type": "markdown",
   "metadata": {},
   "source": [
    "The results in the above cell shows that if one weights the data and not standardize it right after, GWR slope/coefficients != GW correlation coefficient\n",
    "\n",
    "\n",
    "But I am not able to show otherwise yet i.e standardize after weighting, because of the blockers I am having with the data formats. Which I am currently working to fix. My code is in the last cell. "
   ]
  },
  {
   "cell_type": "markdown",
   "metadata": {},
   "source": [
    "#### Global correlation coefficients"
   ]
  },
  {
   "cell_type": "code",
   "execution_count": 8,
   "metadata": {},
   "outputs": [
    {
     "name": "stdout",
     "output_type": "stream",
     "text": [
      "0.6719466884233966\n"
     ]
    },
    {
     "ename": "IndexError",
     "evalue": "index 1 is out of bounds for axis 1 with size 1",
     "output_type": "error",
     "traceback": [
      "\u001b[1;31m---------------------------------------------------------------------------\u001b[0m",
      "\u001b[1;31mIndexError\u001b[0m                                Traceback (most recent call last)",
      "Input \u001b[1;32mIn [8]\u001b[0m, in \u001b[0;36m<cell line: 3>\u001b[1;34m()\u001b[0m\n\u001b[0;32m      1\u001b[0m \u001b[38;5;28;01mfrom\u001b[39;00m \u001b[38;5;21;01mscipy\u001b[39;00m\u001b[38;5;21;01m.\u001b[39;00m\u001b[38;5;21;01mstats\u001b[39;00m \u001b[38;5;28;01mimport\u001b[39;00m pearsonr\n\u001b[0;32m      3\u001b[0m \u001b[38;5;28;01mfor\u001b[39;00m i \u001b[38;5;129;01min\u001b[39;00m \u001b[38;5;28mrange\u001b[39m(\u001b[38;5;241m3\u001b[39m):\n\u001b[1;32m----> 4\u001b[0m     corr, u \u001b[38;5;241m=\u001b[39m pearsonr(\u001b[43mg_X\u001b[49m\u001b[43m[\u001b[49m\u001b[43m:\u001b[49m\u001b[43m,\u001b[49m\u001b[43mi\u001b[49m\u001b[43m]\u001b[49m, g_y\u001b[38;5;241m.\u001b[39mflatten())\n\u001b[0;32m      6\u001b[0m     \u001b[38;5;28mprint\u001b[39m(corr)\n",
      "\u001b[1;31mIndexError\u001b[0m: index 1 is out of bounds for axis 1 with size 1"
     ]
    }
   ],
   "source": [
    "from scipy.stats import pearsonr\n",
    "\n",
    "for i in range(3):\n",
    "    corr, u = pearsonr(g_X[:,i], g_y.flatten())\n",
    "    \n",
    "    print(corr)"
   ]
  },
  {
   "cell_type": "markdown",
   "metadata": {},
   "source": [
    " The cell below has my implementation of the _compute_betas_gwr()_ function from inside of the conda environment `spglm/iwls.py` source code. "
   ]
  },
  {
   "cell_type": "code",
   "execution_count": null,
   "metadata": {},
   "outputs": [],
   "source": [
    "def _compute_betas_gwr(y, x, wi):\n",
    "    \"\"\"\n",
    "    compute MLE coefficients using iwls routine\n",
    "\n",
    "    Methods: p189, Iteratively (Re)weighted Least Squares (IWLS),\n",
    "    Fotheringham, A. S., Brunsdon, C., & Charlton, M. (2002).\n",
    "    Geographically weighted regression: the analysis of spatially varying relationships.\n",
    "    \"\"\"\n",
    "\n",
    "    xw = (x * wi).T  # weight before standardization -> result is the weighted design matrix\n",
    "\n",
    "    xw_stdz = scaler.fit_transform(xw)   # standardize the design matrix -- after weighting\n",
    "    \n",
    "    x_stdz = scaler.fit_transform(x)     # standardize x \n",
    "                    \n",
    "    y = scaler.fit_transform(y)          # standardize the y\n",
    "\n",
    "\n",
    "    xtx = np.dot(xw_stdz, x_stdz)\n",
    "    xtx_inv_xt = linalg.solve(xtx, xw_stdz)\n",
    "    betas = np.dot(xtx_inv_xt, y)\n",
    "    return betas, xtx_inv_xt"
   ]
  },
  {
   "cell_type": "code",
   "execution_count": null,
   "metadata": {},
   "outputs": [],
   "source": []
  }
 ],
 "metadata": {
  "anaconda-cloud": {},
  "interpreter": {
   "hash": "e10b10adc42ad68ca202f595df000b560bba5cf47a876c683dd1eabbda2af851"
  },
  "kernelspec": {
   "display_name": "Python 3 (ipykernel)",
   "language": "python",
   "name": "python3"
  },
  "language_info": {
   "codemirror_mode": {
    "name": "ipython",
    "version": 3
   },
   "file_extension": ".py",
   "mimetype": "text/x-python",
   "name": "python",
   "nbconvert_exporter": "python",
   "pygments_lexer": "ipython3",
   "version": "3.9.12"
  }
 },
 "nbformat": 4,
 "nbformat_minor": 1
}
