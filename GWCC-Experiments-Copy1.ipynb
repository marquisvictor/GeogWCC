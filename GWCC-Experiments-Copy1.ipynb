{
 "cells": [
  {
   "cell_type": "markdown",
   "metadata": {},
   "source": [
    "## Geographically Weighted Correlation Coefficient"
   ]
  },
  {
   "cell_type": "markdown",
   "metadata": {},
   "source": [
    "### Import relevant dependencies"
   ]
  },
  {
   "cell_type": "code",
   "execution_count": 1,
   "metadata": {},
   "outputs": [],
   "source": [
    "import pandas as pd\n",
    "import numpy as np\n",
    "import geopandas as gp\n",
    "import libpysal as ps\n",
    "from mgwr.gwr import GWR, MGWR, GWRResults\n",
    "from mgwr.sel_bw import Sel_BW\n",
    "\n",
    "\n",
    "georgia_data = pd.read_csv(ps.examples.get_path('GData_utm.csv'))\n",
    "georgia_shp = gp.read_file(ps.examples.get_path('G_utm.shp'))\n",
    "\n",
    "g_y = georgia_data['PctBach'].values.reshape((-1,1))\n",
    "g_X = georgia_data[['PctFB']].values\n",
    "u = georgia_data['X']\n",
    "v = georgia_data['Y']\n",
    "\n",
    "\n",
    "g_coords = list(zip(u,v))\n",
    "# georgia_data.head()\n",
    "\n",
    "#### Standardization Routine\n",
    "\n",
    "g_X_std = (g_X - g_X.mean(axis=0)) / g_X.std(axis=0) \n",
    "\n",
    "g_y_std = (g_y - g_y.mean(axis=0)) / g_y.std(axis=0)"
   ]
  },
  {
   "cell_type": "code",
   "execution_count": 7,
   "metadata": {
    "scrolled": false
   },
   "outputs": [
    {
     "name": "stdout",
     "output_type": "stream",
     "text": [
      "===========================================================================\n",
      "Model type                                                         Gaussian\n",
      "Number of observations:                                                 159\n",
      "Number of covariates:                                                     1\n",
      "\n",
      "Global Regression Results\n",
      "---------------------------------------------------------------------------\n",
      "Residual sum of squares:                                           7595.738\n",
      "Log-likelihood:                                                    -532.993\n",
      "AIC:                                                               1067.986\n",
      "AICc:                                                              1070.063\n",
      "BIC:                                                               6794.852\n",
      "R2:                                                                  -0.481\n",
      "Adj. R2:                                                             -0.481\n",
      "\n",
      "Variable                              Est.         SE  t(Est/SE)    p-value\n",
      "------------------------------- ---------- ---------- ---------- ----------\n",
      "X0                                   6.106      0.329     18.575      0.000\n",
      "\n",
      "Geographically Weighted Regression (GWR) Results\n",
      "---------------------------------------------------------------------------\n",
      "Spatial kernel:                                           Adaptive bisquare\n",
      "Bandwidth used:                                                      60.000\n",
      "\n",
      "Diagnostic information\n",
      "---------------------------------------------------------------------------\n",
      "Residual sum of squares:                                          19899.480\n",
      "Effective number of parameters (trace(S)):                            5.200\n",
      "Degree of freedom (n - trace(S)):                                   153.800\n",
      "Sigma estimate:                                                      11.375\n",
      "Log-likelihood:                                                    -609.560\n",
      "AIC:                                                               1231.521\n",
      "AICc:                                                              1232.109\n",
      "BIC:                                                               1250.549\n",
      "R2:                                                                  -2.880\n",
      "Adjusted R2:                                                         -3.013\n",
      "Adj. alpha (95%):                                                     0.010\n",
      "Adj. critical t value (95%):                                          2.621\n",
      "\n",
      "Summary Statistics For GWR Parameter Estimates\n",
      "---------------------------------------------------------------------------\n",
      "Variable                   Mean        STD        Min     Median        Max\n",
      "-------------------- ---------- ---------- ---------- ---------- ----------\n",
      "X0                        0.807      0.089      0.552      0.836      0.935\n",
      "===========================================================================\n",
      "\n"
     ]
    }
   ],
   "source": [
    "g_y = georgia_data['PctBach'].values.reshape((-1,1))\n",
    "g_X = georgia_data[['PctFB']].values\n",
    "u = georgia_data['X']\n",
    "v = georgia_data['Y']\n",
    "\n",
    "\n",
    "g_coords = list(zip(u,v))\n",
    "\n",
    "gwr_results = GWR(g_coords, g_y, g_X, 60, constant=False).fit()\n",
    "\n",
    "gwr_results.summary()"
   ]
  },
  {
   "cell_type": "markdown",
   "metadata": {},
   "source": [
    "### GW - Correlation Coefficient"
   ]
  },
  {
   "cell_type": "markdown",
   "metadata": {},
   "source": [
    "\n",
    "$$\n",
    "   \\frac{(x_j - \\overline x_i)(y_j - \\overline y_i) w_ij}{\\sqrt (x_j - \\overline x_i)^2 . \\sqrt (y_j - \\overline y_i)^2 }\\\n",
    "$$\n",
    "\n",
    "From Page 162-163 of [GWR - The analysis of spatially varying relationships](https://www.academia.edu/33626785/Geographically_Weighted_Regression_The_Analysis_of_Spatially_Varying_Relationships_Wiley_2002)\n"
   ]
  },
  {
   "cell_type": "markdown",
   "metadata": {},
   "source": [
    "#### Implementation"
   ]
  },
  {
   "cell_type": "raw",
   "metadata": {},
   "source": [
    "import math\n",
    "\n",
    "wi =  np.sqrt(gwr_results.model._build_wi(0, 60).reshape(-1,1))\n",
    "\n",
    "X = g_X\n",
    "Y = g_y\n",
    "\n",
    "Xmean = (sum(X*wi)/len(X))\n",
    "Ymean = (sum(Y*wi)/len(Y))\n",
    "\n",
    "x_diff = [var-Xmean for var in X]\n",
    "y_diff = [var-Ymean for var in Y]\n",
    "\n",
    "xy =([a*b for a,b in list(zip(x_diff,y_diff))])*wi\n",
    "sum_xy = sum(xy)\n",
    "\n",
    "x_square = [a*a for a in x_diff]\n",
    "y_square = [b*b for b in y_diff]\n",
    "\n",
    "sum_x_square = sum(x_square)\n",
    "sum_y_square = sum(y_square)\n",
    "\n",
    "sum_x_square_sum_y_square = sum_x_square*sum_y_square\n",
    "sqrt_sum_x_square_sum_y_square = math.sqrt(sum_x_square_sum_y_square)\n",
    "\n",
    "r = sum_xy/sqrt_sum_x_square_sum_y_square\n",
    "\n",
    "# print(wi*sum_xy)\n",
    "print(r)\n"
   ]
  },
  {
   "cell_type": "code",
   "execution_count": 4,
   "metadata": {},
   "outputs": [],
   "source": [
    "# wi =  gwr_results.model._build_wi(0, 60).reshape(-1,1)\n",
    "# wi = np.sqrt(wi)\n",
    "\n",
    "# xcc = g_X\n",
    "# xcc_mean = (xcc).mean(axis=0)\n",
    "\n",
    "# ycc = g_y\n",
    "# ycc_mean = (ycc).mean(axis=0)\n",
    "\n",
    "# numerator = (((xcc - xcc_mean) * (ycc - ycc_mean)))\n",
    "# denom = (np.sqrt((xcc - xcc_mean)**2)) * (np.sqrt((ycc - ycc_mean)**2))\n",
    "\n",
    "# r = (numerator/denom)\n",
    "# # print(r)\n",
    "# r.mean(axis=0)"
   ]
  },
  {
   "cell_type": "code",
   "execution_count": null,
   "metadata": {},
   "outputs": [],
   "source": []
  },
  {
   "cell_type": "markdown",
   "metadata": {},
   "source": [
    "### Local OLS and CorrCoef FOR 1 location (data point)"
   ]
  },
  {
   "cell_type": "code",
   "execution_count": 12,
   "metadata": {},
   "outputs": [
    {
     "name": "stdout",
     "output_type": "stream",
     "text": [
      "0.7824826835972309\n"
     ]
    },
    {
     "data": {
      "text/html": [
       "<table class=\"simpletable\">\n",
       "<caption>OLS Regression Results</caption>\n",
       "<tr>\n",
       "  <th>Dep. Variable:</th>            <td>y</td>        <th>  R-squared (uncentered):</th>      <td>   0.612</td>\n",
       "</tr>\n",
       "<tr>\n",
       "  <th>Model:</th>                   <td>OLS</td>       <th>  Adj. R-squared (uncentered):</th> <td>   0.610</td>\n",
       "</tr>\n",
       "<tr>\n",
       "  <th>Method:</th>             <td>Least Squares</td>  <th>  F-statistic:       </th>          <td>   249.5</td>\n",
       "</tr>\n",
       "<tr>\n",
       "  <th>Date:</th>             <td>Tue, 27 Sep 2022</td> <th>  Prob (F-statistic):</th>          <td>2.51e-34</td>\n",
       "</tr>\n",
       "<tr>\n",
       "  <th>Time:</th>                 <td>02:30:08</td>     <th>  Log-Likelihood:    </th>          <td> -150.29</td>\n",
       "</tr>\n",
       "<tr>\n",
       "  <th>No. Observations:</th>      <td>   159</td>      <th>  AIC:               </th>          <td>   302.6</td>\n",
       "</tr>\n",
       "<tr>\n",
       "  <th>Df Residuals:</th>          <td>   158</td>      <th>  BIC:               </th>          <td>   305.6</td>\n",
       "</tr>\n",
       "<tr>\n",
       "  <th>Df Model:</th>              <td>     1</td>      <th>                     </th>              <td> </td>   \n",
       "</tr>\n",
       "<tr>\n",
       "  <th>Covariance Type:</th>      <td>nonrobust</td>    <th>                     </th>              <td> </td>   \n",
       "</tr>\n",
       "</table>\n",
       "<table class=\"simpletable\">\n",
       "<tr>\n",
       "   <td></td>     <th>coef</th>     <th>std err</th>      <th>t</th>      <th>P>|t|</th>  <th>[0.025</th>    <th>0.975]</th>  \n",
       "</tr>\n",
       "<tr>\n",
       "  <th>x1</th> <td>    0.7825</td> <td>    0.050</td> <td>   15.796</td> <td> 0.000</td> <td>    0.685</td> <td>    0.880</td>\n",
       "</tr>\n",
       "</table>\n",
       "<table class=\"simpletable\">\n",
       "<tr>\n",
       "  <th>Omnibus:</th>       <td>69.375</td> <th>  Durbin-Watson:     </th> <td>   2.336</td>\n",
       "</tr>\n",
       "<tr>\n",
       "  <th>Prob(Omnibus):</th> <td> 0.000</td> <th>  Jarque-Bera (JB):  </th> <td> 213.110</td>\n",
       "</tr>\n",
       "<tr>\n",
       "  <th>Skew:</th>          <td> 1.764</td> <th>  Prob(JB):          </th> <td>5.29e-47</td>\n",
       "</tr>\n",
       "<tr>\n",
       "  <th>Kurtosis:</th>      <td> 7.441</td> <th>  Cond. No.          </th> <td>    1.00</td>\n",
       "</tr>\n",
       "</table><br/><br/>Notes:<br/>[1] R² is computed without centering (uncentered) since the model does not contain a constant.<br/>[2] Standard Errors assume that the covariance matrix of the errors is correctly specified."
      ],
      "text/plain": [
       "<class 'statsmodels.iolib.summary.Summary'>\n",
       "\"\"\"\n",
       "                                 OLS Regression Results                                \n",
       "=======================================================================================\n",
       "Dep. Variable:                      y   R-squared (uncentered):                   0.612\n",
       "Model:                            OLS   Adj. R-squared (uncentered):              0.610\n",
       "Method:                 Least Squares   F-statistic:                              249.5\n",
       "Date:                Tue, 27 Sep 2022   Prob (F-statistic):                    2.51e-34\n",
       "Time:                        02:30:08   Log-Likelihood:                         -150.29\n",
       "No. Observations:                 159   AIC:                                      302.6\n",
       "Df Residuals:                     158   BIC:                                      305.6\n",
       "Df Model:                           1                                                  \n",
       "Covariance Type:            nonrobust                                                  \n",
       "==============================================================================\n",
       "                 coef    std err          t      P>|t|      [0.025      0.975]\n",
       "------------------------------------------------------------------------------\n",
       "x1             0.7825      0.050     15.796      0.000       0.685       0.880\n",
       "==============================================================================\n",
       "Omnibus:                       69.375   Durbin-Watson:                   2.336\n",
       "Prob(Omnibus):                  0.000   Jarque-Bera (JB):              213.110\n",
       "Skew:                           1.764   Prob(JB):                     5.29e-47\n",
       "Kurtosis:                       7.441   Cond. No.                         1.00\n",
       "==============================================================================\n",
       "\n",
       "Notes:\n",
       "[1] R² is computed without centering (uncentered) since the model does not contain a constant.\n",
       "[2] Standard Errors assume that the covariance matrix of the errors is correctly specified.\n",
       "\"\"\""
      ]
     },
     "execution_count": 12,
     "metadata": {},
     "output_type": "execute_result"
    }
   ],
   "source": [
    "import statsmodels.api as sm\n",
    "from sklearn.preprocessing import StandardScaler\n",
    "from scipy.stats import pearsonr\n",
    "\n",
    "scaler = StandardScaler()\n",
    "\n",
    "wi_OLS =  gwr_results.model._build_wi(1, 60).reshape(-1,1)\n",
    "\n",
    "# wi_OLS = np.sqrt(wi_OLS)\n",
    "\n",
    "x = g_X\n",
    "y= g_y\n",
    "\n",
    "xi = x * wi_OLS\n",
    "yi = y * wi_OLS\n",
    "\n",
    "corr_coef, _ = pearsonr(xi[:,0].flatten(), yi.flatten())\n",
    "print(corr_coef)\n",
    "\n",
    "xi_std = scaler.fit_transform(xi)\n",
    "yi_std = scaler.fit_transform(yi)\n",
    "\n",
    "\n",
    "sm.OLS(yi_std, xi_std).fit().summary()"
   ]
  },
  {
   "cell_type": "code",
   "execution_count": 13,
   "metadata": {},
   "outputs": [
    {
     "data": {
      "text/plain": [
       "array([0.72790056])"
      ]
     },
     "execution_count": 13,
     "metadata": {},
     "output_type": "execute_result"
    }
   ],
   "source": [
    "gwr_results.params[0]  # So its not the same thing as what I am getting because inside GWR is still using the old methodology\n",
    "                        # of doing things. I need to go and update the code of GWR to get the output I am having as coefficient\n",
    "                        # in the above cell. What I am having above is the correct thing actuallu. "
   ]
  },
  {
   "cell_type": "code",
   "execution_count": null,
   "metadata": {},
   "outputs": [],
   "source": []
  },
  {
   "cell_type": "code",
   "execution_count": null,
   "metadata": {},
   "outputs": [],
   "source": []
  },
  {
   "cell_type": "markdown",
   "metadata": {},
   "source": [
    "#### Global correlation coefficients"
   ]
  },
  {
   "cell_type": "code",
   "execution_count": 6,
   "metadata": {},
   "outputs": [
    {
     "data": {
      "text/plain": [
       "0.6719466884233966"
      ]
     },
     "execution_count": 6,
     "metadata": {},
     "output_type": "execute_result"
    }
   ],
   "source": [
    "from scipy.stats import pearsonr\n",
    "\n",
    "# for i in range(3):\n",
    "#     corr, u = pearsonr(g_X[:,i], g_y.flatten())\n",
    "    \n",
    "#     print(corr)\n",
    "\n",
    "corr, u = pearsonr(g_y.flatten(), g_X.flatten() )\n",
    "corr"
   ]
  },
  {
   "cell_type": "code",
   "execution_count": null,
   "metadata": {},
   "outputs": [],
   "source": [
    "def _compute_betas_gwr(y, x, wi):\n",
    "    \"\"\"\n",
    "    compute MLE coefficients using iwls routine\n",
    "\n",
    "    Methods: p189, Iteratively (Re)weighted Least Squares (IWLS),\n",
    "    Fotheringham, A. S., Brunsdon, C., & Charlton, M. (2002).\n",
    "    Geographically weighted regression: the analysis of spatially varying relationships.\n",
    "    \"\"\"\n",
    "\n",
    "    xw = (x * wi).T  # weight before standardization -> result is the weighted design matrix\n",
    "\n",
    "    xw_stdz = scaler.fit_transform(xw)   # standardize the design matrix -- after weighting\n",
    "    \n",
    "    x_stdz = scaler.fit_transform(x)     # standardize x \n",
    "                    \n",
    "    y = scaler.fit_transform(y)          # standardize the y\n",
    "\n",
    "\n",
    "    xtx = np.dot(xw_stdz, x_stdz)\n",
    "    xtx_inv_xt = linalg.solve(xtx, xw_stdz)\n",
    "    betas = np.dot(xtx_inv_xt, y)\n",
    "    return betas, xtx_inv_xt"
   ]
  }
 ],
 "metadata": {
  "anaconda-cloud": {},
  "interpreter": {
   "hash": "e10b10adc42ad68ca202f595df000b560bba5cf47a876c683dd1eabbda2af851"
  },
  "kernelspec": {
   "display_name": "Python 3 (ipykernel)",
   "language": "python",
   "name": "python3"
  },
  "language_info": {
   "codemirror_mode": {
    "name": "ipython",
    "version": 3
   },
   "file_extension": ".py",
   "mimetype": "text/x-python",
   "name": "python",
   "nbconvert_exporter": "python",
   "pygments_lexer": "ipython3",
   "version": "3.9.12"
  }
 },
 "nbformat": 4,
 "nbformat_minor": 1
}
